{
  "nbformat": 4,
  "nbformat_minor": 0,
  "metadata": {
    "colab": {
      "provenance": [],
      "authorship_tag": "ABX9TyOSHimaN+jbYIaFGrNPAfRq",
      "include_colab_link": true
    },
    "kernelspec": {
      "name": "python3",
      "display_name": "Python 3"
    },
    "language_info": {
      "name": "python"
    }
  },
  "cells": [
    {
      "cell_type": "markdown",
      "metadata": {
        "id": "view-in-github",
        "colab_type": "text"
      },
      "source": [
        "<a href=\"https://colab.research.google.com/github/Puneeth-Abhishek-6622/Speech-Emotion-Recognition-/blob/main/Kannada.ipynb\" target=\"_parent\"><img src=\"https://colab.research.google.com/assets/colab-badge.svg\" alt=\"Open In Colab\"/></a>"
      ]
    },
    {
      "cell_type": "code",
      "source": [
        "from google.colab import drive\n",
        "drive.mount('/content/drive')"
      ],
      "metadata": {
        "id": "DL_zt6QC98ZT",
        "colab": {
          "base_uri": "https://localhost:8080/"
        },
        "outputId": "70dc89a8-fcc5-4f1a-afba-d59741e6296c"
      },
      "execution_count": 1,
      "outputs": [
        {
          "output_type": "stream",
          "name": "stdout",
          "text": [
            "Mounted at /content/drive\n"
          ]
        }
      ]
    },
    {
      "cell_type": "code",
      "source": [
        "dataset_path = \"/content/drive/MyDrive/kannada dataset\"\n",
        "output_path = \"/content/drive/MyDrive/kannada_100 samples\""
      ],
      "metadata": {
        "id": "Y1q-WWcxUVSQ"
      },
      "execution_count": null,
      "outputs": []
    },
    {
      "cell_type": "markdown",
      "source": [
        "16 samples each for Anger & Sadness\n",
        "\n",
        "17 samples each for Surprise, Happiness, Fear & Neutral\n"
      ],
      "metadata": {
        "id": "8hsLswfKVF0m"
      }
    },
    {
      "cell_type": "code",
      "source": [
        "import os\n",
        "import shutil\n",
        "import random\n",
        "\n",
        "# Define dataset path and output directory\n",
        "dataset_path = \"/content/drive/MyDrive/kannada dataset\"\n",
        "output_path = \"/content/drive/MyDrive/kannada_100_samples\"\n",
        "\n",
        "# Ensure output directory exists\n",
        "os.makedirs(output_path, exist_ok=True)\n",
        "\n",
        "# Mapping emotion numbers to desired count\n",
        "emotion_counts = {\"01\": 16, \"02\": 16, \"03\": 17, \"04\": 17, \"05\": 17, \"06\": 17}\n",
        "\n",
        "# Organize files by emotion\n",
        "emotion_files = {key: [] for key in emotion_counts.keys()}\n",
        "\n",
        "# Scan dataset folder\n",
        "for file in os.listdir(dataset_path):\n",
        "    if file.endswith(\".wav\"):\n",
        "        parts = file.split(\"-\")  # Extract emotion from filename\n",
        "        if len(parts) >= 3:\n",
        "            emotion_code = parts[1]  # EE part of AA-EE-SS.wav\n",
        "            if emotion_code in emotion_files:\n",
        "                emotion_files[emotion_code].append(file)\n",
        "\n",
        "# Select required number of files per emotion\n",
        "selected_files = []\n",
        "for emotion, files in emotion_files.items():\n",
        "    random.shuffle(files)  # Shuffle to ensure randomness\n",
        "    selected_files.extend(files[:emotion_counts[emotion]])  # Pick required count\n",
        "\n",
        "# Copy selected files to output folder\n",
        "for file in selected_files:\n",
        "    src = os.path.join(dataset_path, file)\n",
        "    dst = os.path.join(output_path, file)\n",
        "    shutil.copy(src, dst)\n",
        "\n",
        "print(f\"✅ Extracted {len(selected_files)} samples to {output_path}\")\n"
      ],
      "metadata": {
        "colab": {
          "base_uri": "https://localhost:8080/"
        },
        "id": "afkkLhOdVLrK",
        "outputId": "39812f91-c94c-4ca8-943d-81fa4b9453aa"
      },
      "execution_count": 2,
      "outputs": [
        {
          "output_type": "stream",
          "name": "stdout",
          "text": [
            "✅ Extracted 100 samples to /content/drive/MyDrive/kannada_100_samples\n"
          ]
        }
      ]
    },
    {
      "cell_type": "markdown",
      "source": [
        "Dataset Distribtuion"
      ],
      "metadata": {
        "id": "M5hbc5FSVnVI"
      }
    },
    {
      "cell_type": "code",
      "source": [
        "import os\n",
        "from collections import Counter\n",
        "\n",
        "# Define dataset path\n",
        "dataset_path = \"/content/drive/MyDrive/kannada_100_samples\"\n",
        "\n",
        "# Initialize counter\n",
        "emotion_counts = Counter()\n",
        "\n",
        "# Scan dataset folder\n",
        "for file in os.listdir(dataset_path):\n",
        "    if file.endswith(\".wav\"):\n",
        "        parts = file.split(\"-\")  # Extract emotion from filename\n",
        "        if len(parts) >= 3:\n",
        "            emotion_code = parts[1]  # EE part of AA-EE-SS.wav\n",
        "            emotion_counts[emotion_code] += 1\n",
        "\n",
        "# Emotion Mapping\n",
        "emotion_labels = {\n",
        "    \"01\": \"Anger\",\n",
        "    \"02\": \"Sadness\",\n",
        "    \"03\": \"Surprise\",\n",
        "    \"04\": \"Happiness\",\n",
        "    \"05\": \"Fear\",\n",
        "    \"06\": \"Neutral\"\n",
        "}\n",
        "\n",
        "# Print distribution\n",
        "print(\"Emotion Distribution in Kannada 100 Samples Dataset:\")\n",
        "for code, count in sorted(emotion_counts.items()):\n",
        "    emotion_name = emotion_labels.get(code, \"Unknown\")\n",
        "    print(f\"{emotion_name}: {count} samples\")\n"
      ],
      "metadata": {
        "colab": {
          "base_uri": "https://localhost:8080/"
        },
        "id": "mqgtLHm8Vo0u",
        "outputId": "dd6869a9-7ec3-4191-ce6b-1388de13e3f9"
      },
      "execution_count": 3,
      "outputs": [
        {
          "output_type": "stream",
          "name": "stdout",
          "text": [
            "Emotion Distribution in Kannada 100 Samples Dataset:\n",
            "Anger: 16 samples\n",
            "Sadness: 16 samples\n",
            "Surprise: 17 samples\n",
            "Happiness: 17 samples\n",
            "Fear: 17 samples\n",
            "Neutral: 17 samples\n"
          ]
        }
      ]
    },
    {
      "cell_type": "markdown",
      "source": [
        "Feature Extraction"
      ],
      "metadata": {
        "id": "8LHOIX3kV4mY"
      }
    },
    {
      "cell_type": "code",
      "source": [
        "import librosa\n",
        "import numpy as np\n",
        "import pandas as pd\n",
        "import os\n",
        "\n",
        "# Define dataset path\n",
        "dataset_path = \"/content/drive/MyDrive/kannada_100_samples\"\n",
        "output_csv = \"/content/drive/MyDrive/kannada_features.csv\"\n",
        "\n",
        "# Emotion mapping from filename convention\n",
        "emotion_mapping = {\n",
        "    \"01\": 0,  # Anger\n",
        "    \"02\": 4,  # Sadness\n",
        "    \"03\": 2,  # Surprise (mapped to Happy in previous datasets)\n",
        "    \"04\": 2,  # Happiness\n",
        "    \"05\": 1,  # Fear\n",
        "    \"06\": 3   # Neutral\n",
        "}\n",
        "\n",
        "# Feature extraction function\n",
        "def extract_features(file_path):\n",
        "    y, sr = librosa.load(file_path, sr=16000)  # Load audio\n",
        "\n",
        "    # Compute features\n",
        "    zcr = np.mean(librosa.feature.zero_crossing_rate(y))\n",
        "    rmse = np.mean(librosa.feature.rms(y=y))\n",
        "    mfccs = np.mean(librosa.feature.mfcc(y=y, sr=sr, n_mfcc=40), axis=1)\n",
        "    mel = np.mean(librosa.feature.melspectrogram(y=y, sr=sr, n_mels=128), axis=1)\n",
        "\n",
        "    # Concatenate all features into one array\n",
        "    features = np.hstack([mfccs, mel, zcr, rmse])\n",
        "    return features\n",
        "\n",
        "# Initialize dataframe list\n",
        "data = []\n",
        "\n",
        "# Process each file\n",
        "for file in os.listdir(dataset_path):\n",
        "    if file.endswith(\".wav\"):\n",
        "        file_path = os.path.join(dataset_path, file)\n",
        "        parts = file.split(\"-\")\n",
        "\n",
        "        if len(parts) >= 3:\n",
        "            emotion_code = parts[1]  # Extract emotion from filename\n",
        "            emotion_label = emotion_mapping.get(emotion_code, -1)  # Get mapped label\n",
        "\n",
        "            if emotion_label != -1:\n",
        "                features = extract_features(file_path)\n",
        "                data.append(np.append(features, emotion_label))\n",
        "\n",
        "# Create DataFrame\n",
        "columns = [f\"MFCC_{i}\" for i in range(40)] + [f\"Mel_{i}\" for i in range(128)] + [\"ZCR\", \"RMSE\", \"Emotion\"]\n",
        "df_kannada = pd.DataFrame(data, columns=columns)\n",
        "\n",
        "# Save to CSV\n",
        "df_kannada.to_csv(output_csv, index=False)\n",
        "print(f\"Feature extraction complete. Saved to {output_csv}\")\n"
      ],
      "metadata": {
        "colab": {
          "base_uri": "https://localhost:8080/"
        },
        "id": "FoguFL6PV55U",
        "outputId": "73837c6d-d781-4f37-fca2-b66d939a97ce"
      },
      "execution_count": 13,
      "outputs": [
        {
          "output_type": "stream",
          "name": "stdout",
          "text": [
            "Feature extraction complete. Saved to /content/drive/MyDrive/kannada_features.csv\n"
          ]
        }
      ]
    },
    {
      "cell_type": "code",
      "source": [
        "df_kannada.head()"
      ],
      "metadata": {
        "colab": {
          "base_uri": "https://localhost:8080/",
          "height": 255
        },
        "id": "s_9ky5CaWooX",
        "outputId": "85a329ac-8818-4dff-bcf2-f364d66bb026"
      },
      "execution_count": 14,
      "outputs": [
        {
          "output_type": "execute_result",
          "data": {
            "text/plain": [
              "       MFCC_0      MFCC_1     MFCC_2     MFCC_3     MFCC_4     MFCC_5  \\\n",
              "0 -184.974930  109.272942   3.318561  31.888645  -9.556284 -17.089952   \n",
              "1 -380.366913   64.282349  -7.268876  24.289621   2.299709  -9.457098   \n",
              "2 -452.157715   69.683388  14.694557  32.453037 -16.511950  -0.882377   \n",
              "3 -195.148010   72.846550  10.965631  27.188097 -18.668703   0.928975   \n",
              "4 -293.174957   69.687881 -28.678059  26.807587 -14.607823 -12.047147   \n",
              "\n",
              "      MFCC_6     MFCC_7     MFCC_8    MFCC_9  ...   Mel_121   Mel_122  \\\n",
              "0 -22.274029   0.555418  -7.116153 -0.174785  ...  0.094565  0.110699   \n",
              "1 -24.159002  -8.645685  -6.868415 -1.544703  ...  0.005491  0.003288   \n",
              "2  -9.646268 -15.000087 -19.464134 -3.085853  ...  0.000555  0.000327   \n",
              "3  -6.489493   7.185298  -8.325960 -8.637900  ...  0.022929  0.015281   \n",
              "4 -26.257170 -21.017145  -9.563683 -4.031392  ...  0.004880  0.009098   \n",
              "\n",
              "    Mel_123   Mel_124   Mel_125   Mel_126   Mel_127       ZCR      RMSE  \\\n",
              "0  0.098923  0.019076  0.027043  0.015498  0.001121  0.087505  0.189013   \n",
              "1  0.005338  0.003725  0.002587  0.001087  0.000108  0.143466  0.017118   \n",
              "2  0.000330  0.000744  0.000712  0.000433  0.000027  0.145203  0.013098   \n",
              "3  0.025593  0.020700  0.017474  0.006824  0.000264  0.108162  0.098987   \n",
              "4  0.007091  0.001670  0.001496  0.000663  0.000052  0.140098  0.045623   \n",
              "\n",
              "   Emotion  \n",
              "0      0.0  \n",
              "1      0.0  \n",
              "2      0.0  \n",
              "3      0.0  \n",
              "4      0.0  \n",
              "\n",
              "[5 rows x 171 columns]"
            ],
            "text/html": [
              "\n",
              "  <div id=\"df-3597a853-4d7c-4b4c-93ac-94b5256ced3c\" class=\"colab-df-container\">\n",
              "    <div>\n",
              "<style scoped>\n",
              "    .dataframe tbody tr th:only-of-type {\n",
              "        vertical-align: middle;\n",
              "    }\n",
              "\n",
              "    .dataframe tbody tr th {\n",
              "        vertical-align: top;\n",
              "    }\n",
              "\n",
              "    .dataframe thead th {\n",
              "        text-align: right;\n",
              "    }\n",
              "</style>\n",
              "<table border=\"1\" class=\"dataframe\">\n",
              "  <thead>\n",
              "    <tr style=\"text-align: right;\">\n",
              "      <th></th>\n",
              "      <th>MFCC_0</th>\n",
              "      <th>MFCC_1</th>\n",
              "      <th>MFCC_2</th>\n",
              "      <th>MFCC_3</th>\n",
              "      <th>MFCC_4</th>\n",
              "      <th>MFCC_5</th>\n",
              "      <th>MFCC_6</th>\n",
              "      <th>MFCC_7</th>\n",
              "      <th>MFCC_8</th>\n",
              "      <th>MFCC_9</th>\n",
              "      <th>...</th>\n",
              "      <th>Mel_121</th>\n",
              "      <th>Mel_122</th>\n",
              "      <th>Mel_123</th>\n",
              "      <th>Mel_124</th>\n",
              "      <th>Mel_125</th>\n",
              "      <th>Mel_126</th>\n",
              "      <th>Mel_127</th>\n",
              "      <th>ZCR</th>\n",
              "      <th>RMSE</th>\n",
              "      <th>Emotion</th>\n",
              "    </tr>\n",
              "  </thead>\n",
              "  <tbody>\n",
              "    <tr>\n",
              "      <th>0</th>\n",
              "      <td>-184.974930</td>\n",
              "      <td>109.272942</td>\n",
              "      <td>3.318561</td>\n",
              "      <td>31.888645</td>\n",
              "      <td>-9.556284</td>\n",
              "      <td>-17.089952</td>\n",
              "      <td>-22.274029</td>\n",
              "      <td>0.555418</td>\n",
              "      <td>-7.116153</td>\n",
              "      <td>-0.174785</td>\n",
              "      <td>...</td>\n",
              "      <td>0.094565</td>\n",
              "      <td>0.110699</td>\n",
              "      <td>0.098923</td>\n",
              "      <td>0.019076</td>\n",
              "      <td>0.027043</td>\n",
              "      <td>0.015498</td>\n",
              "      <td>0.001121</td>\n",
              "      <td>0.087505</td>\n",
              "      <td>0.189013</td>\n",
              "      <td>0.0</td>\n",
              "    </tr>\n",
              "    <tr>\n",
              "      <th>1</th>\n",
              "      <td>-380.366913</td>\n",
              "      <td>64.282349</td>\n",
              "      <td>-7.268876</td>\n",
              "      <td>24.289621</td>\n",
              "      <td>2.299709</td>\n",
              "      <td>-9.457098</td>\n",
              "      <td>-24.159002</td>\n",
              "      <td>-8.645685</td>\n",
              "      <td>-6.868415</td>\n",
              "      <td>-1.544703</td>\n",
              "      <td>...</td>\n",
              "      <td>0.005491</td>\n",
              "      <td>0.003288</td>\n",
              "      <td>0.005338</td>\n",
              "      <td>0.003725</td>\n",
              "      <td>0.002587</td>\n",
              "      <td>0.001087</td>\n",
              "      <td>0.000108</td>\n",
              "      <td>0.143466</td>\n",
              "      <td>0.017118</td>\n",
              "      <td>0.0</td>\n",
              "    </tr>\n",
              "    <tr>\n",
              "      <th>2</th>\n",
              "      <td>-452.157715</td>\n",
              "      <td>69.683388</td>\n",
              "      <td>14.694557</td>\n",
              "      <td>32.453037</td>\n",
              "      <td>-16.511950</td>\n",
              "      <td>-0.882377</td>\n",
              "      <td>-9.646268</td>\n",
              "      <td>-15.000087</td>\n",
              "      <td>-19.464134</td>\n",
              "      <td>-3.085853</td>\n",
              "      <td>...</td>\n",
              "      <td>0.000555</td>\n",
              "      <td>0.000327</td>\n",
              "      <td>0.000330</td>\n",
              "      <td>0.000744</td>\n",
              "      <td>0.000712</td>\n",
              "      <td>0.000433</td>\n",
              "      <td>0.000027</td>\n",
              "      <td>0.145203</td>\n",
              "      <td>0.013098</td>\n",
              "      <td>0.0</td>\n",
              "    </tr>\n",
              "    <tr>\n",
              "      <th>3</th>\n",
              "      <td>-195.148010</td>\n",
              "      <td>72.846550</td>\n",
              "      <td>10.965631</td>\n",
              "      <td>27.188097</td>\n",
              "      <td>-18.668703</td>\n",
              "      <td>0.928975</td>\n",
              "      <td>-6.489493</td>\n",
              "      <td>7.185298</td>\n",
              "      <td>-8.325960</td>\n",
              "      <td>-8.637900</td>\n",
              "      <td>...</td>\n",
              "      <td>0.022929</td>\n",
              "      <td>0.015281</td>\n",
              "      <td>0.025593</td>\n",
              "      <td>0.020700</td>\n",
              "      <td>0.017474</td>\n",
              "      <td>0.006824</td>\n",
              "      <td>0.000264</td>\n",
              "      <td>0.108162</td>\n",
              "      <td>0.098987</td>\n",
              "      <td>0.0</td>\n",
              "    </tr>\n",
              "    <tr>\n",
              "      <th>4</th>\n",
              "      <td>-293.174957</td>\n",
              "      <td>69.687881</td>\n",
              "      <td>-28.678059</td>\n",
              "      <td>26.807587</td>\n",
              "      <td>-14.607823</td>\n",
              "      <td>-12.047147</td>\n",
              "      <td>-26.257170</td>\n",
              "      <td>-21.017145</td>\n",
              "      <td>-9.563683</td>\n",
              "      <td>-4.031392</td>\n",
              "      <td>...</td>\n",
              "      <td>0.004880</td>\n",
              "      <td>0.009098</td>\n",
              "      <td>0.007091</td>\n",
              "      <td>0.001670</td>\n",
              "      <td>0.001496</td>\n",
              "      <td>0.000663</td>\n",
              "      <td>0.000052</td>\n",
              "      <td>0.140098</td>\n",
              "      <td>0.045623</td>\n",
              "      <td>0.0</td>\n",
              "    </tr>\n",
              "  </tbody>\n",
              "</table>\n",
              "<p>5 rows × 171 columns</p>\n",
              "</div>\n",
              "    <div class=\"colab-df-buttons\">\n",
              "\n",
              "  <div class=\"colab-df-container\">\n",
              "    <button class=\"colab-df-convert\" onclick=\"convertToInteractive('df-3597a853-4d7c-4b4c-93ac-94b5256ced3c')\"\n",
              "            title=\"Convert this dataframe to an interactive table.\"\n",
              "            style=\"display:none;\">\n",
              "\n",
              "  <svg xmlns=\"http://www.w3.org/2000/svg\" height=\"24px\" viewBox=\"0 -960 960 960\">\n",
              "    <path d=\"M120-120v-720h720v720H120Zm60-500h600v-160H180v160Zm220 220h160v-160H400v160Zm0 220h160v-160H400v160ZM180-400h160v-160H180v160Zm440 0h160v-160H620v160ZM180-180h160v-160H180v160Zm440 0h160v-160H620v160Z\"/>\n",
              "  </svg>\n",
              "    </button>\n",
              "\n",
              "  <style>\n",
              "    .colab-df-container {\n",
              "      display:flex;\n",
              "      gap: 12px;\n",
              "    }\n",
              "\n",
              "    .colab-df-convert {\n",
              "      background-color: #E8F0FE;\n",
              "      border: none;\n",
              "      border-radius: 50%;\n",
              "      cursor: pointer;\n",
              "      display: none;\n",
              "      fill: #1967D2;\n",
              "      height: 32px;\n",
              "      padding: 0 0 0 0;\n",
              "      width: 32px;\n",
              "    }\n",
              "\n",
              "    .colab-df-convert:hover {\n",
              "      background-color: #E2EBFA;\n",
              "      box-shadow: 0px 1px 2px rgba(60, 64, 67, 0.3), 0px 1px 3px 1px rgba(60, 64, 67, 0.15);\n",
              "      fill: #174EA6;\n",
              "    }\n",
              "\n",
              "    .colab-df-buttons div {\n",
              "      margin-bottom: 4px;\n",
              "    }\n",
              "\n",
              "    [theme=dark] .colab-df-convert {\n",
              "      background-color: #3B4455;\n",
              "      fill: #D2E3FC;\n",
              "    }\n",
              "\n",
              "    [theme=dark] .colab-df-convert:hover {\n",
              "      background-color: #434B5C;\n",
              "      box-shadow: 0px 1px 3px 1px rgba(0, 0, 0, 0.15);\n",
              "      filter: drop-shadow(0px 1px 2px rgba(0, 0, 0, 0.3));\n",
              "      fill: #FFFFFF;\n",
              "    }\n",
              "  </style>\n",
              "\n",
              "    <script>\n",
              "      const buttonEl =\n",
              "        document.querySelector('#df-3597a853-4d7c-4b4c-93ac-94b5256ced3c button.colab-df-convert');\n",
              "      buttonEl.style.display =\n",
              "        google.colab.kernel.accessAllowed ? 'block' : 'none';\n",
              "\n",
              "      async function convertToInteractive(key) {\n",
              "        const element = document.querySelector('#df-3597a853-4d7c-4b4c-93ac-94b5256ced3c');\n",
              "        const dataTable =\n",
              "          await google.colab.kernel.invokeFunction('convertToInteractive',\n",
              "                                                    [key], {});\n",
              "        if (!dataTable) return;\n",
              "\n",
              "        const docLinkHtml = 'Like what you see? Visit the ' +\n",
              "          '<a target=\"_blank\" href=https://colab.research.google.com/notebooks/data_table.ipynb>data table notebook</a>'\n",
              "          + ' to learn more about interactive tables.';\n",
              "        element.innerHTML = '';\n",
              "        dataTable['output_type'] = 'display_data';\n",
              "        await google.colab.output.renderOutput(dataTable, element);\n",
              "        const docLink = document.createElement('div');\n",
              "        docLink.innerHTML = docLinkHtml;\n",
              "        element.appendChild(docLink);\n",
              "      }\n",
              "    </script>\n",
              "  </div>\n",
              "\n",
              "\n",
              "<div id=\"df-71a85580-1a70-4752-a650-ebd3dae5eeac\">\n",
              "  <button class=\"colab-df-quickchart\" onclick=\"quickchart('df-71a85580-1a70-4752-a650-ebd3dae5eeac')\"\n",
              "            title=\"Suggest charts\"\n",
              "            style=\"display:none;\">\n",
              "\n",
              "<svg xmlns=\"http://www.w3.org/2000/svg\" height=\"24px\"viewBox=\"0 0 24 24\"\n",
              "     width=\"24px\">\n",
              "    <g>\n",
              "        <path d=\"M19 3H5c-1.1 0-2 .9-2 2v14c0 1.1.9 2 2 2h14c1.1 0 2-.9 2-2V5c0-1.1-.9-2-2-2zM9 17H7v-7h2v7zm4 0h-2V7h2v10zm4 0h-2v-4h2v4z\"/>\n",
              "    </g>\n",
              "</svg>\n",
              "  </button>\n",
              "\n",
              "<style>\n",
              "  .colab-df-quickchart {\n",
              "      --bg-color: #E8F0FE;\n",
              "      --fill-color: #1967D2;\n",
              "      --hover-bg-color: #E2EBFA;\n",
              "      --hover-fill-color: #174EA6;\n",
              "      --disabled-fill-color: #AAA;\n",
              "      --disabled-bg-color: #DDD;\n",
              "  }\n",
              "\n",
              "  [theme=dark] .colab-df-quickchart {\n",
              "      --bg-color: #3B4455;\n",
              "      --fill-color: #D2E3FC;\n",
              "      --hover-bg-color: #434B5C;\n",
              "      --hover-fill-color: #FFFFFF;\n",
              "      --disabled-bg-color: #3B4455;\n",
              "      --disabled-fill-color: #666;\n",
              "  }\n",
              "\n",
              "  .colab-df-quickchart {\n",
              "    background-color: var(--bg-color);\n",
              "    border: none;\n",
              "    border-radius: 50%;\n",
              "    cursor: pointer;\n",
              "    display: none;\n",
              "    fill: var(--fill-color);\n",
              "    height: 32px;\n",
              "    padding: 0;\n",
              "    width: 32px;\n",
              "  }\n",
              "\n",
              "  .colab-df-quickchart:hover {\n",
              "    background-color: var(--hover-bg-color);\n",
              "    box-shadow: 0 1px 2px rgba(60, 64, 67, 0.3), 0 1px 3px 1px rgba(60, 64, 67, 0.15);\n",
              "    fill: var(--button-hover-fill-color);\n",
              "  }\n",
              "\n",
              "  .colab-df-quickchart-complete:disabled,\n",
              "  .colab-df-quickchart-complete:disabled:hover {\n",
              "    background-color: var(--disabled-bg-color);\n",
              "    fill: var(--disabled-fill-color);\n",
              "    box-shadow: none;\n",
              "  }\n",
              "\n",
              "  .colab-df-spinner {\n",
              "    border: 2px solid var(--fill-color);\n",
              "    border-color: transparent;\n",
              "    border-bottom-color: var(--fill-color);\n",
              "    animation:\n",
              "      spin 1s steps(1) infinite;\n",
              "  }\n",
              "\n",
              "  @keyframes spin {\n",
              "    0% {\n",
              "      border-color: transparent;\n",
              "      border-bottom-color: var(--fill-color);\n",
              "      border-left-color: var(--fill-color);\n",
              "    }\n",
              "    20% {\n",
              "      border-color: transparent;\n",
              "      border-left-color: var(--fill-color);\n",
              "      border-top-color: var(--fill-color);\n",
              "    }\n",
              "    30% {\n",
              "      border-color: transparent;\n",
              "      border-left-color: var(--fill-color);\n",
              "      border-top-color: var(--fill-color);\n",
              "      border-right-color: var(--fill-color);\n",
              "    }\n",
              "    40% {\n",
              "      border-color: transparent;\n",
              "      border-right-color: var(--fill-color);\n",
              "      border-top-color: var(--fill-color);\n",
              "    }\n",
              "    60% {\n",
              "      border-color: transparent;\n",
              "      border-right-color: var(--fill-color);\n",
              "    }\n",
              "    80% {\n",
              "      border-color: transparent;\n",
              "      border-right-color: var(--fill-color);\n",
              "      border-bottom-color: var(--fill-color);\n",
              "    }\n",
              "    90% {\n",
              "      border-color: transparent;\n",
              "      border-bottom-color: var(--fill-color);\n",
              "    }\n",
              "  }\n",
              "</style>\n",
              "\n",
              "  <script>\n",
              "    async function quickchart(key) {\n",
              "      const quickchartButtonEl =\n",
              "        document.querySelector('#' + key + ' button');\n",
              "      quickchartButtonEl.disabled = true;  // To prevent multiple clicks.\n",
              "      quickchartButtonEl.classList.add('colab-df-spinner');\n",
              "      try {\n",
              "        const charts = await google.colab.kernel.invokeFunction(\n",
              "            'suggestCharts', [key], {});\n",
              "      } catch (error) {\n",
              "        console.error('Error during call to suggestCharts:', error);\n",
              "      }\n",
              "      quickchartButtonEl.classList.remove('colab-df-spinner');\n",
              "      quickchartButtonEl.classList.add('colab-df-quickchart-complete');\n",
              "    }\n",
              "    (() => {\n",
              "      let quickchartButtonEl =\n",
              "        document.querySelector('#df-71a85580-1a70-4752-a650-ebd3dae5eeac button');\n",
              "      quickchartButtonEl.style.display =\n",
              "        google.colab.kernel.accessAllowed ? 'block' : 'none';\n",
              "    })();\n",
              "  </script>\n",
              "</div>\n",
              "\n",
              "    </div>\n",
              "  </div>\n"
            ],
            "application/vnd.google.colaboratory.intrinsic+json": {
              "type": "dataframe",
              "variable_name": "df_kannada"
            }
          },
          "metadata": {},
          "execution_count": 14
        }
      ]
    },
    {
      "cell_type": "code",
      "source": [
        "df_kannada = df_kannada.drop(columns=['Emotion'])\n"
      ],
      "metadata": {
        "id": "IunUKyPYW2ms"
      },
      "execution_count": 8,
      "outputs": []
    },
    {
      "cell_type": "code",
      "source": [
        "df_kannada.shape"
      ],
      "metadata": {
        "colab": {
          "base_uri": "https://localhost:8080/"
        },
        "id": "WITDttNQWqyS",
        "outputId": "f5c54489-09db-4d6f-ce70-9fc1437712dd"
      },
      "execution_count": 9,
      "outputs": [
        {
          "output_type": "execute_result",
          "data": {
            "text/plain": [
              "(100, 170)"
            ]
          },
          "metadata": {},
          "execution_count": 9
        }
      ]
    },
    {
      "cell_type": "code",
      "source": [
        "df_kannada.to_csv(\"/content/drive/MyDrive/kannada_features_no_emotion.csv\", index=False)\n"
      ],
      "metadata": {
        "id": "qqMy4CcqW3ra"
      },
      "execution_count": 10,
      "outputs": []
    },
    {
      "cell_type": "markdown",
      "source": [
        "#Verifying the Model performance on Kannada dataset"
      ],
      "metadata": {
        "id": "8nnJgfbNXYxO"
      }
    },
    {
      "cell_type": "code",
      "source": [
        "\n",
        "from sklearn.preprocessing import StandardScaler\n",
        "\n",
        "df = df_kannada\n",
        "# Separate features (X) and target labels (y)\n",
        "X = df.drop(columns=['Emotion'])  # Drop the 'Emotion' column\n",
        "y = df['Emotion']  # Store the labels separately\n",
        "\n",
        "# Normalize features\n",
        "scaler = StandardScaler()\n",
        "X_scaled = scaler.fit_transform(X)  # Fit & transform the features\n",
        "\n",
        "# Convert back to DataFrame (optional, for better readability)\n",
        "df_scaled = pd.DataFrame(X_scaled, columns=X.columns)\n",
        "df_scaled['Emotion'] = y  # Re-add the target column\n",
        "\n",
        "# Print sample normalized features\n",
        "print(f\"Sample normalized features (first row): {df_scaled.iloc[0].values}\")"
      ],
      "metadata": {
        "colab": {
          "base_uri": "https://localhost:8080/"
        },
        "id": "MFyw4JxHXedE",
        "outputId": "3b60a3a1-9dc7-447d-e78d-14c0ca88d5d0"
      },
      "execution_count": 16,
      "outputs": [
        {
          "output_type": "stream",
          "name": "stdout",
          "text": [
            "Sample normalized features (first row): [ 1.41717772  1.21559676  0.07280123  0.57549703 -0.10198523 -0.8077392\n",
            " -0.48385643  0.44888829  0.62388689  0.6955897   0.41250656  0.19972222\n",
            "  2.117203    1.66141863  0.10920666 -0.88462292  1.93057058 -1.34987419\n",
            "  0.68442131 -0.81982165 -0.70697841 -0.76145259 -0.3474825  -0.76053937\n",
            " -0.15686583 -1.19431984 -0.15603213 -0.72317669 -1.20327509 -0.57366944\n",
            " -1.38911934 -0.34888023 -1.2597617  -0.60930607 -1.13880928 -0.55038735\n",
            "  0.05695931 -0.60260035  1.66882032  2.53758709  0.71977223  0.25914323\n",
            " -0.17402379 -0.43512584  0.09349246  6.6247072   3.64699951 -0.12678206\n",
            " -0.54606432 -0.55494081 -0.40120677  1.31693041  2.45098313  0.41933234\n",
            "  0.15813364  0.73122412  0.20149852  2.02055832  5.32933033  4.75938141\n",
            "  2.49274161  2.12162109  1.74733151  1.62411244  4.74832359  7.68928212\n",
            "  3.80447336  2.21268925  6.2333096   4.58447197  5.1506235   6.93181781\n",
            "  1.30693735  0.58011968  5.69712932  6.14005844  2.21097901  1.97295129\n",
            "  0.93764085  0.67315202  0.73143546  1.20358758  0.87237665  1.75331268\n",
            "  0.53162302  0.18446326  0.01577652 -0.05488732  0.05262094  0.23250661\n",
            "  0.28876855  0.01692741 -0.18337685 -0.01501454  0.39250327  0.87939966\n",
            "  0.51048897  1.04228192  4.28003812  4.01650797  1.20048142  1.81273061\n",
            "  5.26398222  2.66484249  1.48547063  1.85876649  1.50588965  1.56003477\n",
            "  0.61499858  0.69226141  0.50696169  0.32440957  0.41360805  0.22754008\n",
            "  0.37414574  0.33489473  0.23238627  0.53246873  0.82102555  0.92939345\n",
            "  0.76499304  1.9396525   2.68527717  1.87598617  1.32833052  2.05573798\n",
            "  2.74542405  1.61370882  0.95692999  0.55865882  0.39589055 -0.02770142\n",
            "  0.15824041 -0.08348331 -0.05340339 -0.04493245  0.04891339  0.32415795\n",
            "  0.44807962  0.74773512  0.3459685   0.31355386  0.42276453 -0.12806297\n",
            " -0.25057823 -0.15921433  0.13838684  0.02475631  0.07874572  0.10170319\n",
            "  0.22899043  0.11634207  0.7152672   2.00442427  4.45661125  3.90800916\n",
            "  1.940515    1.5025464   1.03291645  2.18507127  3.52243988  2.50385754\n",
            "  2.15196595  2.38530236  0.46016174  1.39494791  2.69425251  4.2273381\n",
            " -0.62864539  2.43923496  0.        ]\n"
          ]
        }
      ]
    },
    {
      "cell_type": "markdown",
      "source": [
        "Loading the model"
      ],
      "metadata": {
        "id": "yfYapGGrYNns"
      }
    },
    {
      "cell_type": "code",
      "source": [
        "from tensorflow.keras.models import load_model\n",
        "\n",
        "# Load your trained model (update path if necessary)a\n",
        "model = load_model(\"/content/drive/MyDrive/speech_emotion_recognition_model.h5\")"
      ],
      "metadata": {
        "colab": {
          "base_uri": "https://localhost:8080/"
        },
        "id": "q-5QX0w_YNG2",
        "outputId": "57dcde19-add2-45aa-fea5-f0ccebbfe25c"
      },
      "execution_count": 17,
      "outputs": [
        {
          "output_type": "stream",
          "name": "stderr",
          "text": [
            "WARNING:absl:Compiled the loaded model, but the compiled metrics have yet to be built. `model.compile_metrics` will be empty until you train or evaluate the model.\n"
          ]
        }
      ]
    },
    {
      "cell_type": "code",
      "source": [
        "model.input_shape"
      ],
      "metadata": {
        "colab": {
          "base_uri": "https://localhost:8080/"
        },
        "id": "JTUWpR0wYbN8",
        "outputId": "1a6b06ae-b112-487d-9b0a-5c7edbd3f64d"
      },
      "execution_count": 19,
      "outputs": [
        {
          "output_type": "execute_result",
          "data": {
            "text/plain": [
              "(None, 170, 1)"
            ]
          },
          "metadata": {},
          "execution_count": 19
        }
      ]
    },
    {
      "cell_type": "code",
      "source": [
        "df.shape"
      ],
      "metadata": {
        "colab": {
          "base_uri": "https://localhost:8080/"
        },
        "id": "craCN1ycYe6E",
        "outputId": "b87d8da9-98e3-4e8d-8592-5bbdfe1fe389"
      },
      "execution_count": 20,
      "outputs": [
        {
          "output_type": "execute_result",
          "data": {
            "text/plain": [
              "(100, 171)"
            ]
          },
          "metadata": {},
          "execution_count": 20
        }
      ]
    },
    {
      "cell_type": "code",
      "source": [
        "X = df.drop(columns=['Emotion'])\n",
        "X.shape"
      ],
      "metadata": {
        "colab": {
          "base_uri": "https://localhost:8080/"
        },
        "id": "PRUbPmGqYoDM",
        "outputId": "c48c0105-99cb-492a-930e-b0ef0bf10851"
      },
      "execution_count": 22,
      "outputs": [
        {
          "output_type": "execute_result",
          "data": {
            "text/plain": [
              "(100, 170)"
            ]
          },
          "metadata": {},
          "execution_count": 22
        }
      ]
    },
    {
      "cell_type": "code",
      "source": [
        "X_kannada = np.expand_dims(X, axis=-1)  # Model expects (None, 170, 1)\n",
        "\n",
        "# Make predictions\n",
        "predictions = model.predict(X_kannada)\n",
        "predicted_labels = np.argmax(predictions, axis=1)  # Get the emotion class with highest probability\n",
        "\n",
        "# Print sample predictions\n",
        "for i in range(5):  # Print first 5 predictions\n",
        "    print(f\"Predicted Label: {predicted_labels[i]}\")"
      ],
      "metadata": {
        "colab": {
          "base_uri": "https://localhost:8080/"
        },
        "id": "D7LZhnifYsSs",
        "outputId": "ed7cd355-19a1-43d9-ab02-8cfd5909c4cc"
      },
      "execution_count": 25,
      "outputs": [
        {
          "output_type": "stream",
          "name": "stdout",
          "text": [
            "\u001b[1m4/4\u001b[0m \u001b[32m━━━━━━━━━━━━━━━━━━━━\u001b[0m\u001b[37m\u001b[0m \u001b[1m0s\u001b[0m 49ms/step\n",
            "Predicted Label: 0\n",
            "Predicted Label: 0\n",
            "Predicted Label: 0\n",
            "Predicted Label: 0\n",
            "Predicted Label: 0\n"
          ]
        }
      ]
    },
    {
      "cell_type": "code",
      "source": [
        "from sklearn.metrics import accuracy_score, classification_report, confusion_matrix\n",
        "\n",
        "# Compare predictions with actual labels\n",
        "accuracy = accuracy_score(y, predicted_labels)\n",
        "print(f\"Model Accuracy: {accuracy:.2%}\")\n",
        "\n",
        "# Print classification report\n",
        "print(\"\\nClassification Report:\")\n",
        "print(classification_report(y, predicted_labels))\n",
        "\n",
        "# Show confusion matrix\n",
        "print(\"\\nConfusion Matrix:\")\n",
        "print(confusion_matrix(y, predicted_labels))\n"
      ],
      "metadata": {
        "colab": {
          "base_uri": "https://localhost:8080/"
        },
        "id": "zytESku8ZAOh",
        "outputId": "285fc411-d94c-40fa-a02c-3cab1606d1bc"
      },
      "execution_count": 26,
      "outputs": [
        {
          "output_type": "stream",
          "name": "stdout",
          "text": [
            "Model Accuracy: 20.00%\n",
            "\n",
            "Classification Report:\n",
            "              precision    recall  f1-score   support\n",
            "\n",
            "         0.0       0.17      1.00      0.30        16\n",
            "         1.0       0.50      0.18      0.26        17\n",
            "         2.0       0.00      0.00      0.00        34\n",
            "         3.0       0.00      0.00      0.00        17\n",
            "         4.0       0.50      0.06      0.11        16\n",
            "\n",
            "    accuracy                           0.20       100\n",
            "   macro avg       0.23      0.25      0.13       100\n",
            "weighted avg       0.19      0.20      0.11       100\n",
            "\n",
            "\n",
            "Confusion Matrix:\n",
            "[[16  0  0  0  0]\n",
            " [13  3  0  0  1]\n",
            " [31  3  0  0  0]\n",
            " [17  0  0  0  0]\n",
            " [15  0  0  0  1]]\n"
          ]
        },
        {
          "output_type": "stream",
          "name": "stderr",
          "text": [
            "/usr/local/lib/python3.11/dist-packages/sklearn/metrics/_classification.py:1565: UndefinedMetricWarning: Precision is ill-defined and being set to 0.0 in labels with no predicted samples. Use `zero_division` parameter to control this behavior.\n",
            "  _warn_prf(average, modifier, f\"{metric.capitalize()} is\", len(result))\n",
            "/usr/local/lib/python3.11/dist-packages/sklearn/metrics/_classification.py:1565: UndefinedMetricWarning: Precision is ill-defined and being set to 0.0 in labels with no predicted samples. Use `zero_division` parameter to control this behavior.\n",
            "  _warn_prf(average, modifier, f\"{metric.capitalize()} is\", len(result))\n",
            "/usr/local/lib/python3.11/dist-packages/sklearn/metrics/_classification.py:1565: UndefinedMetricWarning: Precision is ill-defined and being set to 0.0 in labels with no predicted samples. Use `zero_division` parameter to control this behavior.\n",
            "  _warn_prf(average, modifier, f\"{metric.capitalize()} is\", len(result))\n"
          ]
        }
      ]
    }
  ]
}