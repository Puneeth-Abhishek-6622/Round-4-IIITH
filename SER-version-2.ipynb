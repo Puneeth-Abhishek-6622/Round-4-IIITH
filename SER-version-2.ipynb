{
  "nbformat": 4,
  "nbformat_minor": 0,
  "metadata": {
    "colab": {
      "provenance": [],
      "gpuType": "T4",
      "mount_file_id": "1d4pS6ZgSdMZGPQHcCxCXdTYzE1ObFV5A",
      "authorship_tag": "ABX9TyPHRXNueH6qKHYe5sgk+5Ly",
      "include_colab_link": true
    },
    "kernelspec": {
      "name": "python3",
      "display_name": "Python 3"
    },
    "language_info": {
      "name": "python"
    },
    "accelerator": "GPU"
  },
  "cells": [
    {
      "cell_type": "markdown",
      "metadata": {
        "id": "view-in-github",
        "colab_type": "text"
      },
      "source": [
        "<a href=\"https://colab.research.google.com/github/Puneeth-Abhishek-6622/Round-4-IIITH/blob/main/SER-version-2.ipynb\" target=\"_parent\"><img src=\"https://colab.research.google.com/assets/colab-badge.svg\" alt=\"Open In Colab\"/></a>"
      ]
    },
    {
      "cell_type": "code",
      "source": [
        "import os\n",
        "\n",
        "os.listdir(\"/content/drive/MyDrive/round 4 iit hyd/Indian Emotional Speech Corpora (IESC)\")\n",
        "\n",
        "file_path = \"/content/drive/MyDrive/round 4 iit hyd/Indian Emotional Speech Corpora (IESC)\""
      ],
      "metadata": {
        "id": "3RwtdKATNB46"
      },
      "execution_count": 1,
      "outputs": []
    },
    {
      "cell_type": "markdown",
      "source": [
        "Data Loading"
      ],
      "metadata": {
        "id": "DZOE6M-RJ69T"
      }
    },
    {
      "cell_type": "code",
      "source": [
        "!pip install --q librosa\n",
        "!pip install --q mealpy\n",
        "\n",
        "import pandas as pd\n",
        "import numpy as np\n",
        "\n",
        "import os\n",
        "import sys\n",
        "import tensorflow as tf\n",
        "import librosa\n",
        "import librosa.display\n",
        "import seaborn as sns\n",
        "import matplotlib.pyplot as plt\n",
        "\n",
        "from sklearn.preprocessing import StandardScaler, OneHotEncoder, MinMaxScaler\n",
        "from sklearn.metrics import confusion_matrix, classification_report\n",
        "from sklearn.model_selection import train_test_split\n",
        "\n",
        "# to play the audio files\n",
        "from IPython.display import Audio\n",
        "\n",
        "from tensorflow.keras.models import Model\n",
        "from tensorflow.keras.layers import Input, Conv1D, MaxPooling1D, BatchNormalization, Dropout, Bidirectional, LSTM, Dense, Attention, Add, Flatten\n",
        "\n",
        "import warnings\n",
        "if not sys.warnoptions:\n",
        "    warnings.simplefilter(\"ignore\")\n",
        "warnings.filterwarnings(\"ignore\", category=DeprecationWarning)"
      ],
      "metadata": {
        "id": "KoemYXbUDs3S",
        "colab": {
          "base_uri": "https://localhost:8080/"
        },
        "outputId": "f665dfb4-13cf-472c-c192-58f44fdfcfd5"
      },
      "execution_count": 2,
      "outputs": [
        {
          "output_type": "stream",
          "name": "stdout",
          "text": [
            "\u001b[2K     \u001b[90m━━━━━━━━━━━━━━━━━━━━━━━━━━━━━━━━━━━━━━━━\u001b[0m \u001b[32m104.9/104.9 kB\u001b[0m \u001b[31m3.6 MB/s\u001b[0m eta \u001b[36m0:00:00\u001b[0m\n",
            "\u001b[2K   \u001b[90m━━━━━━━━━━━━━━━━━━━━━━━━━━━━━━━━━━━━━━━━\u001b[0m \u001b[32m386.3/386.3 kB\u001b[0m \u001b[31m9.6 MB/s\u001b[0m eta \u001b[36m0:00:00\u001b[0m\n",
            "\u001b[2K   \u001b[90m━━━━━━━━━━━━━━━━━━━━━━━━━━━━━━━━━━━━━━━━\u001b[0m \u001b[32m13.0/13.0 MB\u001b[0m \u001b[31m24.7 MB/s\u001b[0m eta \u001b[36m0:00:00\u001b[0m\n",
            "\u001b[?25h"
          ]
        }
      ]
    },
    {
      "cell_type": "code",
      "execution_count": 3,
      "metadata": {
        "id": "nTx2EEjcM8Ey"
      },
      "outputs": [],
      "source": [
        "import os\n",
        "import librosa\n",
        "import numpy as np\n",
        "from sklearn.model_selection import train_test_split\n",
        "\n",
        "\n",
        "# Define the base directory\n",
        "base_dir = \"/content/drive/MyDrive/round 4 iit hyd/Indian Emotional Speech Corpora (IESC)\"\n",
        "\n",
        "# Initialize lists to store features and labels\n",
        "features = []\n",
        "labels = []\n",
        "\n",
        "# Emotion mapping (based on folder names)\n",
        "emotion_map = {\n",
        "    'Anger': 0,\n",
        "    'Fear': 1,\n",
        "    'Happy': 2,\n",
        "    'Neutral': 3,\n",
        "    'Sad': 4\n",
        "}\n",
        "\n",
        "\n",
        "def load_data(base_dir):\n",
        "  features = []\n",
        "  labels = []\n",
        "\n",
        "\n",
        "\n",
        "  for speaker in os.listdir(base_dir):\n",
        "    speaker_path = os.path.join(base_dir, speaker)\n",
        "    if os.path.isdir(speaker_path):\n",
        "      for emotion in os.listdir(speaker_path):\n",
        "        emotion_path = os.path.join(speaker_path, emotion)\n",
        "        if os.path.isdir(emotion_path):\n",
        "          for file in os.listdir(emotion_path):\n",
        "            if file.endswith(\".wav\"):\n",
        "              file_path = os.path.join(emotion_path, file )\n",
        "              audio , sr = librosa.load(file_path, sr=16000)\n",
        "              mfccs = librosa.feature.mfcc(y=audio, sr=sr, n_mfcc=13) #exctracting 13 mfcc features per audio file\n",
        "              mfccs_scaled = np.mean(mfccs.T, axis=0)\n",
        "              features.append(mfccs_scaled)\n",
        "              labels.append(emotion_map[emotion])\n",
        "\n",
        "  return np.array(features), np.array(labels)\n",
        "\n",
        "features , labels = load_data(base_dir)\n",
        "\n"
      ]
    },
    {
      "cell_type": "code",
      "source": [
        "print(f\"Features shape: {features.shape}\")\n",
        "print(f\"Labels shape: {labels.shape}\")"
      ],
      "metadata": {
        "colab": {
          "base_uri": "https://localhost:8080/"
        },
        "id": "9aT9Wo0SKEP2",
        "outputId": "ac31dfff-5a69-4389-d185-0eac381d0ba2"
      },
      "execution_count": 4,
      "outputs": [
        {
          "output_type": "stream",
          "name": "stdout",
          "text": [
            "Features shape: (400, 13)\n",
            "Labels shape: (400,)\n"
          ]
        }
      ]
    },
    {
      "cell_type": "code",
      "source": [
        "labels"
      ],
      "metadata": {
        "colab": {
          "base_uri": "https://localhost:8080/"
        },
        "id": "OinLGsWskixL",
        "outputId": "e37ccf7f-921c-4808-cb7f-27487c83e6c4"
      },
      "execution_count": 5,
      "outputs": [
        {
          "output_type": "execute_result",
          "data": {
            "text/plain": [
              "array([0, 0, 0, 0, 0, 0, 0, 0, 0, 0, 4, 4, 4, 4, 4, 4, 4, 4, 4, 4, 2, 2,\n",
              "       2, 2, 2, 2, 2, 2, 2, 2, 3, 3, 3, 3, 3, 3, 3, 3, 3, 3, 1, 1, 1, 1,\n",
              "       1, 1, 1, 1, 1, 1, 2, 2, 2, 2, 2, 2, 2, 2, 2, 2, 3, 3, 3, 3, 3, 3,\n",
              "       3, 3, 3, 3, 1, 1, 1, 1, 1, 1, 1, 1, 1, 1, 4, 4, 4, 4, 4, 4, 4, 4,\n",
              "       4, 4, 0, 0, 0, 0, 0, 0, 0, 0, 0, 0, 4, 4, 4, 4, 4, 4, 4, 4, 4, 4,\n",
              "       2, 2, 2, 2, 2, 2, 2, 2, 2, 2, 3, 3, 3, 3, 3, 3, 3, 3, 3, 3, 0, 0,\n",
              "       0, 0, 0, 0, 0, 0, 0, 0, 1, 1, 1, 1, 1, 1, 1, 1, 1, 1, 3, 3, 3, 3,\n",
              "       3, 3, 3, 3, 3, 3, 2, 2, 2, 2, 2, 2, 2, 2, 2, 2, 0, 0, 0, 0, 0, 0,\n",
              "       0, 0, 0, 0, 4, 4, 4, 4, 4, 4, 4, 4, 4, 4, 1, 1, 1, 1, 1, 1, 1, 1,\n",
              "       1, 1, 3, 3, 3, 3, 3, 3, 3, 3, 3, 3, 4, 4, 4, 4, 4, 4, 4, 4, 4, 4,\n",
              "       1, 1, 1, 1, 1, 1, 1, 1, 1, 1, 2, 2, 2, 2, 2, 2, 2, 2, 2, 2, 0, 0,\n",
              "       0, 0, 0, 0, 0, 0, 0, 0, 1, 1, 1, 1, 1, 1, 1, 1, 1, 1, 3, 3, 3, 3,\n",
              "       3, 3, 3, 3, 3, 3, 0, 0, 0, 0, 0, 0, 0, 0, 0, 0, 2, 2, 2, 2, 2, 2,\n",
              "       2, 2, 2, 2, 4, 4, 4, 4, 4, 4, 4, 4, 4, 4, 1, 1, 1, 1, 1, 1, 1, 1,\n",
              "       1, 1, 2, 2, 2, 2, 2, 2, 2, 2, 2, 2, 3, 3, 3, 3, 3, 3, 3, 3, 3, 3,\n",
              "       4, 4, 4, 4, 4, 4, 4, 4, 4, 4, 0, 0, 0, 0, 0, 0, 0, 0, 0, 0, 0, 0,\n",
              "       0, 0, 0, 0, 0, 0, 0, 0, 1, 1, 1, 1, 1, 1, 1, 1, 1, 1, 4, 4, 4, 4,\n",
              "       4, 4, 4, 4, 4, 4, 3, 3, 3, 3, 3, 3, 3, 3, 3, 3, 2, 2, 2, 2, 2, 2,\n",
              "       2, 2, 2, 2])"
            ]
          },
          "metadata": {},
          "execution_count": 5
        }
      ]
    },
    {
      "cell_type": "code",
      "source": [
        "features"
      ],
      "metadata": {
        "id": "7zCDVYbuksUc",
        "outputId": "abb81d4c-c74d-4565-c653-a884bca9f894",
        "colab": {
          "base_uri": "https://localhost:8080/"
        }
      },
      "execution_count": 6,
      "outputs": [
        {
          "output_type": "execute_result",
          "data": {
            "text/plain": [
              "array([[-3.0621771e+02,  8.5516487e+01,  3.0160646e+01, ...,\n",
              "         6.4442426e-01, -5.0611124e+00, -3.1091056e+00],\n",
              "       [-3.3568054e+02,  8.0729218e+01,  1.6819490e+01, ...,\n",
              "        -8.3477983e+00, -4.4519138e+00, -2.6075017e+00],\n",
              "       [-3.5301996e+02,  9.3430397e+01,  1.8866234e+01, ...,\n",
              "        -3.6993527e+00, -5.3879547e+00, -7.7816749e-01],\n",
              "       ...,\n",
              "       [-4.4541031e+02,  5.4380569e+01, -8.8644133e+00, ...,\n",
              "         6.8959969e-01, -7.8127277e-01,  7.7538872e-01],\n",
              "       [-3.8323953e+02,  6.8163429e+01, -2.4709684e+01, ...,\n",
              "        -2.2740993e+00, -5.1378590e-01, -2.4373686e+00],\n",
              "       [-4.2844629e+02,  5.6702888e+01, -1.3020896e+01, ...,\n",
              "         3.8860002e-01, -2.9229443e+00,  5.4034626e-01]], dtype=float32)"
            ]
          },
          "metadata": {},
          "execution_count": 6
        }
      ]
    },
    {
      "cell_type": "code",
      "source": [
        "# Print the first few feature vectors and their corresponding labels\n",
        "print(\"First 5 feature vectors:\")\n",
        "for i, feature in enumerate(features[:5]):\n",
        "    print(f\"Sample {i+1}: {feature}\")\n",
        "\n",
        "print(\"\\nFirst 5 labels:\")\n",
        "for i, label in enumerate(labels[:5]):\n",
        "    print(f\"Sample {i+1}: {label}\")\n",
        "\n",
        "# Print the shape of the features and labels arrays\n",
        "print(\"\\nShape of features array:\", features.shape)\n",
        "print(\"Shape of labels array:\", labels.shape)\n",
        "\n",
        "# Print the total number of samples\n",
        "print(\"\\nTotal number of samples:\", len(features))"
      ],
      "metadata": {
        "colab": {
          "base_uri": "https://localhost:8080/"
        },
        "id": "BRgLXTOWKaXu",
        "outputId": "0d8aad94-939f-44b0-c893-f99e662eb8df"
      },
      "execution_count": 7,
      "outputs": [
        {
          "output_type": "stream",
          "name": "stdout",
          "text": [
            "First 5 feature vectors:\n",
            "Sample 1: [-306.2177       85.51649      30.160646     -6.3027415   -15.246194\n",
            "   -6.0267544    -7.872281     -2.7536116    -8.380329    -10.975119\n",
            "    0.64442426   -5.0611124    -3.1091056 ]\n",
            "Sample 2: [-335.68054     80.72922     16.81949     -9.078342   -18.06997\n",
            "    1.2159961  -10.459588   -12.095194    -7.467233   -11.835499\n",
            "   -8.347798    -4.451914    -2.6075017]\n",
            "Sample 3: [-3.5301996e+02  9.3430397e+01  1.8866234e+01 -1.2112377e+00\n",
            " -1.7915480e+01 -1.6422582e-01 -5.3342266e+00 -9.6961460e+00\n",
            " -8.5436125e+00 -1.3528461e+01 -3.6993527e+00 -5.3879547e+00\n",
            " -7.7816749e-01]\n",
            "Sample 4: [-319.85968     91.20579     31.72871    -11.441108   -10.554806\n",
            "   -6.371383    -5.126802     2.7696571  -14.428244    -2.8062625\n",
            "   -3.2250643   -8.428303     1.5278311]\n",
            "Sample 5: [-350.66788     78.844505    18.476913    -3.559234   -22.873522\n",
            "    1.62429     -1.1588876   -9.210607   -18.592834    -2.5403838\n",
            "   -4.36016     -7.031479     4.589977 ]\n",
            "\n",
            "First 5 labels:\n",
            "Sample 1: 0\n",
            "Sample 2: 0\n",
            "Sample 3: 0\n",
            "Sample 4: 0\n",
            "Sample 5: 0\n",
            "\n",
            "Shape of features array: (400, 13)\n",
            "Shape of labels array: (400,)\n",
            "\n",
            "Total number of samples: 400\n"
          ]
        }
      ]
    },
    {
      "cell_type": "code",
      "source": [
        "import pandas as pd\n",
        "\n",
        "# Convert features into a DataFrame\n",
        "df = pd.DataFrame(features)\n",
        "\n",
        "# Add a column for labels\n",
        "df['label'] = labels\n",
        "\n",
        "# Display first few rows\n",
        "print(df.head())\n",
        "\n",
        "# Save the DataFrame as a CSV file (optional)\n",
        "df.to_csv(\"emotion_features.csv\", index=False)\n"
      ],
      "metadata": {
        "colab": {
          "base_uri": "https://localhost:8080/"
        },
        "id": "Iti09AsWbrEF",
        "outputId": "1886c533-a5f2-43fe-ec0f-19fa4010a9e3"
      },
      "execution_count": 8,
      "outputs": [
        {
          "output_type": "stream",
          "name": "stdout",
          "text": [
            "            0          1          2          3          4         5  \\\n",
            "0 -306.217712  85.516487  30.160646  -6.302742 -15.246194 -6.026754   \n",
            "1 -335.680542  80.729218  16.819490  -9.078342 -18.069969  1.215996   \n",
            "2 -353.019958  93.430397  18.866234  -1.211238 -17.915480 -0.164226   \n",
            "3 -319.859680  91.205788  31.728710 -11.441108 -10.554806 -6.371383   \n",
            "4 -350.667877  78.844505  18.476913  -3.559234 -22.873522  1.624290   \n",
            "\n",
            "           6          7          8          9        10        11        12  \\\n",
            "0  -7.872281  -2.753612  -8.380329 -10.975119  0.644424 -5.061112 -3.109106   \n",
            "1 -10.459588 -12.095194  -7.467233 -11.835499 -8.347798 -4.451914 -2.607502   \n",
            "2  -5.334227  -9.696146  -8.543612 -13.528461 -3.699353 -5.387955 -0.778167   \n",
            "3  -5.126802   2.769657 -14.428244  -2.806262 -3.225064 -8.428303  1.527831   \n",
            "4  -1.158888  -9.210607 -18.592834  -2.540384 -4.360160 -7.031479  4.589977   \n",
            "\n",
            "   label  \n",
            "0      0  \n",
            "1      0  \n",
            "2      0  \n",
            "3      0  \n",
            "4      0  \n"
          ]
        }
      ]
    },
    {
      "cell_type": "code",
      "source": [
        "# Create a DataFrame\n",
        "df = pd.DataFrame(features)\n",
        "df['label'] = labels\n",
        "\n",
        "# Count samples per emotion\n",
        "emotion_counts = pd.Series(labels).value_counts()\n",
        "\n",
        "# Convert to DataFrame for better display\n",
        "emotion_counts_df = pd.DataFrame({'Emotion': [k for k in emotion_map.keys()], 'Number of Samples': emotion_counts})\n",
        "print(emotion_counts_df)\n"
      ],
      "metadata": {
        "colab": {
          "base_uri": "https://localhost:8080/"
        },
        "id": "FD-MUXCQj34n",
        "outputId": "bf0f477b-a3b0-4df0-ef95-b6af2dc85718"
      },
      "execution_count": 9,
      "outputs": [
        {
          "output_type": "stream",
          "name": "stdout",
          "text": [
            "   Emotion  Number of Samples\n",
            "0    Anger                 80\n",
            "4     Fear                 80\n",
            "2    Happy                 80\n",
            "3  Neutral                 80\n",
            "1      Sad                 80\n"
          ]
        }
      ]
    },
    {
      "cell_type": "markdown",
      "source": [
        "Handling imbalences in the data and adding it into a new test_data folder\n"
      ],
      "metadata": {
        "id": "29jd8R_4J2Ki"
      }
    },
    {
      "cell_type": "code",
      "source": [
        "# import os\n",
        "# import shutil\n",
        "\n",
        "# # Define the base directory\n",
        "# base_dir = \"/content/drive/MyDrive/round 4 iit hyd/Indian Emotional Speech Corpora (IESC)\"\n",
        "\n",
        "# # Define the test directory (where the moved files will go)\n",
        "# test_dir = os.path.join(base_dir, \"Test_Data\")\n",
        "\n",
        "# # Create the test directory if it doesn't exist\n",
        "# if not os.path.exists(test_dir):\n",
        "#     os.makedirs(test_dir)\n",
        "\n",
        "# # Define the number of samples to move from each emotion folder\n",
        "# samples_to_move = 10\n",
        "\n",
        "# # Loop through speakers 5 to 8\n",
        "# for speaker in range(5, 9):\n",
        "#     speaker_folder = os.path.join(base_dir, f\"Speaker-{speaker}\")  # Updated folder name format\n",
        "#     if os.path.exists(speaker_folder):\n",
        "#         # Loop through each emotion folder\n",
        "#         for emotion in os.listdir(speaker_folder):\n",
        "#             emotion_folder = os.path.join(speaker_folder, emotion)\n",
        "#             if os.path.isdir(emotion_folder):\n",
        "#                 # Get a list of all .wav files in the emotion folder\n",
        "#                 audio_files = [f for f in os.listdir(emotion_folder) if f.endswith('.wav')]\n",
        "\n",
        "#                 # Sort files based on the sample number (2nd part of the filename)\n",
        "#                 audio_files.sort(key=lambda x: int(x.split('-')[1]))\n",
        "\n",
        "#                 # Select the last 10 files (highest sample numbers)\n",
        "#                 files_to_move = audio_files[-samples_to_move:]\n",
        "\n",
        "#                 # Move the selected files to the test directory\n",
        "#                 for file in files_to_move:\n",
        "#                     src_path = os.path.join(emotion_folder, file)\n",
        "#                     dest_path = os.path.join(test_dir, file)\n",
        "#                     shutil.move(src_path, dest_path)\n",
        "#                     print(f\"Moved: {file} from {emotion_folder} to {test_dir}\")\n",
        "\n",
        "# print(\"Done moving files!\")"
      ],
      "metadata": {
        "id": "wgSFL8jiImYw"
      },
      "execution_count": 10,
      "outputs": []
    },
    {
      "cell_type": "markdown",
      "source": [
        "Reorganizing the test folder also with the same architecture"
      ],
      "metadata": {
        "id": "0dKUHatqa2fd"
      }
    },
    {
      "cell_type": "code",
      "source": [
        "# import os\n",
        "# import shutil\n",
        "\n",
        "# # Define the test directory\n",
        "# test_dir = \"/content/drive/MyDrive/round 4 iit hyd/Indian Emotional Speech Corpora (IESC)/Test_Data\"\n",
        "\n",
        "# # Loop through all files in the Test_Data folder\n",
        "# for file in os.listdir(test_dir):\n",
        "#     if file.endswith('.wav'):\n",
        "#         # Extract speaker and emotion from the filename\n",
        "#         parts = file.split('-')\n",
        "#         emotion_code = parts[0]  # First part: emotion code (A, S, H, F, N)\n",
        "#         speaker_number = parts[2]  # Third part: speaker number\n",
        "\n",
        "#         # Map emotion code to emotion name\n",
        "#         emotion_map = {'A': 'Angry', 'S': 'Sad', 'H': 'Happy', 'F': 'Fear', 'N': 'Neutral'}\n",
        "#         emotion_name = emotion_map[emotion_code]\n",
        "\n",
        "#         # Create speaker folder if it doesn't exist\n",
        "#         speaker_folder = os.path.join(test_dir, f\"Speaker-{speaker_number}\")\n",
        "#         if not os.path.exists(speaker_folder):\n",
        "#             os.makedirs(speaker_folder)\n",
        "\n",
        "#         # Create emotion folder inside the speaker folder if it doesn't exist\n",
        "#         emotion_folder = os.path.join(speaker_folder, emotion_name)\n",
        "#         if not os.path.exists(emotion_folder):\n",
        "#             os.makedirs(emotion_folder)\n",
        "\n",
        "#         # Move the file to the appropriate emotion folder\n",
        "#         src_path = os.path.join(test_dir, file)\n",
        "#         dest_path = os.path.join(emotion_folder, file)\n",
        "#         shutil.move(src_path, dest_path)\n",
        "#         print(f\"Moved: {file} to {dest_path}\")\n",
        "\n",
        "# print(\"Done organizing test data!\")"
      ],
      "metadata": {
        "id": "YKBssNu4Tks0"
      },
      "execution_count": 11,
      "outputs": []
    },
    {
      "cell_type": "markdown",
      "source": [
        "Training the model"
      ],
      "metadata": {
        "id": "AQbmf6EauUk-"
      }
    },
    {
      "cell_type": "markdown",
      "source": [
        "Loading and preprocessing the data"
      ],
      "metadata": {
        "id": "ivQJ15pOugB4"
      }
    },
    {
      "cell_type": "code",
      "source": [
        "import pandas as pd\n",
        "\n",
        "# Convert features and labels into a DataFrame\n",
        "df = pd.DataFrame(features)\n",
        "\n",
        "# Add the labels column\n",
        "df['label'] = labels\n",
        "\n",
        "# Display first few rows\n",
        "\n",
        "print(\"\\n\")\n",
        "\n",
        "print(df['label'].value_counts())\n",
        "\n",
        "df.head()"
      ],
      "metadata": {
        "id": "rAsb_IaMupiI",
        "colab": {
          "base_uri": "https://localhost:8080/",
          "height": 382
        },
        "outputId": "b3da8203-1a8d-4155-9b7d-56ed68c5baf8"
      },
      "execution_count": 12,
      "outputs": [
        {
          "output_type": "stream",
          "name": "stdout",
          "text": [
            "\n",
            "\n",
            "label\n",
            "0    80\n",
            "4    80\n",
            "2    80\n",
            "3    80\n",
            "1    80\n",
            "Name: count, dtype: int64\n"
          ]
        },
        {
          "output_type": "execute_result",
          "data": {
            "text/plain": [
              "            0          1          2          3          4         5  \\\n",
              "0 -306.217712  85.516487  30.160646  -6.302742 -15.246194 -6.026754   \n",
              "1 -335.680542  80.729218  16.819490  -9.078342 -18.069969  1.215996   \n",
              "2 -353.019958  93.430397  18.866234  -1.211238 -17.915480 -0.164226   \n",
              "3 -319.859680  91.205788  31.728710 -11.441108 -10.554806 -6.371383   \n",
              "4 -350.667877  78.844505  18.476913  -3.559234 -22.873522  1.624290   \n",
              "\n",
              "           6          7          8          9        10        11        12  \\\n",
              "0  -7.872281  -2.753612  -8.380329 -10.975119  0.644424 -5.061112 -3.109106   \n",
              "1 -10.459588 -12.095194  -7.467233 -11.835499 -8.347798 -4.451914 -2.607502   \n",
              "2  -5.334227  -9.696146  -8.543612 -13.528461 -3.699353 -5.387955 -0.778167   \n",
              "3  -5.126802   2.769657 -14.428244  -2.806262 -3.225064 -8.428303  1.527831   \n",
              "4  -1.158888  -9.210607 -18.592834  -2.540384 -4.360160 -7.031479  4.589977   \n",
              "\n",
              "   label  \n",
              "0      0  \n",
              "1      0  \n",
              "2      0  \n",
              "3      0  \n",
              "4      0  "
            ],
            "text/html": [
              "\n",
              "  <div id=\"df-b7f10edd-1369-48cf-bb06-1f8b5a3e00c7\" class=\"colab-df-container\">\n",
              "    <div>\n",
              "<style scoped>\n",
              "    .dataframe tbody tr th:only-of-type {\n",
              "        vertical-align: middle;\n",
              "    }\n",
              "\n",
              "    .dataframe tbody tr th {\n",
              "        vertical-align: top;\n",
              "    }\n",
              "\n",
              "    .dataframe thead th {\n",
              "        text-align: right;\n",
              "    }\n",
              "</style>\n",
              "<table border=\"1\" class=\"dataframe\">\n",
              "  <thead>\n",
              "    <tr style=\"text-align: right;\">\n",
              "      <th></th>\n",
              "      <th>0</th>\n",
              "      <th>1</th>\n",
              "      <th>2</th>\n",
              "      <th>3</th>\n",
              "      <th>4</th>\n",
              "      <th>5</th>\n",
              "      <th>6</th>\n",
              "      <th>7</th>\n",
              "      <th>8</th>\n",
              "      <th>9</th>\n",
              "      <th>10</th>\n",
              "      <th>11</th>\n",
              "      <th>12</th>\n",
              "      <th>label</th>\n",
              "    </tr>\n",
              "  </thead>\n",
              "  <tbody>\n",
              "    <tr>\n",
              "      <th>0</th>\n",
              "      <td>-306.217712</td>\n",
              "      <td>85.516487</td>\n",
              "      <td>30.160646</td>\n",
              "      <td>-6.302742</td>\n",
              "      <td>-15.246194</td>\n",
              "      <td>-6.026754</td>\n",
              "      <td>-7.872281</td>\n",
              "      <td>-2.753612</td>\n",
              "      <td>-8.380329</td>\n",
              "      <td>-10.975119</td>\n",
              "      <td>0.644424</td>\n",
              "      <td>-5.061112</td>\n",
              "      <td>-3.109106</td>\n",
              "      <td>0</td>\n",
              "    </tr>\n",
              "    <tr>\n",
              "      <th>1</th>\n",
              "      <td>-335.680542</td>\n",
              "      <td>80.729218</td>\n",
              "      <td>16.819490</td>\n",
              "      <td>-9.078342</td>\n",
              "      <td>-18.069969</td>\n",
              "      <td>1.215996</td>\n",
              "      <td>-10.459588</td>\n",
              "      <td>-12.095194</td>\n",
              "      <td>-7.467233</td>\n",
              "      <td>-11.835499</td>\n",
              "      <td>-8.347798</td>\n",
              "      <td>-4.451914</td>\n",
              "      <td>-2.607502</td>\n",
              "      <td>0</td>\n",
              "    </tr>\n",
              "    <tr>\n",
              "      <th>2</th>\n",
              "      <td>-353.019958</td>\n",
              "      <td>93.430397</td>\n",
              "      <td>18.866234</td>\n",
              "      <td>-1.211238</td>\n",
              "      <td>-17.915480</td>\n",
              "      <td>-0.164226</td>\n",
              "      <td>-5.334227</td>\n",
              "      <td>-9.696146</td>\n",
              "      <td>-8.543612</td>\n",
              "      <td>-13.528461</td>\n",
              "      <td>-3.699353</td>\n",
              "      <td>-5.387955</td>\n",
              "      <td>-0.778167</td>\n",
              "      <td>0</td>\n",
              "    </tr>\n",
              "    <tr>\n",
              "      <th>3</th>\n",
              "      <td>-319.859680</td>\n",
              "      <td>91.205788</td>\n",
              "      <td>31.728710</td>\n",
              "      <td>-11.441108</td>\n",
              "      <td>-10.554806</td>\n",
              "      <td>-6.371383</td>\n",
              "      <td>-5.126802</td>\n",
              "      <td>2.769657</td>\n",
              "      <td>-14.428244</td>\n",
              "      <td>-2.806262</td>\n",
              "      <td>-3.225064</td>\n",
              "      <td>-8.428303</td>\n",
              "      <td>1.527831</td>\n",
              "      <td>0</td>\n",
              "    </tr>\n",
              "    <tr>\n",
              "      <th>4</th>\n",
              "      <td>-350.667877</td>\n",
              "      <td>78.844505</td>\n",
              "      <td>18.476913</td>\n",
              "      <td>-3.559234</td>\n",
              "      <td>-22.873522</td>\n",
              "      <td>1.624290</td>\n",
              "      <td>-1.158888</td>\n",
              "      <td>-9.210607</td>\n",
              "      <td>-18.592834</td>\n",
              "      <td>-2.540384</td>\n",
              "      <td>-4.360160</td>\n",
              "      <td>-7.031479</td>\n",
              "      <td>4.589977</td>\n",
              "      <td>0</td>\n",
              "    </tr>\n",
              "  </tbody>\n",
              "</table>\n",
              "</div>\n",
              "    <div class=\"colab-df-buttons\">\n",
              "\n",
              "  <div class=\"colab-df-container\">\n",
              "    <button class=\"colab-df-convert\" onclick=\"convertToInteractive('df-b7f10edd-1369-48cf-bb06-1f8b5a3e00c7')\"\n",
              "            title=\"Convert this dataframe to an interactive table.\"\n",
              "            style=\"display:none;\">\n",
              "\n",
              "  <svg xmlns=\"http://www.w3.org/2000/svg\" height=\"24px\" viewBox=\"0 -960 960 960\">\n",
              "    <path d=\"M120-120v-720h720v720H120Zm60-500h600v-160H180v160Zm220 220h160v-160H400v160Zm0 220h160v-160H400v160ZM180-400h160v-160H180v160Zm440 0h160v-160H620v160ZM180-180h160v-160H180v160Zm440 0h160v-160H620v160Z\"/>\n",
              "  </svg>\n",
              "    </button>\n",
              "\n",
              "  <style>\n",
              "    .colab-df-container {\n",
              "      display:flex;\n",
              "      gap: 12px;\n",
              "    }\n",
              "\n",
              "    .colab-df-convert {\n",
              "      background-color: #E8F0FE;\n",
              "      border: none;\n",
              "      border-radius: 50%;\n",
              "      cursor: pointer;\n",
              "      display: none;\n",
              "      fill: #1967D2;\n",
              "      height: 32px;\n",
              "      padding: 0 0 0 0;\n",
              "      width: 32px;\n",
              "    }\n",
              "\n",
              "    .colab-df-convert:hover {\n",
              "      background-color: #E2EBFA;\n",
              "      box-shadow: 0px 1px 2px rgba(60, 64, 67, 0.3), 0px 1px 3px 1px rgba(60, 64, 67, 0.15);\n",
              "      fill: #174EA6;\n",
              "    }\n",
              "\n",
              "    .colab-df-buttons div {\n",
              "      margin-bottom: 4px;\n",
              "    }\n",
              "\n",
              "    [theme=dark] .colab-df-convert {\n",
              "      background-color: #3B4455;\n",
              "      fill: #D2E3FC;\n",
              "    }\n",
              "\n",
              "    [theme=dark] .colab-df-convert:hover {\n",
              "      background-color: #434B5C;\n",
              "      box-shadow: 0px 1px 3px 1px rgba(0, 0, 0, 0.15);\n",
              "      filter: drop-shadow(0px 1px 2px rgba(0, 0, 0, 0.3));\n",
              "      fill: #FFFFFF;\n",
              "    }\n",
              "  </style>\n",
              "\n",
              "    <script>\n",
              "      const buttonEl =\n",
              "        document.querySelector('#df-b7f10edd-1369-48cf-bb06-1f8b5a3e00c7 button.colab-df-convert');\n",
              "      buttonEl.style.display =\n",
              "        google.colab.kernel.accessAllowed ? 'block' : 'none';\n",
              "\n",
              "      async function convertToInteractive(key) {\n",
              "        const element = document.querySelector('#df-b7f10edd-1369-48cf-bb06-1f8b5a3e00c7');\n",
              "        const dataTable =\n",
              "          await google.colab.kernel.invokeFunction('convertToInteractive',\n",
              "                                                    [key], {});\n",
              "        if (!dataTable) return;\n",
              "\n",
              "        const docLinkHtml = 'Like what you see? Visit the ' +\n",
              "          '<a target=\"_blank\" href=https://colab.research.google.com/notebooks/data_table.ipynb>data table notebook</a>'\n",
              "          + ' to learn more about interactive tables.';\n",
              "        element.innerHTML = '';\n",
              "        dataTable['output_type'] = 'display_data';\n",
              "        await google.colab.output.renderOutput(dataTable, element);\n",
              "        const docLink = document.createElement('div');\n",
              "        docLink.innerHTML = docLinkHtml;\n",
              "        element.appendChild(docLink);\n",
              "      }\n",
              "    </script>\n",
              "  </div>\n",
              "\n",
              "\n",
              "<div id=\"df-7afe9545-1df7-4647-b21b-2a1b0abd6456\">\n",
              "  <button class=\"colab-df-quickchart\" onclick=\"quickchart('df-7afe9545-1df7-4647-b21b-2a1b0abd6456')\"\n",
              "            title=\"Suggest charts\"\n",
              "            style=\"display:none;\">\n",
              "\n",
              "<svg xmlns=\"http://www.w3.org/2000/svg\" height=\"24px\"viewBox=\"0 0 24 24\"\n",
              "     width=\"24px\">\n",
              "    <g>\n",
              "        <path d=\"M19 3H5c-1.1 0-2 .9-2 2v14c0 1.1.9 2 2 2h14c1.1 0 2-.9 2-2V5c0-1.1-.9-2-2-2zM9 17H7v-7h2v7zm4 0h-2V7h2v10zm4 0h-2v-4h2v4z\"/>\n",
              "    </g>\n",
              "</svg>\n",
              "  </button>\n",
              "\n",
              "<style>\n",
              "  .colab-df-quickchart {\n",
              "      --bg-color: #E8F0FE;\n",
              "      --fill-color: #1967D2;\n",
              "      --hover-bg-color: #E2EBFA;\n",
              "      --hover-fill-color: #174EA6;\n",
              "      --disabled-fill-color: #AAA;\n",
              "      --disabled-bg-color: #DDD;\n",
              "  }\n",
              "\n",
              "  [theme=dark] .colab-df-quickchart {\n",
              "      --bg-color: #3B4455;\n",
              "      --fill-color: #D2E3FC;\n",
              "      --hover-bg-color: #434B5C;\n",
              "      --hover-fill-color: #FFFFFF;\n",
              "      --disabled-bg-color: #3B4455;\n",
              "      --disabled-fill-color: #666;\n",
              "  }\n",
              "\n",
              "  .colab-df-quickchart {\n",
              "    background-color: var(--bg-color);\n",
              "    border: none;\n",
              "    border-radius: 50%;\n",
              "    cursor: pointer;\n",
              "    display: none;\n",
              "    fill: var(--fill-color);\n",
              "    height: 32px;\n",
              "    padding: 0;\n",
              "    width: 32px;\n",
              "  }\n",
              "\n",
              "  .colab-df-quickchart:hover {\n",
              "    background-color: var(--hover-bg-color);\n",
              "    box-shadow: 0 1px 2px rgba(60, 64, 67, 0.3), 0 1px 3px 1px rgba(60, 64, 67, 0.15);\n",
              "    fill: var(--button-hover-fill-color);\n",
              "  }\n",
              "\n",
              "  .colab-df-quickchart-complete:disabled,\n",
              "  .colab-df-quickchart-complete:disabled:hover {\n",
              "    background-color: var(--disabled-bg-color);\n",
              "    fill: var(--disabled-fill-color);\n",
              "    box-shadow: none;\n",
              "  }\n",
              "\n",
              "  .colab-df-spinner {\n",
              "    border: 2px solid var(--fill-color);\n",
              "    border-color: transparent;\n",
              "    border-bottom-color: var(--fill-color);\n",
              "    animation:\n",
              "      spin 1s steps(1) infinite;\n",
              "  }\n",
              "\n",
              "  @keyframes spin {\n",
              "    0% {\n",
              "      border-color: transparent;\n",
              "      border-bottom-color: var(--fill-color);\n",
              "      border-left-color: var(--fill-color);\n",
              "    }\n",
              "    20% {\n",
              "      border-color: transparent;\n",
              "      border-left-color: var(--fill-color);\n",
              "      border-top-color: var(--fill-color);\n",
              "    }\n",
              "    30% {\n",
              "      border-color: transparent;\n",
              "      border-left-color: var(--fill-color);\n",
              "      border-top-color: var(--fill-color);\n",
              "      border-right-color: var(--fill-color);\n",
              "    }\n",
              "    40% {\n",
              "      border-color: transparent;\n",
              "      border-right-color: var(--fill-color);\n",
              "      border-top-color: var(--fill-color);\n",
              "    }\n",
              "    60% {\n",
              "      border-color: transparent;\n",
              "      border-right-color: var(--fill-color);\n",
              "    }\n",
              "    80% {\n",
              "      border-color: transparent;\n",
              "      border-right-color: var(--fill-color);\n",
              "      border-bottom-color: var(--fill-color);\n",
              "    }\n",
              "    90% {\n",
              "      border-color: transparent;\n",
              "      border-bottom-color: var(--fill-color);\n",
              "    }\n",
              "  }\n",
              "</style>\n",
              "\n",
              "  <script>\n",
              "    async function quickchart(key) {\n",
              "      const quickchartButtonEl =\n",
              "        document.querySelector('#' + key + ' button');\n",
              "      quickchartButtonEl.disabled = true;  // To prevent multiple clicks.\n",
              "      quickchartButtonEl.classList.add('colab-df-spinner');\n",
              "      try {\n",
              "        const charts = await google.colab.kernel.invokeFunction(\n",
              "            'suggestCharts', [key], {});\n",
              "      } catch (error) {\n",
              "        console.error('Error during call to suggestCharts:', error);\n",
              "      }\n",
              "      quickchartButtonEl.classList.remove('colab-df-spinner');\n",
              "      quickchartButtonEl.classList.add('colab-df-quickchart-complete');\n",
              "    }\n",
              "    (() => {\n",
              "      let quickchartButtonEl =\n",
              "        document.querySelector('#df-7afe9545-1df7-4647-b21b-2a1b0abd6456 button');\n",
              "      quickchartButtonEl.style.display =\n",
              "        google.colab.kernel.accessAllowed ? 'block' : 'none';\n",
              "    })();\n",
              "  </script>\n",
              "</div>\n",
              "\n",
              "    </div>\n",
              "  </div>\n"
            ],
            "application/vnd.google.colaboratory.intrinsic+json": {
              "type": "dataframe",
              "variable_name": "df",
              "summary": "{\n  \"name\": \"df\",\n  \"rows\": 400,\n  \"fields\": [\n    {\n      \"column\": 0,\n      \"properties\": {\n        \"dtype\": \"float32\",\n        \"num_unique_values\": 399,\n        \"samples\": [\n          -376.170654296875,\n          -467.344970703125,\n          -493.8448181152344\n        ],\n        \"semantic_type\": \"\",\n        \"description\": \"\"\n      }\n    },\n    {\n      \"column\": 1,\n      \"properties\": {\n        \"dtype\": \"float32\",\n        \"num_unique_values\": 399,\n        \"samples\": [\n          63.96293258666992,\n          36.53834915161133,\n          113.78717803955078\n        ],\n        \"semantic_type\": \"\",\n        \"description\": \"\"\n      }\n    },\n    {\n      \"column\": 2,\n      \"properties\": {\n        \"dtype\": \"float32\",\n        \"num_unique_values\": 399,\n        \"samples\": [\n          -12.778401374816895,\n          -19.6081600189209,\n          16.132699966430664\n        ],\n        \"semantic_type\": \"\",\n        \"description\": \"\"\n      }\n    },\n    {\n      \"column\": 3,\n      \"properties\": {\n        \"dtype\": \"float32\",\n        \"num_unique_values\": 399,\n        \"samples\": [\n          -26.703102111816406,\n          13.468128204345703,\n          28.90425682067871\n        ],\n        \"semantic_type\": \"\",\n        \"description\": \"\"\n      }\n    },\n    {\n      \"column\": 4,\n      \"properties\": {\n        \"dtype\": \"float32\",\n        \"num_unique_values\": 399,\n        \"samples\": [\n          -30.061668395996094,\n          -9.721915245056152,\n          -13.465010643005371\n        ],\n        \"semantic_type\": \"\",\n        \"description\": \"\"\n      }\n    },\n    {\n      \"column\": 5,\n      \"properties\": {\n        \"dtype\": \"float32\",\n        \"num_unique_values\": 399,\n        \"samples\": [\n          -20.840669631958008,\n          -5.189076900482178,\n          6.713770389556885\n        ],\n        \"semantic_type\": \"\",\n        \"description\": \"\"\n      }\n    },\n    {\n      \"column\": 6,\n      \"properties\": {\n        \"dtype\": \"float32\",\n        \"num_unique_values\": 399,\n        \"samples\": [\n          -23.087770462036133,\n          -4.338512420654297,\n          -3.8006980419158936\n        ],\n        \"semantic_type\": \"\",\n        \"description\": \"\"\n      }\n    },\n    {\n      \"column\": 7,\n      \"properties\": {\n        \"dtype\": \"float32\",\n        \"num_unique_values\": 399,\n        \"samples\": [\n          -29.04031753540039,\n          -8.499618530273438,\n          -14.893247604370117\n        ],\n        \"semantic_type\": \"\",\n        \"description\": \"\"\n      }\n    },\n    {\n      \"column\": 8,\n      \"properties\": {\n        \"dtype\": \"float32\",\n        \"num_unique_values\": 399,\n        \"samples\": [\n          -24.129865646362305,\n          -1.1915448904037476,\n          6.640550136566162\n        ],\n        \"semantic_type\": \"\",\n        \"description\": \"\"\n      }\n    },\n    {\n      \"column\": 9,\n      \"properties\": {\n        \"dtype\": \"float32\",\n        \"num_unique_values\": 399,\n        \"samples\": [\n          -19.094282150268555,\n          -2.56496000289917,\n          -3.043172597885132\n        ],\n        \"semantic_type\": \"\",\n        \"description\": \"\"\n      }\n    },\n    {\n      \"column\": 10,\n      \"properties\": {\n        \"dtype\": \"float32\",\n        \"num_unique_values\": 399,\n        \"samples\": [\n          -13.389503479003906,\n          -0.7786434888839722,\n          -1.778029441833496\n        ],\n        \"semantic_type\": \"\",\n        \"description\": \"\"\n      }\n    },\n    {\n      \"column\": 11,\n      \"properties\": {\n        \"dtype\": \"float32\",\n        \"num_unique_values\": 399,\n        \"samples\": [\n          -16.30906105041504,\n          -1.0162917375564575,\n          6.56492280960083\n        ],\n        \"semantic_type\": \"\",\n        \"description\": \"\"\n      }\n    },\n    {\n      \"column\": 12,\n      \"properties\": {\n        \"dtype\": \"float32\",\n        \"num_unique_values\": 399,\n        \"samples\": [\n          -4.739771366119385,\n          -4.015722751617432,\n          3.2474935054779053\n        ],\n        \"semantic_type\": \"\",\n        \"description\": \"\"\n      }\n    },\n    {\n      \"column\": \"label\",\n      \"properties\": {\n        \"dtype\": \"number\",\n        \"std\": 1,\n        \"min\": 0,\n        \"max\": 4,\n        \"num_unique_values\": 5,\n        \"samples\": [\n          4,\n          1,\n          2\n        ],\n        \"semantic_type\": \"\",\n        \"description\": \"\"\n      }\n    }\n  ]\n}"
            }
          },
          "metadata": {},
          "execution_count": 12
        }
      ]
    },
    {
      "cell_type": "code",
      "source": [
        "#This ensures all features have a mean of 0 and a standard deviation of 1, making training more stable.\n",
        "\n",
        "from sklearn.preprocessing import StandardScaler\n",
        "\n",
        "scaler = StandardScaler()\n",
        "features_scaled = scaler.fit_transform(df.iloc[:, :-1])  # Normalize only feature columns\n",
        "\n",
        "# Convert back to DataFrame\n",
        "df_scaled = pd.DataFrame(features_scaled)\n",
        "df_scaled['label'] = df['label']\n",
        "\n",
        "df_scaled.head()"
      ],
      "metadata": {
        "colab": {
          "base_uri": "https://localhost:8080/",
          "height": 226
        },
        "id": "xDqo5Ek7LZv7",
        "outputId": "2d985437-32b2-49f8-90c3-f8fe7d870496"
      },
      "execution_count": 13,
      "outputs": [
        {
          "output_type": "execute_result",
          "data": {
            "text/plain": [
              "          0         1         2         3         4         5         6  \\\n",
              "0  1.153807  0.094064  0.981763 -0.769187 -0.917454  0.072794  0.555671   \n",
              "1  0.728418 -0.064383  0.394961 -0.904987 -1.186542  0.624949  0.318791   \n",
              "2  0.478069  0.355997  0.484986 -0.520078 -1.171820  0.519727  0.788042   \n",
              "3  0.956842  0.282367  1.050734 -1.020589 -0.470394  0.046521  0.807032   \n",
              "4  0.512028 -0.126763  0.467862 -0.634957 -1.644290  0.656075  1.170313   \n",
              "\n",
              "          7         8         9        10        11        12  label  \n",
              "0  0.733831  0.285873 -0.422913  1.006160  0.126218  0.036263      0  \n",
              "1 -0.025188  0.365926 -0.530094 -0.093428  0.192144  0.124126      0  \n",
              "2  0.169739  0.271557 -0.740992  0.474994  0.090848  0.444559      0  \n",
              "3  1.182605 -0.244362  0.594712  0.532991 -0.238170  0.848486      0  \n",
              "4  0.209190 -0.609481  0.627834  0.394189 -0.087010  1.384863      0  "
            ],
            "text/html": [
              "\n",
              "  <div id=\"df-09d855c2-e804-4670-910d-92430d85af57\" class=\"colab-df-container\">\n",
              "    <div>\n",
              "<style scoped>\n",
              "    .dataframe tbody tr th:only-of-type {\n",
              "        vertical-align: middle;\n",
              "    }\n",
              "\n",
              "    .dataframe tbody tr th {\n",
              "        vertical-align: top;\n",
              "    }\n",
              "\n",
              "    .dataframe thead th {\n",
              "        text-align: right;\n",
              "    }\n",
              "</style>\n",
              "<table border=\"1\" class=\"dataframe\">\n",
              "  <thead>\n",
              "    <tr style=\"text-align: right;\">\n",
              "      <th></th>\n",
              "      <th>0</th>\n",
              "      <th>1</th>\n",
              "      <th>2</th>\n",
              "      <th>3</th>\n",
              "      <th>4</th>\n",
              "      <th>5</th>\n",
              "      <th>6</th>\n",
              "      <th>7</th>\n",
              "      <th>8</th>\n",
              "      <th>9</th>\n",
              "      <th>10</th>\n",
              "      <th>11</th>\n",
              "      <th>12</th>\n",
              "      <th>label</th>\n",
              "    </tr>\n",
              "  </thead>\n",
              "  <tbody>\n",
              "    <tr>\n",
              "      <th>0</th>\n",
              "      <td>1.153807</td>\n",
              "      <td>0.094064</td>\n",
              "      <td>0.981763</td>\n",
              "      <td>-0.769187</td>\n",
              "      <td>-0.917454</td>\n",
              "      <td>0.072794</td>\n",
              "      <td>0.555671</td>\n",
              "      <td>0.733831</td>\n",
              "      <td>0.285873</td>\n",
              "      <td>-0.422913</td>\n",
              "      <td>1.006160</td>\n",
              "      <td>0.126218</td>\n",
              "      <td>0.036263</td>\n",
              "      <td>0</td>\n",
              "    </tr>\n",
              "    <tr>\n",
              "      <th>1</th>\n",
              "      <td>0.728418</td>\n",
              "      <td>-0.064383</td>\n",
              "      <td>0.394961</td>\n",
              "      <td>-0.904987</td>\n",
              "      <td>-1.186542</td>\n",
              "      <td>0.624949</td>\n",
              "      <td>0.318791</td>\n",
              "      <td>-0.025188</td>\n",
              "      <td>0.365926</td>\n",
              "      <td>-0.530094</td>\n",
              "      <td>-0.093428</td>\n",
              "      <td>0.192144</td>\n",
              "      <td>0.124126</td>\n",
              "      <td>0</td>\n",
              "    </tr>\n",
              "    <tr>\n",
              "      <th>2</th>\n",
              "      <td>0.478069</td>\n",
              "      <td>0.355997</td>\n",
              "      <td>0.484986</td>\n",
              "      <td>-0.520078</td>\n",
              "      <td>-1.171820</td>\n",
              "      <td>0.519727</td>\n",
              "      <td>0.788042</td>\n",
              "      <td>0.169739</td>\n",
              "      <td>0.271557</td>\n",
              "      <td>-0.740992</td>\n",
              "      <td>0.474994</td>\n",
              "      <td>0.090848</td>\n",
              "      <td>0.444559</td>\n",
              "      <td>0</td>\n",
              "    </tr>\n",
              "    <tr>\n",
              "      <th>3</th>\n",
              "      <td>0.956842</td>\n",
              "      <td>0.282367</td>\n",
              "      <td>1.050734</td>\n",
              "      <td>-1.020589</td>\n",
              "      <td>-0.470394</td>\n",
              "      <td>0.046521</td>\n",
              "      <td>0.807032</td>\n",
              "      <td>1.182605</td>\n",
              "      <td>-0.244362</td>\n",
              "      <td>0.594712</td>\n",
              "      <td>0.532991</td>\n",
              "      <td>-0.238170</td>\n",
              "      <td>0.848486</td>\n",
              "      <td>0</td>\n",
              "    </tr>\n",
              "    <tr>\n",
              "      <th>4</th>\n",
              "      <td>0.512028</td>\n",
              "      <td>-0.126763</td>\n",
              "      <td>0.467862</td>\n",
              "      <td>-0.634957</td>\n",
              "      <td>-1.644290</td>\n",
              "      <td>0.656075</td>\n",
              "      <td>1.170313</td>\n",
              "      <td>0.209190</td>\n",
              "      <td>-0.609481</td>\n",
              "      <td>0.627834</td>\n",
              "      <td>0.394189</td>\n",
              "      <td>-0.087010</td>\n",
              "      <td>1.384863</td>\n",
              "      <td>0</td>\n",
              "    </tr>\n",
              "  </tbody>\n",
              "</table>\n",
              "</div>\n",
              "    <div class=\"colab-df-buttons\">\n",
              "\n",
              "  <div class=\"colab-df-container\">\n",
              "    <button class=\"colab-df-convert\" onclick=\"convertToInteractive('df-09d855c2-e804-4670-910d-92430d85af57')\"\n",
              "            title=\"Convert this dataframe to an interactive table.\"\n",
              "            style=\"display:none;\">\n",
              "\n",
              "  <svg xmlns=\"http://www.w3.org/2000/svg\" height=\"24px\" viewBox=\"0 -960 960 960\">\n",
              "    <path d=\"M120-120v-720h720v720H120Zm60-500h600v-160H180v160Zm220 220h160v-160H400v160Zm0 220h160v-160H400v160ZM180-400h160v-160H180v160Zm440 0h160v-160H620v160ZM180-180h160v-160H180v160Zm440 0h160v-160H620v160Z\"/>\n",
              "  </svg>\n",
              "    </button>\n",
              "\n",
              "  <style>\n",
              "    .colab-df-container {\n",
              "      display:flex;\n",
              "      gap: 12px;\n",
              "    }\n",
              "\n",
              "    .colab-df-convert {\n",
              "      background-color: #E8F0FE;\n",
              "      border: none;\n",
              "      border-radius: 50%;\n",
              "      cursor: pointer;\n",
              "      display: none;\n",
              "      fill: #1967D2;\n",
              "      height: 32px;\n",
              "      padding: 0 0 0 0;\n",
              "      width: 32px;\n",
              "    }\n",
              "\n",
              "    .colab-df-convert:hover {\n",
              "      background-color: #E2EBFA;\n",
              "      box-shadow: 0px 1px 2px rgba(60, 64, 67, 0.3), 0px 1px 3px 1px rgba(60, 64, 67, 0.15);\n",
              "      fill: #174EA6;\n",
              "    }\n",
              "\n",
              "    .colab-df-buttons div {\n",
              "      margin-bottom: 4px;\n",
              "    }\n",
              "\n",
              "    [theme=dark] .colab-df-convert {\n",
              "      background-color: #3B4455;\n",
              "      fill: #D2E3FC;\n",
              "    }\n",
              "\n",
              "    [theme=dark] .colab-df-convert:hover {\n",
              "      background-color: #434B5C;\n",
              "      box-shadow: 0px 1px 3px 1px rgba(0, 0, 0, 0.15);\n",
              "      filter: drop-shadow(0px 1px 2px rgba(0, 0, 0, 0.3));\n",
              "      fill: #FFFFFF;\n",
              "    }\n",
              "  </style>\n",
              "\n",
              "    <script>\n",
              "      const buttonEl =\n",
              "        document.querySelector('#df-09d855c2-e804-4670-910d-92430d85af57 button.colab-df-convert');\n",
              "      buttonEl.style.display =\n",
              "        google.colab.kernel.accessAllowed ? 'block' : 'none';\n",
              "\n",
              "      async function convertToInteractive(key) {\n",
              "        const element = document.querySelector('#df-09d855c2-e804-4670-910d-92430d85af57');\n",
              "        const dataTable =\n",
              "          await google.colab.kernel.invokeFunction('convertToInteractive',\n",
              "                                                    [key], {});\n",
              "        if (!dataTable) return;\n",
              "\n",
              "        const docLinkHtml = 'Like what you see? Visit the ' +\n",
              "          '<a target=\"_blank\" href=https://colab.research.google.com/notebooks/data_table.ipynb>data table notebook</a>'\n",
              "          + ' to learn more about interactive tables.';\n",
              "        element.innerHTML = '';\n",
              "        dataTable['output_type'] = 'display_data';\n",
              "        await google.colab.output.renderOutput(dataTable, element);\n",
              "        const docLink = document.createElement('div');\n",
              "        docLink.innerHTML = docLinkHtml;\n",
              "        element.appendChild(docLink);\n",
              "      }\n",
              "    </script>\n",
              "  </div>\n",
              "\n",
              "\n",
              "<div id=\"df-62451fac-3552-4667-b6d8-69ab41f56552\">\n",
              "  <button class=\"colab-df-quickchart\" onclick=\"quickchart('df-62451fac-3552-4667-b6d8-69ab41f56552')\"\n",
              "            title=\"Suggest charts\"\n",
              "            style=\"display:none;\">\n",
              "\n",
              "<svg xmlns=\"http://www.w3.org/2000/svg\" height=\"24px\"viewBox=\"0 0 24 24\"\n",
              "     width=\"24px\">\n",
              "    <g>\n",
              "        <path d=\"M19 3H5c-1.1 0-2 .9-2 2v14c0 1.1.9 2 2 2h14c1.1 0 2-.9 2-2V5c0-1.1-.9-2-2-2zM9 17H7v-7h2v7zm4 0h-2V7h2v10zm4 0h-2v-4h2v4z\"/>\n",
              "    </g>\n",
              "</svg>\n",
              "  </button>\n",
              "\n",
              "<style>\n",
              "  .colab-df-quickchart {\n",
              "      --bg-color: #E8F0FE;\n",
              "      --fill-color: #1967D2;\n",
              "      --hover-bg-color: #E2EBFA;\n",
              "      --hover-fill-color: #174EA6;\n",
              "      --disabled-fill-color: #AAA;\n",
              "      --disabled-bg-color: #DDD;\n",
              "  }\n",
              "\n",
              "  [theme=dark] .colab-df-quickchart {\n",
              "      --bg-color: #3B4455;\n",
              "      --fill-color: #D2E3FC;\n",
              "      --hover-bg-color: #434B5C;\n",
              "      --hover-fill-color: #FFFFFF;\n",
              "      --disabled-bg-color: #3B4455;\n",
              "      --disabled-fill-color: #666;\n",
              "  }\n",
              "\n",
              "  .colab-df-quickchart {\n",
              "    background-color: var(--bg-color);\n",
              "    border: none;\n",
              "    border-radius: 50%;\n",
              "    cursor: pointer;\n",
              "    display: none;\n",
              "    fill: var(--fill-color);\n",
              "    height: 32px;\n",
              "    padding: 0;\n",
              "    width: 32px;\n",
              "  }\n",
              "\n",
              "  .colab-df-quickchart:hover {\n",
              "    background-color: var(--hover-bg-color);\n",
              "    box-shadow: 0 1px 2px rgba(60, 64, 67, 0.3), 0 1px 3px 1px rgba(60, 64, 67, 0.15);\n",
              "    fill: var(--button-hover-fill-color);\n",
              "  }\n",
              "\n",
              "  .colab-df-quickchart-complete:disabled,\n",
              "  .colab-df-quickchart-complete:disabled:hover {\n",
              "    background-color: var(--disabled-bg-color);\n",
              "    fill: var(--disabled-fill-color);\n",
              "    box-shadow: none;\n",
              "  }\n",
              "\n",
              "  .colab-df-spinner {\n",
              "    border: 2px solid var(--fill-color);\n",
              "    border-color: transparent;\n",
              "    border-bottom-color: var(--fill-color);\n",
              "    animation:\n",
              "      spin 1s steps(1) infinite;\n",
              "  }\n",
              "\n",
              "  @keyframes spin {\n",
              "    0% {\n",
              "      border-color: transparent;\n",
              "      border-bottom-color: var(--fill-color);\n",
              "      border-left-color: var(--fill-color);\n",
              "    }\n",
              "    20% {\n",
              "      border-color: transparent;\n",
              "      border-left-color: var(--fill-color);\n",
              "      border-top-color: var(--fill-color);\n",
              "    }\n",
              "    30% {\n",
              "      border-color: transparent;\n",
              "      border-left-color: var(--fill-color);\n",
              "      border-top-color: var(--fill-color);\n",
              "      border-right-color: var(--fill-color);\n",
              "    }\n",
              "    40% {\n",
              "      border-color: transparent;\n",
              "      border-right-color: var(--fill-color);\n",
              "      border-top-color: var(--fill-color);\n",
              "    }\n",
              "    60% {\n",
              "      border-color: transparent;\n",
              "      border-right-color: var(--fill-color);\n",
              "    }\n",
              "    80% {\n",
              "      border-color: transparent;\n",
              "      border-right-color: var(--fill-color);\n",
              "      border-bottom-color: var(--fill-color);\n",
              "    }\n",
              "    90% {\n",
              "      border-color: transparent;\n",
              "      border-bottom-color: var(--fill-color);\n",
              "    }\n",
              "  }\n",
              "</style>\n",
              "\n",
              "  <script>\n",
              "    async function quickchart(key) {\n",
              "      const quickchartButtonEl =\n",
              "        document.querySelector('#' + key + ' button');\n",
              "      quickchartButtonEl.disabled = true;  // To prevent multiple clicks.\n",
              "      quickchartButtonEl.classList.add('colab-df-spinner');\n",
              "      try {\n",
              "        const charts = await google.colab.kernel.invokeFunction(\n",
              "            'suggestCharts', [key], {});\n",
              "      } catch (error) {\n",
              "        console.error('Error during call to suggestCharts:', error);\n",
              "      }\n",
              "      quickchartButtonEl.classList.remove('colab-df-spinner');\n",
              "      quickchartButtonEl.classList.add('colab-df-quickchart-complete');\n",
              "    }\n",
              "    (() => {\n",
              "      let quickchartButtonEl =\n",
              "        document.querySelector('#df-62451fac-3552-4667-b6d8-69ab41f56552 button');\n",
              "      quickchartButtonEl.style.display =\n",
              "        google.colab.kernel.accessAllowed ? 'block' : 'none';\n",
              "    })();\n",
              "  </script>\n",
              "</div>\n",
              "\n",
              "    </div>\n",
              "  </div>\n"
            ],
            "application/vnd.google.colaboratory.intrinsic+json": {
              "type": "dataframe",
              "variable_name": "df_scaled",
              "summary": "{\n  \"name\": \"df_scaled\",\n  \"rows\": 400,\n  \"fields\": [\n    {\n      \"column\": 0,\n      \"properties\": {\n        \"dtype\": \"float32\",\n        \"num_unique_values\": 399,\n        \"samples\": [\n          0.1438150256872177,\n          -1.1725749969482422,\n          -1.555184245109558\n        ],\n        \"semantic_type\": \"\",\n        \"description\": \"\"\n      }\n    },\n    {\n      \"column\": 1,\n      \"properties\": {\n        \"dtype\": \"float32\",\n        \"num_unique_values\": 399,\n        \"samples\": [\n          -0.6193084120750427,\n          -1.52699875831604,\n          1.0297589302062988\n        ],\n        \"semantic_type\": \"\",\n        \"description\": \"\"\n      }\n    },\n    {\n      \"column\": 2,\n      \"properties\": {\n        \"dtype\": \"float32\",\n        \"num_unique_values\": 399,\n        \"samples\": [\n          -0.9068832397460938,\n          -1.2072858810424805,\n          0.3647530972957611\n        ],\n        \"semantic_type\": \"\",\n        \"description\": \"\"\n      }\n    },\n    {\n      \"column\": 3,\n      \"properties\": {\n        \"dtype\": \"float32\",\n        \"num_unique_values\": 399,\n        \"samples\": [\n          -1.767303466796875,\n          0.19813139736652374,\n          0.9533661007881165\n        ],\n        \"semantic_type\": \"\",\n        \"description\": \"\"\n      }\n    },\n    {\n      \"column\": 4,\n      \"properties\": {\n        \"dtype\": \"float32\",\n        \"num_unique_values\": 399,\n        \"samples\": [\n          -2.3292746543884277,\n          -0.39102473855018616,\n          -0.747718095779419\n        ],\n        \"semantic_type\": \"\",\n        \"description\": \"\"\n      }\n    },\n    {\n      \"column\": 5,\n      \"properties\": {\n        \"dtype\": \"float32\",\n        \"num_unique_values\": 399,\n        \"samples\": [\n          -1.0565528869628906,\n          0.13665471971035004,\n          1.0440746545791626\n        ],\n        \"semantic_type\": \"\",\n        \"description\": \"\"\n      }\n    },\n    {\n      \"column\": 6,\n      \"properties\": {\n        \"dtype\": \"float32\",\n        \"num_unique_values\": 399,\n        \"samples\": [\n          -0.8373778462409973,\n          0.8792038559913635,\n          0.9284432530403137\n        ],\n        \"semantic_type\": \"\",\n        \"description\": \"\"\n      }\n    },\n    {\n      \"column\": 7,\n      \"properties\": {\n        \"dtype\": \"float32\",\n        \"num_unique_values\": 399,\n        \"samples\": [\n          -1.4020063877105713,\n          0.26695847511291504,\n          -0.2525341808795929\n        ],\n        \"semantic_type\": \"\",\n        \"description\": \"\"\n      }\n    },\n    {\n      \"column\": 8,\n      \"properties\": {\n        \"dtype\": \"float32\",\n        \"num_unique_values\": 399,\n        \"samples\": [\n          -1.094924807548523,\n          0.9161295294761658,\n          1.6027870178222656\n        ],\n        \"semantic_type\": \"\",\n        \"description\": \"\"\n      }\n    },\n    {\n      \"column\": 9,\n      \"properties\": {\n        \"dtype\": \"float32\",\n        \"num_unique_values\": 399,\n        \"samples\": [\n          -1.4343475103378296,\n          0.624772310256958,\n          0.5651995539665222\n        ],\n        \"semantic_type\": \"\",\n        \"description\": \"\"\n      }\n    },\n    {\n      \"column\": 10,\n      \"properties\": {\n        \"dtype\": \"float32\",\n        \"num_unique_values\": 399,\n        \"samples\": [\n          -0.7099391222000122,\n          0.8321442604064941,\n          0.7099371552467346\n        ],\n        \"semantic_type\": \"\",\n        \"description\": \"\"\n      }\n    },\n    {\n      \"column\": 11,\n      \"properties\": {\n        \"dtype\": \"float32\",\n        \"num_unique_values\": 399,\n        \"samples\": [\n          -1.091004490852356,\n          0.563937246799469,\n          1.3843555450439453\n        ],\n        \"semantic_type\": \"\",\n        \"description\": \"\"\n      }\n    },\n    {\n      \"column\": 12,\n      \"properties\": {\n        \"dtype\": \"float32\",\n        \"num_unique_values\": 399,\n        \"samples\": [\n          -0.24937084317207336,\n          -0.12254373729228973,\n          1.149708867073059\n        ],\n        \"semantic_type\": \"\",\n        \"description\": \"\"\n      }\n    },\n    {\n      \"column\": \"label\",\n      \"properties\": {\n        \"dtype\": \"number\",\n        \"std\": 1,\n        \"min\": 0,\n        \"max\": 4,\n        \"num_unique_values\": 5,\n        \"samples\": [\n          4,\n          1,\n          2\n        ],\n        \"semantic_type\": \"\",\n        \"description\": \"\"\n      }\n    }\n  ]\n}"
            }
          },
          "metadata": {},
          "execution_count": 13
        }
      ]
    },
    {
      "cell_type": "code",
      "source": [
        "# splitting the data into train and test sets\n",
        "\n",
        "from sklearn.model_selection import train_test_split\n",
        "\n",
        "X = df_scaled.iloc[:, :-1]  # Features\n",
        "y = df_scaled['label']  # Labels\n",
        "\n",
        "# Splitting data into 80% training and 20% testing\n",
        "X_train, X_test, y_train, y_test = train_test_split(X, y, test_size=0.2, random_state=42, stratify=y)\n",
        "\n",
        "print(\"Training Samples:\", X_train.shape[0])\n",
        "print(\"Testing Samples:\", X_test.shape[0])\n"
      ],
      "metadata": {
        "colab": {
          "base_uri": "https://localhost:8080/"
        },
        "id": "0P-cAc6DwWH5",
        "outputId": "16549594-4be8-4e74-e2bb-900f69dd5262"
      },
      "execution_count": 44,
      "outputs": [
        {
          "output_type": "stream",
          "name": "stdout",
          "text": [
            "Training Samples: 320\n",
            "Testing Samples: 80\n"
          ]
        }
      ]
    },
    {
      "cell_type": "code",
      "source": [
        "from tensorflow.keras.utils import to_categorical\n",
        "import numpy as np\n",
        "\n",
        "y_train_categorical = to_categorical(y_train, num_classes=5)  # 5 emotions\n",
        "y_test_categorical = to_categorical(y_test, num_classes=5)\n"
      ],
      "metadata": {
        "id": "z2iWMxaAx1_R"
      },
      "execution_count": 45,
      "outputs": []
    },
    {
      "cell_type": "markdown",
      "source": [
        "Training a basic ml model"
      ],
      "metadata": {
        "id": "2scPc_7JyEq5"
      }
    },
    {
      "cell_type": "code",
      "source": [
        "from sklearn.ensemble import RandomForestClassifier\n",
        "from sklearn.metrics import accuracy_score, classification_report\n",
        "\n",
        "# Initialize Random Forest model\n",
        "rf_model = RandomForestClassifier(n_estimators=100, random_state=42)\n",
        "\n",
        "# Train the model\n",
        "rf_model.fit(X_train, y_train)\n",
        "\n",
        "# Predict on test data\n",
        "y_pred = rf_model.predict(X_test)\n",
        "\n",
        "# Evaluate model performance\n",
        "accuracy = accuracy_score(y_test, y_pred)\n",
        "print(f\"Test Accuracy: {accuracy:.2f}\")\n",
        "\n",
        "# Show classification report\n",
        "print(classification_report(y_test, y_pred))\n"
      ],
      "metadata": {
        "colab": {
          "base_uri": "https://localhost:8080/"
        },
        "id": "3KZsX6afx30v",
        "outputId": "a3525684-0ce5-4c25-9b9c-013043a8c2f7"
      },
      "execution_count": 46,
      "outputs": [
        {
          "output_type": "stream",
          "name": "stdout",
          "text": [
            "Test Accuracy: 0.75\n",
            "              precision    recall  f1-score   support\n",
            "\n",
            "           0       0.71      0.94      0.81        16\n",
            "           1       0.79      0.69      0.73        16\n",
            "           2       0.77      0.62      0.69        16\n",
            "           3       0.71      0.75      0.73        16\n",
            "           4       0.80      0.75      0.77        16\n",
            "\n",
            "    accuracy                           0.75        80\n",
            "   macro avg       0.76      0.75      0.75        80\n",
            "weighted avg       0.76      0.75      0.75        80\n",
            "\n"
          ]
        }
      ]
    },
    {
      "cell_type": "markdown",
      "source": [
        "SVM"
      ],
      "metadata": {
        "id": "EHOx8L8ZyjWr"
      }
    },
    {
      "cell_type": "code",
      "source": [
        "from sklearn.svm import SVC\n",
        "\n",
        "svm_model = SVC(kernel='rbf', C=1.0, random_state=42)\n",
        "svm_model.fit(X_train, y_train)\n",
        "\n",
        "y_pred_svm = svm_model.predict(X_test)\n",
        "print(f\"SVM Accuracy: {accuracy_score(y_test, y_pred_svm):.2f}\")\n",
        "svm_accuracy = accuracy_score(y_test, y_pred_svm)\n",
        "\n",
        "\n"
      ],
      "metadata": {
        "colab": {
          "base_uri": "https://localhost:8080/"
        },
        "id": "NcQ3szuUykJD",
        "outputId": "707b4444-5d79-4fb1-88dd-3519d4df1ab1"
      },
      "execution_count": 47,
      "outputs": [
        {
          "output_type": "stream",
          "name": "stdout",
          "text": [
            "SVM Accuracy: 0.70\n"
          ]
        }
      ]
    },
    {
      "cell_type": "markdown",
      "source": [
        "XG Boost"
      ],
      "metadata": {
        "id": "mEsWUntXyngL"
      }
    },
    {
      "cell_type": "code",
      "source": [
        "from xgboost import XGBClassifier\n",
        "\n",
        "xgb_model = XGBClassifier(use_label_encoder=False, eval_metric='mlogloss')\n",
        "xgb_model.fit(X_train, y_train)\n",
        "\n",
        "y_pred_xgb = xgb_model.predict(X_test)\n",
        "print(f\"XGBoost Accuracy: {accuracy_score(y_test, y_pred_xgb):.2f}\")\n",
        "\n",
        "xgboost_accuracy = accuracy_score(y_test, y_pred_xgb)\n"
      ],
      "metadata": {
        "colab": {
          "base_uri": "https://localhost:8080/"
        },
        "id": "uFgcz1T9ymxW",
        "outputId": "b77ae28e-5b00-4d8a-ad48-836d42949b47"
      },
      "execution_count": 48,
      "outputs": [
        {
          "output_type": "stream",
          "name": "stderr",
          "text": [
            "/usr/local/lib/python3.11/dist-packages/xgboost/core.py:158: UserWarning: [06:24:02] WARNING: /workspace/src/learner.cc:740: \n",
            "Parameters: { \"use_label_encoder\" } are not used.\n",
            "\n",
            "  warnings.warn(smsg, UserWarning)\n"
          ]
        },
        {
          "output_type": "stream",
          "name": "stdout",
          "text": [
            "XGBoost Accuracy: 0.79\n"
          ]
        }
      ]
    },
    {
      "cell_type": "markdown",
      "source": [
        "using deep learning models"
      ],
      "metadata": {
        "id": "cHdoEQJvymm2"
      }
    },
    {
      "cell_type": "code",
      "source": [
        "#Prepare Data for Deep Learning\n",
        "import numpy as np\n",
        "from tensorflow.keras.utils import to_categorical\n",
        "\n",
        "# Reshape data for deep learning models\n",
        "X_train = np.array(X_train).reshape(-1, 13, 1)  # 13 MFCCs, single-channel input\n",
        "X_test = np.array(X_test).reshape(-1, 13, 1)\n",
        "\n",
        "# Convert labels to categorical (one-hot encoding)\n",
        "y_train = to_categorical(y_train, num_classes=5)\n",
        "y_test = to_categorical(y_test, num_classes=5)\n"
      ],
      "metadata": {
        "id": "RSrWvtvbzHFz"
      },
      "execution_count": 49,
      "outputs": []
    },
    {
      "cell_type": "code",
      "source": [
        "# building the cnn model\n",
        "\n",
        "import tensorflow as tf\n",
        "from tensorflow.keras.models import Sequential\n",
        "from tensorflow.keras.layers import Conv1D, MaxPooling1D, Flatten, Dense, Dropout\n",
        "\n",
        "# Build CNN model\n",
        "cnn_model = Sequential([\n",
        "    Conv1D(64, kernel_size=3, activation='relu', input_shape=(13, 1)),\n",
        "    MaxPooling1D(pool_size=2),\n",
        "    Flatten(),\n",
        "    Dense(128, activation='relu'),\n",
        "    Dropout(0.3),\n",
        "    Dense(5, activation='softmax')  # 5 classes\n",
        "])\n",
        "\n",
        "# Compile model\n",
        "cnn_model.compile(loss='categorical_crossentropy', optimizer='adam', metrics=['accuracy'])\n",
        "\n",
        "# Train model\n",
        "model_cnn = cnn_model.fit(X_train, y_train, epochs=60, batch_size=16, validation_data=(X_test, y_test))\n"
      ],
      "metadata": {
        "colab": {
          "base_uri": "https://localhost:8080/"
        },
        "collapsed": true,
        "id": "xu7kWwNHzKTi",
        "outputId": "a59637e0-bec4-43dd-8028-37a2f6dd8286"
      },
      "execution_count": 51,
      "outputs": [
        {
          "output_type": "stream",
          "name": "stdout",
          "text": [
            "Epoch 1/60\n"
          ]
        },
        {
          "output_type": "stream",
          "name": "stderr",
          "text": [
            "/usr/local/lib/python3.11/dist-packages/keras/src/layers/convolutional/base_conv.py:107: UserWarning: Do not pass an `input_shape`/`input_dim` argument to a layer. When using Sequential models, prefer using an `Input(shape)` object as the first layer in the model instead.\n",
            "  super().__init__(activity_regularizer=activity_regularizer, **kwargs)\n"
          ]
        },
        {
          "output_type": "stream",
          "name": "stdout",
          "text": [
            "\u001b[1m20/20\u001b[0m \u001b[32m━━━━━━━━━━━━━━━━━━━━\u001b[0m\u001b[37m\u001b[0m \u001b[1m3s\u001b[0m 23ms/step - accuracy: 0.2692 - loss: 1.5946 - val_accuracy: 0.3000 - val_loss: 1.5575\n",
            "Epoch 2/60\n",
            "\u001b[1m20/20\u001b[0m \u001b[32m━━━━━━━━━━━━━━━━━━━━\u001b[0m\u001b[37m\u001b[0m \u001b[1m0s\u001b[0m 5ms/step - accuracy: 0.3201 - loss: 1.5072 - val_accuracy: 0.4000 - val_loss: 1.4737\n",
            "Epoch 3/60\n",
            "\u001b[1m20/20\u001b[0m \u001b[32m━━━━━━━━━━━━━━━━━━━━\u001b[0m\u001b[37m\u001b[0m \u001b[1m0s\u001b[0m 7ms/step - accuracy: 0.3810 - loss: 1.4422 - val_accuracy: 0.4625 - val_loss: 1.4112\n",
            "Epoch 4/60\n",
            "\u001b[1m20/20\u001b[0m \u001b[32m━━━━━━━━━━━━━━━━━━━━\u001b[0m\u001b[37m\u001b[0m \u001b[1m0s\u001b[0m 7ms/step - accuracy: 0.4675 - loss: 1.3677 - val_accuracy: 0.4500 - val_loss: 1.3338\n",
            "Epoch 5/60\n",
            "\u001b[1m20/20\u001b[0m \u001b[32m━━━━━━━━━━━━━━━━━━━━\u001b[0m\u001b[37m\u001b[0m \u001b[1m0s\u001b[0m 7ms/step - accuracy: 0.4881 - loss: 1.2947 - val_accuracy: 0.5250 - val_loss: 1.2679\n",
            "Epoch 6/60\n",
            "\u001b[1m20/20\u001b[0m \u001b[32m━━━━━━━━━━━━━━━━━━━━\u001b[0m\u001b[37m\u001b[0m \u001b[1m0s\u001b[0m 5ms/step - accuracy: 0.5553 - loss: 1.2069 - val_accuracy: 0.4875 - val_loss: 1.2303\n",
            "Epoch 7/60\n",
            "\u001b[1m20/20\u001b[0m \u001b[32m━━━━━━━━━━━━━━━━━━━━\u001b[0m\u001b[37m\u001b[0m \u001b[1m0s\u001b[0m 5ms/step - accuracy: 0.5100 - loss: 1.1708 - val_accuracy: 0.5875 - val_loss: 1.1387\n",
            "Epoch 8/60\n",
            "\u001b[1m20/20\u001b[0m \u001b[32m━━━━━━━━━━━━━━━━━━━━\u001b[0m\u001b[37m\u001b[0m \u001b[1m0s\u001b[0m 5ms/step - accuracy: 0.6267 - loss: 1.0850 - val_accuracy: 0.5625 - val_loss: 1.1104\n",
            "Epoch 9/60\n",
            "\u001b[1m20/20\u001b[0m \u001b[32m━━━━━━━━━━━━━━━━━━━━\u001b[0m\u001b[37m\u001b[0m \u001b[1m0s\u001b[0m 7ms/step - accuracy: 0.6228 - loss: 1.0495 - val_accuracy: 0.5875 - val_loss: 1.0657\n",
            "Epoch 10/60\n",
            "\u001b[1m20/20\u001b[0m \u001b[32m━━━━━━━━━━━━━━━━━━━━\u001b[0m\u001b[37m\u001b[0m \u001b[1m0s\u001b[0m 7ms/step - accuracy: 0.6396 - loss: 0.9941 - val_accuracy: 0.6125 - val_loss: 0.9910\n",
            "Epoch 11/60\n",
            "\u001b[1m20/20\u001b[0m \u001b[32m━━━━━━━━━━━━━━━━━━━━\u001b[0m\u001b[37m\u001b[0m \u001b[1m0s\u001b[0m 6ms/step - accuracy: 0.6840 - loss: 0.9273 - val_accuracy: 0.6375 - val_loss: 0.9460\n",
            "Epoch 12/60\n",
            "\u001b[1m20/20\u001b[0m \u001b[32m━━━━━━━━━━━━━━━━━━━━\u001b[0m\u001b[37m\u001b[0m \u001b[1m0s\u001b[0m 7ms/step - accuracy: 0.6883 - loss: 0.8569 - val_accuracy: 0.6500 - val_loss: 0.9499\n",
            "Epoch 13/60\n",
            "\u001b[1m20/20\u001b[0m \u001b[32m━━━━━━━━━━━━━━━━━━━━\u001b[0m\u001b[37m\u001b[0m \u001b[1m0s\u001b[0m 7ms/step - accuracy: 0.7443 - loss: 0.8039 - val_accuracy: 0.6375 - val_loss: 0.8877\n",
            "Epoch 14/60\n",
            "\u001b[1m20/20\u001b[0m \u001b[32m━━━━━━━━━━━━━━━━━━━━\u001b[0m\u001b[37m\u001b[0m \u001b[1m0s\u001b[0m 5ms/step - accuracy: 0.6822 - loss: 0.8144 - val_accuracy: 0.6500 - val_loss: 0.8937\n",
            "Epoch 15/60\n",
            "\u001b[1m20/20\u001b[0m \u001b[32m━━━━━━━━━━━━━━━━━━━━\u001b[0m\u001b[37m\u001b[0m \u001b[1m0s\u001b[0m 7ms/step - accuracy: 0.7250 - loss: 0.7991 - val_accuracy: 0.6500 - val_loss: 0.8517\n",
            "Epoch 16/60\n",
            "\u001b[1m20/20\u001b[0m \u001b[32m━━━━━━━━━━━━━━━━━━━━\u001b[0m\u001b[37m\u001b[0m \u001b[1m0s\u001b[0m 5ms/step - accuracy: 0.7360 - loss: 0.7309 - val_accuracy: 0.6875 - val_loss: 0.8631\n",
            "Epoch 17/60\n",
            "\u001b[1m20/20\u001b[0m \u001b[32m━━━━━━━━━━━━━━━━━━━━\u001b[0m\u001b[37m\u001b[0m \u001b[1m0s\u001b[0m 5ms/step - accuracy: 0.7288 - loss: 0.7223 - val_accuracy: 0.7250 - val_loss: 0.7950\n",
            "Epoch 18/60\n",
            "\u001b[1m20/20\u001b[0m \u001b[32m━━━━━━━━━━━━━━━━━━━━\u001b[0m\u001b[37m\u001b[0m \u001b[1m0s\u001b[0m 7ms/step - accuracy: 0.8086 - loss: 0.6652 - val_accuracy: 0.7250 - val_loss: 0.7956\n",
            "Epoch 19/60\n",
            "\u001b[1m20/20\u001b[0m \u001b[32m━━━━━━━━━━━━━━━━━━━━\u001b[0m\u001b[37m\u001b[0m \u001b[1m0s\u001b[0m 7ms/step - accuracy: 0.8044 - loss: 0.6053 - val_accuracy: 0.7625 - val_loss: 0.7441\n",
            "Epoch 20/60\n",
            "\u001b[1m20/20\u001b[0m \u001b[32m━━━━━━━━━━━━━━━━━━━━\u001b[0m\u001b[37m\u001b[0m \u001b[1m0s\u001b[0m 5ms/step - accuracy: 0.7826 - loss: 0.6503 - val_accuracy: 0.7750 - val_loss: 0.7504\n",
            "Epoch 21/60\n",
            "\u001b[1m20/20\u001b[0m \u001b[32m━━━━━━━━━━━━━━━━━━━━\u001b[0m\u001b[37m\u001b[0m \u001b[1m0s\u001b[0m 5ms/step - accuracy: 0.8322 - loss: 0.5698 - val_accuracy: 0.7750 - val_loss: 0.7321\n",
            "Epoch 22/60\n",
            "\u001b[1m20/20\u001b[0m \u001b[32m━━━━━━━━━━━━━━━━━━━━\u001b[0m\u001b[37m\u001b[0m \u001b[1m0s\u001b[0m 8ms/step - accuracy: 0.7982 - loss: 0.6160 - val_accuracy: 0.7250 - val_loss: 0.7339\n",
            "Epoch 23/60\n",
            "\u001b[1m20/20\u001b[0m \u001b[32m━━━━━━━━━━━━━━━━━━━━\u001b[0m\u001b[37m\u001b[0m \u001b[1m0s\u001b[0m 5ms/step - accuracy: 0.8243 - loss: 0.5797 - val_accuracy: 0.7750 - val_loss: 0.7036\n",
            "Epoch 24/60\n",
            "\u001b[1m20/20\u001b[0m \u001b[32m━━━━━━━━━━━━━━━━━━━━\u001b[0m\u001b[37m\u001b[0m \u001b[1m0s\u001b[0m 5ms/step - accuracy: 0.7918 - loss: 0.5773 - val_accuracy: 0.7625 - val_loss: 0.7018\n",
            "Epoch 25/60\n",
            "\u001b[1m20/20\u001b[0m \u001b[32m━━━━━━━━━━━━━━━━━━━━\u001b[0m\u001b[37m\u001b[0m \u001b[1m0s\u001b[0m 5ms/step - accuracy: 0.8419 - loss: 0.5444 - val_accuracy: 0.7625 - val_loss: 0.7159\n",
            "Epoch 26/60\n",
            "\u001b[1m20/20\u001b[0m \u001b[32m━━━━━━━━━━━━━━━━━━━━\u001b[0m\u001b[37m\u001b[0m \u001b[1m0s\u001b[0m 5ms/step - accuracy: 0.8227 - loss: 0.5191 - val_accuracy: 0.8125 - val_loss: 0.6591\n",
            "Epoch 27/60\n",
            "\u001b[1m20/20\u001b[0m \u001b[32m━━━━━━━━━━━━━━━━━━━━\u001b[0m\u001b[37m\u001b[0m \u001b[1m0s\u001b[0m 5ms/step - accuracy: 0.8685 - loss: 0.4633 - val_accuracy: 0.8125 - val_loss: 0.6671\n",
            "Epoch 28/60\n",
            "\u001b[1m20/20\u001b[0m \u001b[32m━━━━━━━━━━━━━━━━━━━━\u001b[0m\u001b[37m\u001b[0m \u001b[1m0s\u001b[0m 7ms/step - accuracy: 0.8435 - loss: 0.4758 - val_accuracy: 0.8250 - val_loss: 0.6461\n",
            "Epoch 29/60\n",
            "\u001b[1m20/20\u001b[0m \u001b[32m━━━━━━━━━━━━━━━━━━━━\u001b[0m\u001b[37m\u001b[0m \u001b[1m0s\u001b[0m 5ms/step - accuracy: 0.8384 - loss: 0.4731 - val_accuracy: 0.7875 - val_loss: 0.6835\n",
            "Epoch 30/60\n",
            "\u001b[1m20/20\u001b[0m \u001b[32m━━━━━━━━━━━━━━━━━━━━\u001b[0m\u001b[37m\u001b[0m \u001b[1m0s\u001b[0m 5ms/step - accuracy: 0.8320 - loss: 0.4786 - val_accuracy: 0.7875 - val_loss: 0.6426\n",
            "Epoch 31/60\n",
            "\u001b[1m20/20\u001b[0m \u001b[32m━━━━━━━━━━━━━━━━━━━━\u001b[0m\u001b[37m\u001b[0m \u001b[1m0s\u001b[0m 5ms/step - accuracy: 0.8404 - loss: 0.4520 - val_accuracy: 0.8000 - val_loss: 0.6778\n",
            "Epoch 32/60\n",
            "\u001b[1m20/20\u001b[0m \u001b[32m━━━━━━━━━━━━━━━━━━━━\u001b[0m\u001b[37m\u001b[0m \u001b[1m0s\u001b[0m 5ms/step - accuracy: 0.8650 - loss: 0.4141 - val_accuracy: 0.8125 - val_loss: 0.6331\n",
            "Epoch 33/60\n",
            "\u001b[1m20/20\u001b[0m \u001b[32m━━━━━━━━━━━━━━━━━━━━\u001b[0m\u001b[37m\u001b[0m \u001b[1m0s\u001b[0m 5ms/step - accuracy: 0.8768 - loss: 0.4334 - val_accuracy: 0.7875 - val_loss: 0.6366\n",
            "Epoch 34/60\n",
            "\u001b[1m20/20\u001b[0m \u001b[32m━━━━━━━━━━━━━━━━━━━━\u001b[0m\u001b[37m\u001b[0m \u001b[1m0s\u001b[0m 5ms/step - accuracy: 0.8653 - loss: 0.3876 - val_accuracy: 0.8250 - val_loss: 0.6300\n",
            "Epoch 35/60\n",
            "\u001b[1m20/20\u001b[0m \u001b[32m━━━━━━━━━━━━━━━━━━━━\u001b[0m\u001b[37m\u001b[0m \u001b[1m0s\u001b[0m 7ms/step - accuracy: 0.9001 - loss: 0.3731 - val_accuracy: 0.8125 - val_loss: 0.6437\n",
            "Epoch 36/60\n",
            "\u001b[1m20/20\u001b[0m \u001b[32m━━━━━━━━━━━━━━━━━━━━\u001b[0m\u001b[37m\u001b[0m \u001b[1m0s\u001b[0m 5ms/step - accuracy: 0.8965 - loss: 0.3482 - val_accuracy: 0.8000 - val_loss: 0.6166\n",
            "Epoch 37/60\n",
            "\u001b[1m20/20\u001b[0m \u001b[32m━━━━━━━━━━━━━━━━━━━━\u001b[0m\u001b[37m\u001b[0m \u001b[1m0s\u001b[0m 7ms/step - accuracy: 0.8962 - loss: 0.3576 - val_accuracy: 0.8000 - val_loss: 0.6387\n",
            "Epoch 38/60\n",
            "\u001b[1m20/20\u001b[0m \u001b[32m━━━━━━━━━━━━━━━━━━━━\u001b[0m\u001b[37m\u001b[0m \u001b[1m0s\u001b[0m 5ms/step - accuracy: 0.8735 - loss: 0.3358 - val_accuracy: 0.8000 - val_loss: 0.6594\n",
            "Epoch 39/60\n",
            "\u001b[1m20/20\u001b[0m \u001b[32m━━━━━━━━━━━━━━━━━━━━\u001b[0m\u001b[37m\u001b[0m \u001b[1m0s\u001b[0m 7ms/step - accuracy: 0.9184 - loss: 0.2893 - val_accuracy: 0.8125 - val_loss: 0.5968\n",
            "Epoch 40/60\n",
            "\u001b[1m20/20\u001b[0m \u001b[32m━━━━━━━━━━━━━━━━━━━━\u001b[0m\u001b[37m\u001b[0m \u001b[1m0s\u001b[0m 7ms/step - accuracy: 0.9332 - loss: 0.2820 - val_accuracy: 0.8000 - val_loss: 0.6124\n",
            "Epoch 41/60\n",
            "\u001b[1m20/20\u001b[0m \u001b[32m━━━━━━━━━━━━━━━━━━━━\u001b[0m\u001b[37m\u001b[0m \u001b[1m0s\u001b[0m 5ms/step - accuracy: 0.9025 - loss: 0.2767 - val_accuracy: 0.7875 - val_loss: 0.6495\n",
            "Epoch 42/60\n",
            "\u001b[1m20/20\u001b[0m \u001b[32m━━━━━━━━━━━━━━━━━━━━\u001b[0m\u001b[37m\u001b[0m \u001b[1m0s\u001b[0m 7ms/step - accuracy: 0.9083 - loss: 0.3213 - val_accuracy: 0.8375 - val_loss: 0.6978\n",
            "Epoch 43/60\n",
            "\u001b[1m20/20\u001b[0m \u001b[32m━━━━━━━━━━━━━━━━━━━━\u001b[0m\u001b[37m\u001b[0m \u001b[1m0s\u001b[0m 9ms/step - accuracy: 0.8959 - loss: 0.3355 - val_accuracy: 0.7750 - val_loss: 0.6304\n",
            "Epoch 44/60\n",
            "\u001b[1m20/20\u001b[0m \u001b[32m━━━━━━━━━━━━━━━━━━━━\u001b[0m\u001b[37m\u001b[0m \u001b[1m0s\u001b[0m 7ms/step - accuracy: 0.9192 - loss: 0.2850 - val_accuracy: 0.8000 - val_loss: 0.6399\n",
            "Epoch 45/60\n",
            "\u001b[1m20/20\u001b[0m \u001b[32m━━━━━━━━━━━━━━━━━━━━\u001b[0m\u001b[37m\u001b[0m \u001b[1m0s\u001b[0m 9ms/step - accuracy: 0.9257 - loss: 0.2603 - val_accuracy: 0.8125 - val_loss: 0.6703\n",
            "Epoch 46/60\n",
            "\u001b[1m20/20\u001b[0m \u001b[32m━━━━━━━━━━━━━━━━━━━━\u001b[0m\u001b[37m\u001b[0m \u001b[1m0s\u001b[0m 7ms/step - accuracy: 0.9015 - loss: 0.2823 - val_accuracy: 0.7875 - val_loss: 0.6258\n",
            "Epoch 47/60\n",
            "\u001b[1m20/20\u001b[0m \u001b[32m━━━━━━━━━━━━━━━━━━━━\u001b[0m\u001b[37m\u001b[0m \u001b[1m0s\u001b[0m 9ms/step - accuracy: 0.9389 - loss: 0.2404 - val_accuracy: 0.8375 - val_loss: 0.6319\n",
            "Epoch 48/60\n",
            "\u001b[1m20/20\u001b[0m \u001b[32m━━━━━━━━━━━━━━━━━━━━\u001b[0m\u001b[37m\u001b[0m \u001b[1m0s\u001b[0m 7ms/step - accuracy: 0.9064 - loss: 0.2814 - val_accuracy: 0.8250 - val_loss: 0.6112\n",
            "Epoch 49/60\n",
            "\u001b[1m20/20\u001b[0m \u001b[32m━━━━━━━━━━━━━━━━━━━━\u001b[0m\u001b[37m\u001b[0m \u001b[1m0s\u001b[0m 9ms/step - accuracy: 0.9242 - loss: 0.2555 - val_accuracy: 0.7375 - val_loss: 0.6331\n",
            "Epoch 50/60\n",
            "\u001b[1m20/20\u001b[0m \u001b[32m━━━━━━━━━━━━━━━━━━━━\u001b[0m\u001b[37m\u001b[0m \u001b[1m0s\u001b[0m 8ms/step - accuracy: 0.9132 - loss: 0.2548 - val_accuracy: 0.8125 - val_loss: 0.6130\n",
            "Epoch 51/60\n",
            "\u001b[1m20/20\u001b[0m \u001b[32m━━━━━━━━━━━━━━━━━━━━\u001b[0m\u001b[37m\u001b[0m \u001b[1m0s\u001b[0m 15ms/step - accuracy: 0.9603 - loss: 0.2048 - val_accuracy: 0.8000 - val_loss: 0.6733\n",
            "Epoch 52/60\n",
            "\u001b[1m20/20\u001b[0m \u001b[32m━━━━━━━━━━━━━━━━━━━━\u001b[0m\u001b[37m\u001b[0m \u001b[1m1s\u001b[0m 12ms/step - accuracy: 0.9407 - loss: 0.2179 - val_accuracy: 0.7875 - val_loss: 0.6261\n",
            "Epoch 53/60\n",
            "\u001b[1m20/20\u001b[0m \u001b[32m━━━━━━━━━━━━━━━━━━━━\u001b[0m\u001b[37m\u001b[0m \u001b[1m0s\u001b[0m 10ms/step - accuracy: 0.9254 - loss: 0.2587 - val_accuracy: 0.8000 - val_loss: 0.6650\n",
            "Epoch 54/60\n",
            "\u001b[1m20/20\u001b[0m \u001b[32m━━━━━━━━━━━━━━━━━━━━\u001b[0m\u001b[37m\u001b[0m \u001b[1m0s\u001b[0m 7ms/step - accuracy: 0.9166 - loss: 0.2301 - val_accuracy: 0.8000 - val_loss: 0.6084\n",
            "Epoch 55/60\n",
            "\u001b[1m20/20\u001b[0m \u001b[32m━━━━━━━━━━━━━━━━━━━━\u001b[0m\u001b[37m\u001b[0m \u001b[1m0s\u001b[0m 9ms/step - accuracy: 0.9614 - loss: 0.2175 - val_accuracy: 0.8125 - val_loss: 0.6295\n",
            "Epoch 56/60\n",
            "\u001b[1m20/20\u001b[0m \u001b[32m━━━━━━━━━━━━━━━━━━━━\u001b[0m\u001b[37m\u001b[0m \u001b[1m0s\u001b[0m 10ms/step - accuracy: 0.9517 - loss: 0.1761 - val_accuracy: 0.8375 - val_loss: 0.6483\n",
            "Epoch 57/60\n",
            "\u001b[1m20/20\u001b[0m \u001b[32m━━━━━━━━━━━━━━━━━━━━\u001b[0m\u001b[37m\u001b[0m \u001b[1m1s\u001b[0m 22ms/step - accuracy: 0.9422 - loss: 0.1860 - val_accuracy: 0.8125 - val_loss: 0.6324\n",
            "Epoch 58/60\n",
            "\u001b[1m20/20\u001b[0m \u001b[32m━━━━━━━━━━━━━━━━━━━━\u001b[0m\u001b[37m\u001b[0m \u001b[1m0s\u001b[0m 8ms/step - accuracy: 0.9628 - loss: 0.1853 - val_accuracy: 0.8125 - val_loss: 0.6186\n",
            "Epoch 59/60\n",
            "\u001b[1m20/20\u001b[0m \u001b[32m━━━━━━━━━━━━━━━━━━━━\u001b[0m\u001b[37m\u001b[0m \u001b[1m0s\u001b[0m 5ms/step - accuracy: 0.9355 - loss: 0.1652 - val_accuracy: 0.7750 - val_loss: 0.6164\n",
            "Epoch 60/60\n",
            "\u001b[1m20/20\u001b[0m \u001b[32m━━━━━━━━━━━━━━━━━━━━\u001b[0m\u001b[37m\u001b[0m \u001b[1m0s\u001b[0m 5ms/step - accuracy: 0.9794 - loss: 0.1681 - val_accuracy: 0.8250 - val_loss: 0.6651\n"
          ]
        }
      ]
    },
    {
      "cell_type": "code",
      "source": [
        "#LSTM Model\n",
        "\n",
        "from tensorflow.keras.layers import LSTM\n",
        "\n",
        "# Build LSTM model\n",
        "lstm_model = Sequential([\n",
        "    LSTM(64, return_sequences=True, input_shape=(13, 1)),\n",
        "    LSTM(64),\n",
        "    Dense(128, activation='relu'),\n",
        "    Dropout(0.3),\n",
        "    Dense(5, activation='softmax')  # 5 emotion classes\n",
        "])\n",
        "\n",
        "# Compile model\n",
        "lstm_model.compile(loss='categorical_crossentropy', optimizer='adam', metrics=['accuracy'])\n",
        "\n",
        "# Train model\n",
        "model_lstm = lstm_model.fit(X_train, y_train, epochs=60, batch_size=16, validation_data=(X_test, y_test))\n"
      ],
      "metadata": {
        "colab": {
          "base_uri": "https://localhost:8080/"
        },
        "collapsed": true,
        "id": "FhNTple6zWGw",
        "outputId": "5af9e595-9604-44e0-8a27-e74738e97f67"
      },
      "execution_count": 52,
      "outputs": [
        {
          "output_type": "stream",
          "name": "stdout",
          "text": [
            "Epoch 1/60\n"
          ]
        },
        {
          "output_type": "stream",
          "name": "stderr",
          "text": [
            "/usr/local/lib/python3.11/dist-packages/keras/src/layers/rnn/rnn.py:200: UserWarning: Do not pass an `input_shape`/`input_dim` argument to a layer. When using Sequential models, prefer using an `Input(shape)` object as the first layer in the model instead.\n",
            "  super().__init__(**kwargs)\n"
          ]
        },
        {
          "output_type": "stream",
          "name": "stdout",
          "text": [
            "\u001b[1m20/20\u001b[0m \u001b[32m━━━━━━━━━━━━━━━━━━━━\u001b[0m\u001b[37m\u001b[0m \u001b[1m2s\u001b[0m 27ms/step - accuracy: 0.2076 - loss: 1.6130 - val_accuracy: 0.1875 - val_loss: 1.6077\n",
            "Epoch 2/60\n",
            "\u001b[1m20/20\u001b[0m \u001b[32m━━━━━━━━━━━━━━━━━━━━\u001b[0m\u001b[37m\u001b[0m \u001b[1m0s\u001b[0m 9ms/step - accuracy: 0.2428 - loss: 1.6008 - val_accuracy: 0.2000 - val_loss: 1.6050\n",
            "Epoch 3/60\n",
            "\u001b[1m20/20\u001b[0m \u001b[32m━━━━━━━━━━━━━━━━━━━━\u001b[0m\u001b[37m\u001b[0m \u001b[1m0s\u001b[0m 11ms/step - accuracy: 0.3128 - loss: 1.5922 - val_accuracy: 0.2750 - val_loss: 1.6018\n",
            "Epoch 4/60\n",
            "\u001b[1m20/20\u001b[0m \u001b[32m━━━━━━━━━━━━━━━━━━━━\u001b[0m\u001b[37m\u001b[0m \u001b[1m0s\u001b[0m 14ms/step - accuracy: 0.2855 - loss: 1.5767 - val_accuracy: 0.3000 - val_loss: 1.5930\n",
            "Epoch 5/60\n",
            "\u001b[1m20/20\u001b[0m \u001b[32m━━━━━━━━━━━━━━━━━━━━\u001b[0m\u001b[37m\u001b[0m \u001b[1m0s\u001b[0m 13ms/step - accuracy: 0.3412 - loss: 1.5797 - val_accuracy: 0.3000 - val_loss: 1.5852\n",
            "Epoch 6/60\n",
            "\u001b[1m20/20\u001b[0m \u001b[32m━━━━━━━━━━━━━━━━━━━━\u001b[0m\u001b[37m\u001b[0m \u001b[1m0s\u001b[0m 13ms/step - accuracy: 0.2913 - loss: 1.5744 - val_accuracy: 0.3125 - val_loss: 1.5774\n",
            "Epoch 7/60\n",
            "\u001b[1m20/20\u001b[0m \u001b[32m━━━━━━━━━━━━━━━━━━━━\u001b[0m\u001b[37m\u001b[0m \u001b[1m0s\u001b[0m 15ms/step - accuracy: 0.3292 - loss: 1.5428 - val_accuracy: 0.2750 - val_loss: 1.5507\n",
            "Epoch 8/60\n",
            "\u001b[1m20/20\u001b[0m \u001b[32m━━━━━━━━━━━━━━━━━━━━\u001b[0m\u001b[37m\u001b[0m \u001b[1m1s\u001b[0m 13ms/step - accuracy: 0.3561 - loss: 1.5087 - val_accuracy: 0.2500 - val_loss: 1.5373\n",
            "Epoch 9/60\n",
            "\u001b[1m20/20\u001b[0m \u001b[32m━━━━━━━━━━━━━━━━━━━━\u001b[0m\u001b[37m\u001b[0m \u001b[1m0s\u001b[0m 14ms/step - accuracy: 0.3768 - loss: 1.4743 - val_accuracy: 0.3125 - val_loss: 1.5118\n",
            "Epoch 10/60\n",
            "\u001b[1m20/20\u001b[0m \u001b[32m━━━━━━━━━━━━━━━━━━━━\u001b[0m\u001b[37m\u001b[0m \u001b[1m0s\u001b[0m 14ms/step - accuracy: 0.3933 - loss: 1.4873 - val_accuracy: 0.3750 - val_loss: 1.4967\n",
            "Epoch 11/60\n",
            "\u001b[1m20/20\u001b[0m \u001b[32m━━━━━━━━━━━━━━━━━━━━\u001b[0m\u001b[37m\u001b[0m \u001b[1m1s\u001b[0m 9ms/step - accuracy: 0.4135 - loss: 1.4095 - val_accuracy: 0.3125 - val_loss: 1.4790\n",
            "Epoch 12/60\n",
            "\u001b[1m20/20\u001b[0m \u001b[32m━━━━━━━━━━━━━━━━━━━━\u001b[0m\u001b[37m\u001b[0m \u001b[1m0s\u001b[0m 9ms/step - accuracy: 0.3240 - loss: 1.5042 - val_accuracy: 0.3250 - val_loss: 1.4795\n",
            "Epoch 13/60\n",
            "\u001b[1m20/20\u001b[0m \u001b[32m━━━━━━━━━━━━━━━━━━━━\u001b[0m\u001b[37m\u001b[0m \u001b[1m0s\u001b[0m 8ms/step - accuracy: 0.3822 - loss: 1.4035 - val_accuracy: 0.4000 - val_loss: 1.4310\n",
            "Epoch 14/60\n",
            "\u001b[1m20/20\u001b[0m \u001b[32m━━━━━━━━━━━━━━━━━━━━\u001b[0m\u001b[37m\u001b[0m \u001b[1m0s\u001b[0m 12ms/step - accuracy: 0.4021 - loss: 1.4243 - val_accuracy: 0.3875 - val_loss: 1.3837\n",
            "Epoch 15/60\n",
            "\u001b[1m20/20\u001b[0m \u001b[32m━━━━━━━━━━━━━━━━━━━━\u001b[0m\u001b[37m\u001b[0m \u001b[1m0s\u001b[0m 11ms/step - accuracy: 0.3827 - loss: 1.3357 - val_accuracy: 0.3625 - val_loss: 1.3617\n",
            "Epoch 16/60\n",
            "\u001b[1m20/20\u001b[0m \u001b[32m━━━━━━━━━━━━━━━━━━━━\u001b[0m\u001b[37m\u001b[0m \u001b[1m0s\u001b[0m 9ms/step - accuracy: 0.4094 - loss: 1.3794 - val_accuracy: 0.4000 - val_loss: 1.3964\n",
            "Epoch 17/60\n",
            "\u001b[1m20/20\u001b[0m \u001b[32m━━━━━━━━━━━━━━━━━━━━\u001b[0m\u001b[37m\u001b[0m \u001b[1m0s\u001b[0m 9ms/step - accuracy: 0.4324 - loss: 1.4050 - val_accuracy: 0.3625 - val_loss: 1.3905\n",
            "Epoch 18/60\n",
            "\u001b[1m20/20\u001b[0m \u001b[32m━━━━━━━━━━━━━━━━━━━━\u001b[0m\u001b[37m\u001b[0m \u001b[1m0s\u001b[0m 10ms/step - accuracy: 0.4479 - loss: 1.3801 - val_accuracy: 0.4000 - val_loss: 1.3610\n",
            "Epoch 19/60\n",
            "\u001b[1m20/20\u001b[0m \u001b[32m━━━━━━━━━━━━━━━━━━━━\u001b[0m\u001b[37m\u001b[0m \u001b[1m0s\u001b[0m 9ms/step - accuracy: 0.4046 - loss: 1.3489 - val_accuracy: 0.3375 - val_loss: 1.3304\n",
            "Epoch 20/60\n",
            "\u001b[1m20/20\u001b[0m \u001b[32m━━━━━━━━━━━━━━━━━━━━\u001b[0m\u001b[37m\u001b[0m \u001b[1m0s\u001b[0m 9ms/step - accuracy: 0.4320 - loss: 1.3035 - val_accuracy: 0.4250 - val_loss: 1.3222\n",
            "Epoch 21/60\n",
            "\u001b[1m20/20\u001b[0m \u001b[32m━━━━━━━━━━━━━━━━━━━━\u001b[0m\u001b[37m\u001b[0m \u001b[1m0s\u001b[0m 9ms/step - accuracy: 0.4691 - loss: 1.2826 - val_accuracy: 0.4500 - val_loss: 1.3655\n",
            "Epoch 22/60\n",
            "\u001b[1m20/20\u001b[0m \u001b[32m━━━━━━━━━━━━━━━━━━━━\u001b[0m\u001b[37m\u001b[0m \u001b[1m0s\u001b[0m 11ms/step - accuracy: 0.4877 - loss: 1.2978 - val_accuracy: 0.4000 - val_loss: 1.3295\n",
            "Epoch 23/60\n",
            "\u001b[1m20/20\u001b[0m \u001b[32m━━━━━━━━━━━━━━━━━━━━\u001b[0m\u001b[37m\u001b[0m \u001b[1m0s\u001b[0m 9ms/step - accuracy: 0.4124 - loss: 1.3609 - val_accuracy: 0.4750 - val_loss: 1.3094\n",
            "Epoch 24/60\n",
            "\u001b[1m20/20\u001b[0m \u001b[32m━━━━━━━━━━━━━━━━━━━━\u001b[0m\u001b[37m\u001b[0m \u001b[1m0s\u001b[0m 9ms/step - accuracy: 0.4745 - loss: 1.2407 - val_accuracy: 0.3500 - val_loss: 1.3585\n",
            "Epoch 25/60\n",
            "\u001b[1m20/20\u001b[0m \u001b[32m━━━━━━━━━━━━━━━━━━━━\u001b[0m\u001b[37m\u001b[0m \u001b[1m0s\u001b[0m 8ms/step - accuracy: 0.4255 - loss: 1.2818 - val_accuracy: 0.4625 - val_loss: 1.2727\n",
            "Epoch 26/60\n",
            "\u001b[1m20/20\u001b[0m \u001b[32m━━━━━━━━━━━━━━━━━━━━\u001b[0m\u001b[37m\u001b[0m \u001b[1m0s\u001b[0m 11ms/step - accuracy: 0.5721 - loss: 1.1662 - val_accuracy: 0.5125 - val_loss: 1.2831\n",
            "Epoch 27/60\n",
            "\u001b[1m20/20\u001b[0m \u001b[32m━━━━━━━━━━━━━━━━━━━━\u001b[0m\u001b[37m\u001b[0m \u001b[1m0s\u001b[0m 9ms/step - accuracy: 0.5191 - loss: 1.2376 - val_accuracy: 0.4500 - val_loss: 1.2575\n",
            "Epoch 28/60\n",
            "\u001b[1m20/20\u001b[0m \u001b[32m━━━━━━━━━━━━━━━━━━━━\u001b[0m\u001b[37m\u001b[0m \u001b[1m0s\u001b[0m 9ms/step - accuracy: 0.5447 - loss: 1.1230 - val_accuracy: 0.4125 - val_loss: 1.2618\n",
            "Epoch 29/60\n",
            "\u001b[1m20/20\u001b[0m \u001b[32m━━━━━━━━━━━━━━━━━━━━\u001b[0m\u001b[37m\u001b[0m \u001b[1m0s\u001b[0m 9ms/step - accuracy: 0.4869 - loss: 1.1683 - val_accuracy: 0.5000 - val_loss: 1.2265\n",
            "Epoch 30/60\n",
            "\u001b[1m20/20\u001b[0m \u001b[32m━━━━━━━━━━━━━━━━━━━━\u001b[0m\u001b[37m\u001b[0m \u001b[1m0s\u001b[0m 10ms/step - accuracy: 0.5289 - loss: 1.1157 - val_accuracy: 0.5000 - val_loss: 1.1965\n",
            "Epoch 31/60\n",
            "\u001b[1m20/20\u001b[0m \u001b[32m━━━━━━━━━━━━━━━━━━━━\u001b[0m\u001b[37m\u001b[0m \u001b[1m0s\u001b[0m 9ms/step - accuracy: 0.5906 - loss: 1.0457 - val_accuracy: 0.5125 - val_loss: 1.1978\n",
            "Epoch 32/60\n",
            "\u001b[1m20/20\u001b[0m \u001b[32m━━━━━━━━━━━━━━━━━━━━\u001b[0m\u001b[37m\u001b[0m \u001b[1m0s\u001b[0m 9ms/step - accuracy: 0.5709 - loss: 1.0745 - val_accuracy: 0.5250 - val_loss: 1.1646\n",
            "Epoch 33/60\n",
            "\u001b[1m20/20\u001b[0m \u001b[32m━━━━━━━━━━━━━━━━━━━━\u001b[0m\u001b[37m\u001b[0m \u001b[1m0s\u001b[0m 11ms/step - accuracy: 0.5475 - loss: 1.1549 - val_accuracy: 0.5375 - val_loss: 1.1535\n",
            "Epoch 34/60\n",
            "\u001b[1m20/20\u001b[0m \u001b[32m━━━━━━━━━━━━━━━━━━━━\u001b[0m\u001b[37m\u001b[0m \u001b[1m0s\u001b[0m 10ms/step - accuracy: 0.6187 - loss: 1.0219 - val_accuracy: 0.5125 - val_loss: 1.1532\n",
            "Epoch 35/60\n",
            "\u001b[1m20/20\u001b[0m \u001b[32m━━━━━━━━━━━━━━━━━━━━\u001b[0m\u001b[37m\u001b[0m \u001b[1m0s\u001b[0m 9ms/step - accuracy: 0.6001 - loss: 1.0030 - val_accuracy: 0.5750 - val_loss: 1.0680\n",
            "Epoch 36/60\n",
            "\u001b[1m20/20\u001b[0m \u001b[32m━━━━━━━━━━━━━━━━━━━━\u001b[0m\u001b[37m\u001b[0m \u001b[1m0s\u001b[0m 9ms/step - accuracy: 0.6501 - loss: 0.9381 - val_accuracy: 0.6125 - val_loss: 1.0588\n",
            "Epoch 37/60\n",
            "\u001b[1m20/20\u001b[0m \u001b[32m━━━━━━━━━━━━━━━━━━━━\u001b[0m\u001b[37m\u001b[0m \u001b[1m0s\u001b[0m 9ms/step - accuracy: 0.6212 - loss: 0.9591 - val_accuracy: 0.6125 - val_loss: 1.0034\n",
            "Epoch 38/60\n",
            "\u001b[1m20/20\u001b[0m \u001b[32m━━━━━━━━━━━━━━━━━━━━\u001b[0m\u001b[37m\u001b[0m \u001b[1m0s\u001b[0m 11ms/step - accuracy: 0.6819 - loss: 0.8713 - val_accuracy: 0.5500 - val_loss: 1.0761\n",
            "Epoch 39/60\n",
            "\u001b[1m20/20\u001b[0m \u001b[32m━━━━━━━━━━━━━━━━━━━━\u001b[0m\u001b[37m\u001b[0m \u001b[1m0s\u001b[0m 10ms/step - accuracy: 0.6111 - loss: 0.9892 - val_accuracy: 0.5750 - val_loss: 1.0518\n",
            "Epoch 40/60\n",
            "\u001b[1m20/20\u001b[0m \u001b[32m━━━━━━━━━━━━━━━━━━━━\u001b[0m\u001b[37m\u001b[0m \u001b[1m0s\u001b[0m 11ms/step - accuracy: 0.6347 - loss: 0.9130 - val_accuracy: 0.6500 - val_loss: 0.9360\n",
            "Epoch 41/60\n",
            "\u001b[1m20/20\u001b[0m \u001b[32m━━━━━━━━━━━━━━━━━━━━\u001b[0m\u001b[37m\u001b[0m \u001b[1m0s\u001b[0m 9ms/step - accuracy: 0.6980 - loss: 0.8439 - val_accuracy: 0.6125 - val_loss: 1.0774\n",
            "Epoch 42/60\n",
            "\u001b[1m20/20\u001b[0m \u001b[32m━━━━━━━━━━━━━━━━━━━━\u001b[0m\u001b[37m\u001b[0m \u001b[1m0s\u001b[0m 9ms/step - accuracy: 0.6920 - loss: 0.7917 - val_accuracy: 0.5875 - val_loss: 1.0732\n",
            "Epoch 43/60\n",
            "\u001b[1m20/20\u001b[0m \u001b[32m━━━━━━━━━━━━━━━━━━━━\u001b[0m\u001b[37m\u001b[0m \u001b[1m0s\u001b[0m 10ms/step - accuracy: 0.6488 - loss: 0.8770 - val_accuracy: 0.6125 - val_loss: 1.0047\n",
            "Epoch 44/60\n",
            "\u001b[1m20/20\u001b[0m \u001b[32m━━━━━━━━━━━━━━━━━━━━\u001b[0m\u001b[37m\u001b[0m \u001b[1m0s\u001b[0m 9ms/step - accuracy: 0.7347 - loss: 0.7788 - val_accuracy: 0.6500 - val_loss: 0.9827\n",
            "Epoch 45/60\n",
            "\u001b[1m20/20\u001b[0m \u001b[32m━━━━━━━━━━━━━━━━━━━━\u001b[0m\u001b[37m\u001b[0m \u001b[1m0s\u001b[0m 9ms/step - accuracy: 0.7564 - loss: 0.7383 - val_accuracy: 0.6625 - val_loss: 0.9526\n",
            "Epoch 46/60\n",
            "\u001b[1m20/20\u001b[0m \u001b[32m━━━━━━━━━━━━━━━━━━━━\u001b[0m\u001b[37m\u001b[0m \u001b[1m0s\u001b[0m 9ms/step - accuracy: 0.7083 - loss: 0.7714 - val_accuracy: 0.6750 - val_loss: 0.9035\n",
            "Epoch 47/60\n",
            "\u001b[1m20/20\u001b[0m \u001b[32m━━━━━━━━━━━━━━━━━━━━\u001b[0m\u001b[37m\u001b[0m \u001b[1m0s\u001b[0m 9ms/step - accuracy: 0.7355 - loss: 0.7027 - val_accuracy: 0.6000 - val_loss: 1.1255\n",
            "Epoch 48/60\n",
            "\u001b[1m20/20\u001b[0m \u001b[32m━━━━━━━━━━━━━━━━━━━━\u001b[0m\u001b[37m\u001b[0m \u001b[1m0s\u001b[0m 11ms/step - accuracy: 0.6930 - loss: 0.7733 - val_accuracy: 0.6625 - val_loss: 1.0067\n",
            "Epoch 49/60\n",
            "\u001b[1m20/20\u001b[0m \u001b[32m━━━━━━━━━━━━━━━━━━━━\u001b[0m\u001b[37m\u001b[0m \u001b[1m0s\u001b[0m 9ms/step - accuracy: 0.7483 - loss: 0.6890 - val_accuracy: 0.6750 - val_loss: 0.9713\n",
            "Epoch 50/60\n",
            "\u001b[1m20/20\u001b[0m \u001b[32m━━━━━━━━━━━━━━━━━━━━\u001b[0m\u001b[37m\u001b[0m \u001b[1m0s\u001b[0m 11ms/step - accuracy: 0.7118 - loss: 0.7505 - val_accuracy: 0.6750 - val_loss: 1.0208\n",
            "Epoch 51/60\n",
            "\u001b[1m20/20\u001b[0m \u001b[32m━━━━━━━━━━━━━━━━━━━━\u001b[0m\u001b[37m\u001b[0m \u001b[1m0s\u001b[0m 11ms/step - accuracy: 0.7225 - loss: 0.7080 - val_accuracy: 0.6875 - val_loss: 0.9446\n",
            "Epoch 52/60\n",
            "\u001b[1m20/20\u001b[0m \u001b[32m━━━━━━━━━━━━━━━━━━━━\u001b[0m\u001b[37m\u001b[0m \u001b[1m0s\u001b[0m 14ms/step - accuracy: 0.7803 - loss: 0.6351 - val_accuracy: 0.7125 - val_loss: 0.9504\n",
            "Epoch 53/60\n",
            "\u001b[1m20/20\u001b[0m \u001b[32m━━━━━━━━━━━━━━━━━━━━\u001b[0m\u001b[37m\u001b[0m \u001b[1m0s\u001b[0m 13ms/step - accuracy: 0.8077 - loss: 0.5571 - val_accuracy: 0.6625 - val_loss: 1.0992\n",
            "Epoch 54/60\n",
            "\u001b[1m20/20\u001b[0m \u001b[32m━━━━━━━━━━━━━━━━━━━━\u001b[0m\u001b[37m\u001b[0m \u001b[1m0s\u001b[0m 14ms/step - accuracy: 0.7795 - loss: 0.5691 - val_accuracy: 0.6250 - val_loss: 1.0768\n",
            "Epoch 55/60\n",
            "\u001b[1m20/20\u001b[0m \u001b[32m━━━━━━━━━━━━━━━━━━━━\u001b[0m\u001b[37m\u001b[0m \u001b[1m1s\u001b[0m 14ms/step - accuracy: 0.7473 - loss: 0.6041 - val_accuracy: 0.6000 - val_loss: 1.1410\n",
            "Epoch 56/60\n",
            "\u001b[1m20/20\u001b[0m \u001b[32m━━━━━━━━━━━━━━━━━━━━\u001b[0m\u001b[37m\u001b[0m \u001b[1m0s\u001b[0m 12ms/step - accuracy: 0.7859 - loss: 0.6063 - val_accuracy: 0.6875 - val_loss: 0.9199\n",
            "Epoch 57/60\n",
            "\u001b[1m20/20\u001b[0m \u001b[32m━━━━━━━━━━━━━━━━━━━━\u001b[0m\u001b[37m\u001b[0m \u001b[1m0s\u001b[0m 12ms/step - accuracy: 0.8093 - loss: 0.5718 - val_accuracy: 0.6375 - val_loss: 1.0470\n",
            "Epoch 58/60\n",
            "\u001b[1m20/20\u001b[0m \u001b[32m━━━━━━━━━━━━━━━━━━━━\u001b[0m\u001b[37m\u001b[0m \u001b[1m0s\u001b[0m 15ms/step - accuracy: 0.7839 - loss: 0.5986 - val_accuracy: 0.6625 - val_loss: 1.0745\n",
            "Epoch 59/60\n",
            "\u001b[1m20/20\u001b[0m \u001b[32m━━━━━━━━━━━━━━━━━━━━\u001b[0m\u001b[37m\u001b[0m \u001b[1m1s\u001b[0m 11ms/step - accuracy: 0.8132 - loss: 0.5355 - val_accuracy: 0.6750 - val_loss: 0.8667\n",
            "Epoch 60/60\n",
            "\u001b[1m20/20\u001b[0m \u001b[32m━━━━━━━━━━━━━━━━━━━━\u001b[0m\u001b[37m\u001b[0m \u001b[1m0s\u001b[0m 9ms/step - accuracy: 0.8323 - loss: 0.4671 - val_accuracy: 0.7000 - val_loss: 1.0356\n"
          ]
        }
      ]
    },
    {
      "cell_type": "code",
      "source": [
        "cnn_acc = cnn_model.evaluate(X_test, y_test)[1]\n",
        "lstm_acc = lstm_model.evaluate(X_test, y_test)[1]\n",
        "\n",
        "print(f\"CNN Test Accuracy: {cnn_acc:.2f}\")\n",
        "print(f\"LSTM Test Accuracy: {lstm_acc:.2f}\")\n"
      ],
      "metadata": {
        "colab": {
          "base_uri": "https://localhost:8080/"
        },
        "id": "im0i9NYYzo7D",
        "outputId": "681ba683-b390-49a4-a660-726423218ef3"
      },
      "execution_count": 22,
      "outputs": [
        {
          "output_type": "stream",
          "name": "stdout",
          "text": [
            "\u001b[1m3/3\u001b[0m \u001b[32m━━━━━━━━━━━━━━━━━━━━\u001b[0m\u001b[37m\u001b[0m \u001b[1m1s\u001b[0m 88ms/step - accuracy: 0.7828 - loss: 0.7805\n",
            "\u001b[1m3/3\u001b[0m \u001b[32m━━━━━━━━━━━━━━━━━━━━\u001b[0m\u001b[37m\u001b[0m \u001b[1m0s\u001b[0m 12ms/step - accuracy: 0.7555 - loss: 0.7439 \n",
            "CNN Test Accuracy: 0.80\n",
            "LSTM Test Accuracy: 0.74\n"
          ]
        }
      ]
    },
    {
      "cell_type": "code",
      "source": [
        "import matplotlib.pyplot as plt\n",
        "\n",
        "# Accuracy values (replace with your actual results)\n",
        "model_names = [\"CNN\", \"LSTM\", \"SVM\", \"XGBoost\"]\n",
        "accuracy_scores = [cnn_acc, lstm_acc, svm_accuracy, xgboost_accuracy]  # Make sure these are defined\n",
        "\n",
        "# Plot the bar chart\n",
        "plt.figure(figsize=(8, 6))\n",
        "plt.bar(model_names, accuracy_scores, color=['blue', 'green', 'red', 'purple'])\n",
        "\n",
        "# Labels and title\n",
        "plt.xlabel(\"Models\")\n",
        "plt.ylabel(\"Accuracy\")\n",
        "plt.title(\"Model Accuracy Comparison\")\n",
        "plt.ylim(0, 1)  # Accuracy ranges between 0 and 1\n",
        "plt.grid(axis=\"y\", linestyle=\"--\", alpha=0.7)\n",
        "\n",
        "# Show accuracy values on bars\n",
        "for i, acc in enumerate(accuracy_scores):\n",
        "    plt.text(i, acc + 0.02, f\"{acc:.2f}\", ha='center', fontsize=12)\n",
        "\n",
        "# Show plot\n",
        "plt.show()\n"
      ],
      "metadata": {
        "colab": {
          "base_uri": "https://localhost:8080/",
          "height": 564
        },
        "id": "2dHos6yq2S5X",
        "outputId": "dc1fca58-d02e-4f83-dabc-409e818139ec"
      },
      "execution_count": 23,
      "outputs": [
        {
          "output_type": "display_data",
          "data": {
            "text/plain": [
              "<Figure size 800x600 with 1 Axes>"
            ],
            "image/png": "[encoded data removed]"
          },
          "metadata": {}
        }
      ]
    },
    {
      "cell_type": "code",
      "source": [
        "import matplotlib.pyplot as plt\n",
        "import seaborn as sns\n",
        "\n",
        "# Accuracy values (replace with your actual results)\n",
        "model_names = [\"CNN\", \"LSTM\", \"SVM\", \"XGBoost\"]\n",
        "accuracy_scores = [0.81, 0.61, 0.70, 0.79]  # Replace with your actual accuracies\n",
        "\n",
        "# Set seaborn style\n",
        "sns.set_style(\"whitegrid\")\n",
        "plt.figure(figsize=(8, 6))\n",
        "\n",
        "# Bar chart with colors and edge color\n",
        "bars = plt.bar(model_names, accuracy_scores, color=['royalblue', 'seagreen', 'crimson', 'purple'], edgecolor='black', width=0.6)\n",
        "\n",
        "# Labels and title\n",
        "plt.xlabel(\"Models\", fontsize=14)\n",
        "plt.ylabel(\"Accuracy\", fontsize=14)\n",
        "plt.title(\"Model Accuracy Comparison\", fontsize=16, fontweight='bold')\n",
        "plt.ylim(0, 1)  # Accuracy ranges between 0 and 1\n",
        "plt.xticks(fontsize=12)\n",
        "plt.yticks(fontsize=12)\n",
        "\n",
        "# Show accuracy values on bars\n",
        "for bar in bars:\n",
        "    yval = bar.get_height()\n",
        "    plt.text(bar.get_x() + bar.get_width()/2, yval + 0.02, f\"{yval:.2f}\", ha='center', fontsize=12, fontweight='bold')\n",
        "\n",
        "# Show plot\n",
        "plt.show()\n"
      ],
      "metadata": {
        "colab": {
          "base_uri": "https://localhost:8080/",
          "height": 575
        },
        "id": "qz19hgOz4S5p",
        "outputId": "09fc10f4-56a3-4ca2-f5b3-2703137eae30"
      },
      "execution_count": 24,
      "outputs": [
        {
          "output_type": "display_data",
          "data": {
            "text/plain": [
              "<Figure size 800x600 with 1 Axes>"
            ],
            "image/png": "[encoded data removed]"
          },
          "metadata": {}
        }
      ]
    },
    {
      "cell_type": "markdown",
      "source": [
        "Confusion matrix"
      ],
      "metadata": {
        "id": "rfG2kxne7yZ8"
      }
    },
    {
      "cell_type": "code",
      "source": [
        "y_pred_cnn = cnn_model.predict(X_test)\n",
        "y_pred_cnn = np.argmax(y_pred_cnn, axis=1)  # Convert one-hot predictions to class indices\n",
        "\n",
        "y_pred_cnn"
      ],
      "metadata": {
        "colab": {
          "base_uri": "https://localhost:8080/"
        },
        "id": "uoVmKEXK8CXs",
        "outputId": "344643e8-a520-4716-e9f9-386c66ba6b5b"
      },
      "execution_count": 29,
      "outputs": [
        {
          "output_type": "stream",
          "name": "stdout",
          "text": [
            "\u001b[1m3/3\u001b[0m \u001b[32m━━━━━━━━━━━━━━━━━━━━\u001b[0m\u001b[37m\u001b[0m \u001b[1m0s\u001b[0m 29ms/step \n"
          ]
        },
        {
          "output_type": "execute_result",
          "data": {
            "text/plain": [
              "array([2, 2, 3, 0, 1, 2, 3, 2, 4, 3, 2, 4, 3, 2, 4, 1, 1, 4, 0, 4, 4, 0,\n",
              "       3, 3, 3, 2, 3, 0, 0, 3, 4, 4, 2, 3, 4, 2, 0, 4, 3, 4, 2, 4, 0, 1,\n",
              "       2, 1, 2, 4, 0, 0, 2, 3, 4, 2, 1, 0, 4, 1, 1, 1, 0, 3, 3, 2, 4, 3,\n",
              "       0, 3, 4, 0, 3, 1, 0, 2, 3, 1, 3, 3, 1, 0])"
            ]
          },
          "metadata": {},
          "execution_count": 29
        }
      ]
    },
    {
      "cell_type": "code",
      "source": [
        "print(y_pred_cnn.shape)\n"
      ],
      "metadata": {
        "colab": {
          "base_uri": "https://localhost:8080/"
        },
        "id": "LKFJ647eREBr",
        "outputId": "9efe329f-3156-4e97-e72d-1c7b6dce35e6"
      },
      "execution_count": 34,
      "outputs": [
        {
          "output_type": "stream",
          "name": "stdout",
          "text": [
            "(80,)\n"
          ]
        }
      ]
    },
    {
      "cell_type": "code",
      "source": [
        "import numpy as np\n",
        "from sklearn.metrics import confusion_matrix, classification_report\n",
        "import seaborn as sns\n",
        "import matplotlib.pyplot as plt\n",
        "\n",
        "# Ensure y_test is in label format\n",
        "if len(y_test.shape) > 1 and y_test.shape[1] > 1:\n",
        "    y_test = np.argmax(y_test, axis=1)\n",
        "\n",
        "# Ensure y_pred_cnn is also in label format\n",
        "if len(y_pred_cnn.shape) > 1:\n",
        "    y_pred_cnn = np.argmax(y_pred_cnn, axis=1)\n",
        "\n",
        "# Compute confusion matrix\n",
        "cm = confusion_matrix(y_test, y_pred_cnn)\n",
        "\n",
        "# Class labels\n",
        "class_names = ['Anger', 'Fear', 'Happy', 'Neutral', 'Sad']\n",
        "\n",
        "# Plot confusion matrix\n",
        "plt.figure(figsize=(6, 5))\n",
        "sns.heatmap(cm, annot=True, fmt='d', cmap=\"Blues\", xticklabels=class_names, yticklabels=class_names)\n",
        "plt.xlabel('Predicted')\n",
        "plt.ylabel('Actual')\n",
        "plt.title('Confusion Matrix - CNN Model')\n",
        "plt.show()\n",
        "\n",
        "# Print classification report\n",
        "print(\"Classification Report for CNN:\\n\", classification_report(y_test, y_pred_cnn, target_names=class_names))"
      ],
      "metadata": {
        "colab": {
          "base_uri": "https://localhost:8080/",
          "height": 713
        },
        "id": "dNko_84mQpSK",
        "outputId": "b457a22a-9f6b-4646-e27d-ce230b716ff0"
      },
      "execution_count": 35,
      "outputs": [
        {
          "output_type": "display_data",
          "data": {
            "text/plain": [
              "<Figure size 600x500 with 2 Axes>"
            ],
            "image/png": "[encoded data removed]"
          },
          "metadata": {}
        },
        {
          "output_type": "stream",
          "name": "stdout",
          "text": [
            "Classification Report for CNN:\n",
            "               precision    recall  f1-score   support\n",
            "\n",
            "       Anger       0.87      0.81      0.84        16\n",
            "        Fear       0.75      0.56      0.64        16\n",
            "       Happy       0.94      0.94      0.94        16\n",
            "     Neutral       0.70      0.88      0.78        16\n",
            "         Sad       0.76      0.81      0.79        16\n",
            "\n",
            "    accuracy                           0.80        80\n",
            "   macro avg       0.80      0.80      0.80        80\n",
            "weighted avg       0.80      0.80      0.80        80\n",
            "\n"
          ]
        }
      ]
    },
    {
      "cell_type": "markdown",
      "source": [
        " Plot Training & Validation Curves"
      ],
      "metadata": {
        "id": "LhdkStPaTqj7"
      }
    },
    {
      "cell_type": "code",
      "source": [
        "history = model.fit(X_train, y_train, validation_data=(X_test, y_test), epochs=20, batch_size=32)"
      ],
      "metadata": {
        "colab": {
          "base_uri": "https://localhost:8080/",
          "height": 141
        },
        "id": "1Bc_b4MeULy0",
        "outputId": "bc49e6f8-d41e-4a91-cc9d-a3592eceb495"
      },
      "execution_count": 39,
      "outputs": [
        {
          "output_type": "error",
          "ename": "NameError",
          "evalue": "name 'model' is not defined",
          "traceback": [
            "\u001b[0;31m---------------------------------------------------------------------------\u001b[0m",
            "\u001b[0;31mNameError\u001b[0m                                 Traceback (most recent call last)",
            "\u001b[0;32m<ipython-input-39-1ef32d2ed34c>\u001b[0m in \u001b[0;36m<cell line: 0>\u001b[0;34m()\u001b[0m\n\u001b[0;32m----> 1\u001b[0;31m \u001b[0mhistory\u001b[0m \u001b[0;34m=\u001b[0m \u001b[0mmodel\u001b[0m\u001b[0;34m.\u001b[0m\u001b[0mfit\u001b[0m\u001b[0;34m(\u001b[0m\u001b[0mX_train\u001b[0m\u001b[0;34m,\u001b[0m \u001b[0my_train\u001b[0m\u001b[0;34m,\u001b[0m \u001b[0mvalidation_data\u001b[0m\u001b[0;34m=\u001b[0m\u001b[0;34m(\u001b[0m\u001b[0mX_test\u001b[0m\u001b[0;34m,\u001b[0m \u001b[0my_test\u001b[0m\u001b[0;34m)\u001b[0m\u001b[0;34m,\u001b[0m \u001b[0mepochs\u001b[0m\u001b[0;34m=\u001b[0m\u001b[0;36m20\u001b[0m\u001b[0;34m,\u001b[0m \u001b[0mbatch_size\u001b[0m\u001b[0;34m=\u001b[0m\u001b[0;36m32\u001b[0m\u001b[0;34m)\u001b[0m\u001b[0;34m\u001b[0m\u001b[0;34m\u001b[0m\u001b[0m\n\u001b[0m",
            "\u001b[0;31mNameError\u001b[0m: name 'model' is not defined"
          ]
        }
      ]
    },
    {
      "cell_type": "code",
      "source": [
        "import matplotlib.pyplot as plt\n",
        "\n",
        "\n",
        "history = model_cnn\n",
        "\n",
        "# Assuming you have history object from model.fit()\n",
        "def plot_training_curves(history):\n",
        "    plt.figure(figsize=(12, 5))\n",
        "\n",
        "    # Plot accuracy\n",
        "    plt.subplot(1, 2, 1)\n",
        "    plt.plot(history.history['accuracy'], label='Train Accuracy', color='blue')\n",
        "    plt.plot(history.history['val_accuracy'], label='Val Accuracy', color='orange')\n",
        "    plt.xlabel(\"Epochs\")\n",
        "    plt.ylabel(\"Accuracy\")\n",
        "    plt.title(\"Model Accuracy\")\n",
        "    plt.legend()\n",
        "    plt.grid()\n",
        "\n",
        "        # Plot loss\n",
        "    plt.subplot(1, 2, 2)\n",
        "    plt.plot(history.history['loss'], label='Train Loss', color='red')\n",
        "    plt.plot(history.history['val_loss'], label='Val Loss', color='green')\n",
        "    plt.xlabel(\"Epochs\")\n",
        "    plt.ylabel(\"Loss\")\n",
        "    plt.title(\"Model Loss\")\n",
        "    plt.legend()\n",
        "    plt.grid()\n",
        "\n",
        "    plt.show()\n",
        "# Call the function (assuming 'history' is from model.fit())\n",
        "plot_training_curves(history)\n"
      ],
      "metadata": {
        "colab": {
          "base_uri": "https://localhost:8080/",
          "height": 409
        },
        "id": "bR8nEqOjTs0G",
        "outputId": "f02eb4ff-b360-4b53-8fb0-331867c4dcfd"
      },
      "execution_count": 58,
      "outputs": [
        {
          "output_type": "display_data",
          "data": {
            "text/plain": [
              "<Figure size 1200x500 with 2 Axes>"
            ],
            "image/png": "[encoded data removed]"
          },
          "metadata": {}
        }
      ]
    },
    {
      "cell_type": "code",
      "source": [
        "import matplotlib.pyplot as plt\n",
        "\n",
        "\n",
        "history2 = model_lstm\n",
        "\n",
        "# Assuming you have history object from model.fit()\n",
        "def plot_training_curves(history):\n",
        "    plt.figure(figsize=(12, 5))\n",
        "\n",
        "    # Plot accuracy\n",
        "    plt.subplot(1, 2, 1)\n",
        "    plt.plot(history.history['accuracy'], label='Train Accuracy', color='blue')\n",
        "    plt.plot(history.history['val_accuracy'], label='Val Accuracy', color='orange')\n",
        "    plt.xlabel(\"Epochs\")\n",
        "    plt.ylabel(\"Accuracy\")\n",
        "    plt.title(\"Model Accuracy\")\n",
        "    plt.legend()\n",
        "    plt.grid()\n",
        "\n",
        "        # Plot loss\n",
        "    plt.subplot(1, 2, 2)\n",
        "    plt.plot(history.history['loss'], label='Train Loss', color='red')\n",
        "    plt.plot(history.history['val_loss'], label='Val Loss', color='green')\n",
        "    plt.xlabel(\"Epochs\")\n",
        "    plt.ylabel(\"Loss\")\n",
        "    plt.title(\"Model Loss\")\n",
        "    plt.legend()\n",
        "    plt.grid()\n",
        "\n",
        "    plt.show()\n",
        "# Call the function (assuming 'history' is from model.fit())\n",
        "plot_training_curves(history2)\n"
      ],
      "metadata": {
        "colab": {
          "base_uri": "https://localhost:8080/",
          "height": 409
        },
        "id": "ydmKKem-VuBe",
        "outputId": "c050db14-c060-4668-bda4-e750e7c9b64c"
      },
      "execution_count": 59,
      "outputs": [
        {
          "output_type": "display_data",
          "data": {
            "text/plain": [
              "<Figure size 1200x500 with 2 Axes>"
            ],
            "image/png": "[encoded data removed]"
          },
          "metadata": {}
        }
      ]
    }
  ]
}