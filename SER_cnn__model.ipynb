{
  "nbformat": 4,
  "nbformat_minor": 0,
  "metadata": {
    "colab": {
      "provenance": [],
      "authorship_tag": "ABX9TyNx06V7VBjRx94MDm4NY5bM",
      "include_colab_link": true
    },
    "kernelspec": {
      "name": "python3",
      "display_name": "Python 3"
    },
    "language_info": {
      "name": "python"
    }
  },
  "cells": [
    {
      "cell_type": "markdown",
      "metadata": {
        "id": "view-in-github",
        "colab_type": "text"
      },
      "source": [
        "<a href=\"https://colab.research.google.com/github/Puneeth-Abhishek-6622/Round-4-IIITH/blob/main/SER_cnn__model.ipynb\" target=\"_parent\"><img src=\"https://colab.research.google.com/assets/colab-badge.svg\" alt=\"Open In Colab\"/></a>"
      ]
    },
    {
      "cell_type": "code",
      "execution_count": null,
      "metadata": {
        "colab": {
          "base_uri": "https://localhost:8080/"
        },
        "id": "3vsrFpA2Ri80",
        "outputId": "79462916-4fad-49d5-f5d0-da72e4f91600"
      },
      "outputs": [
        {
          "output_type": "stream",
          "name": "stdout",
          "text": [
            "Mounted at /content/drive\n"
          ]
        }
      ],
      "source": [
        "from google.colab import drive\n",
        "drive.mount('/content/drive')"
      ]
    },
    {
      "cell_type": "code",
      "source": [
        "file_path = \"/content/drive/MyDrive/round 4 iit hyd/Indian Emotional Speech Corpora (IESC)\"\n",
        "\n",
        "import os\n",
        "os.listdir(file_path)"
      ],
      "metadata": {
        "colab": {
          "base_uri": "https://localhost:8080/"
        },
        "collapsed": true,
        "id": "cHKkcce_TKJh",
        "outputId": "14fafd03-281a-447a-dbc9-3b8c7b7b675e"
      },
      "execution_count": null,
      "outputs": [
        {
          "output_type": "execute_result",
          "data": {
            "text/plain": [
              "['Speaker-2',\n",
              " 'Speaker-8',\n",
              " 'Speaker-5',\n",
              " 'Speaker-4',\n",
              " 'Speaker-3',\n",
              " 'Speaker-1',\n",
              " 'Speaker-6',\n",
              " 'Speaker-7']"
            ]
          },
          "metadata": {},
          "execution_count": 3
        }
      ]
    },
    {
      "cell_type": "code",
      "source": [
        "import os\n",
        "import librosa\n",
        "import numpy as np\n",
        "import pandas as pd\n",
        "from sklearn.model_selection import train_test_split\n",
        "\n",
        "# Define dataset path\n",
        "file_path = \"/content/drive/MyDrive/round 4 iit hyd/Indian Emotional Speech Corpora (IESC)\"\n",
        "\n",
        "# Emotion mapping\n",
        "emotion_map = {\n",
        "    'Anger': 0,\n",
        "    'Fear': 1,\n",
        "    'Happy': 2,\n",
        "    'Neutral': 3,\n",
        "    'Sad': 4\n",
        "}\n",
        "\n",
        "# Function to extract features from an audio file\n",
        "def extract_features(file_path):\n",
        "    y, sr = librosa.load(file_path, sr=16000)  # Load audio file\n",
        "\n",
        "    # Extract features\n",
        "    zcr = np.mean(librosa.feature.zero_crossing_rate(y))  # Zero Crossing Rate\n",
        "    rmse = np.mean(librosa.feature.rms(y=y))  # Root Mean Square Energy\n",
        "    mfccs = np.mean(librosa.feature.mfcc(y=y, sr=sr, n_mfcc=40), axis=1)  # 40 MFCCs\n",
        "    mel_spec = np.mean(librosa.feature.melspectrogram(y=y, sr=sr, n_mels=128), axis=1)  # 128 Mel Spectrogram\n",
        "\n",
        "    # Combine features into a single array\n",
        "    features = np.hstack([zcr, rmse, mfccs, mel_spec])  # Stack features together\n",
        "    return features\n",
        "\n",
        "# Extract features and labels\n",
        "features = []\n",
        "labels = []\n",
        "\n",
        "# Loop through each speaker and emotion folder\n",
        "for speaker in os.listdir(file_path):\n",
        "    speaker_path = os.path.join(file_path, speaker)\n",
        "    if os.path.isdir(speaker_path):  # Check if it's a directory\n",
        "        for emotion in os.listdir(speaker_path):\n",
        "            emotion_path = os.path.join(speaker_path, emotion)\n",
        "            if os.path.isdir(emotion_path):  # Check if it's a directory\n",
        "                for file in os.listdir(emotion_path):\n",
        "                    if file.endswith(\".wav\"):  # Process only .wav files\n",
        "                        file_full_path = os.path.join(emotion_path, file)\n",
        "\n",
        "                        # Extract features\n",
        "                        feature_vector = extract_features(file_full_path)\n",
        "\n",
        "                        # Store features and labels\n",
        "                        features.append(feature_vector)\n",
        "                        labels.append(emotion_map[emotion])\n",
        "\n",
        "# Convert lists to NumPy arrays\n",
        "features = np.array(features)\n",
        "labels = np.array(labels)\n",
        "\n",
        "# Print dataset shape\n",
        "print(f\"Features shape: {features.shape}\")\n",
        "print(f\"Labels shape: {labels.shape}\")\n"
      ],
      "metadata": {
        "colab": {
          "base_uri": "https://localhost:8080/"
        },
        "collapsed": true,
        "id": "0DaQVkEKUj5j",
        "outputId": "fada2b91-42f8-4b42-b411-202da40853c8"
      },
      "execution_count": null,
      "outputs": [
        {
          "output_type": "stream",
          "name": "stdout",
          "text": [
            "Features shape: (400, 170)\n",
            "Labels shape: (400,)\n"
          ]
        }
      ]
    },
    {
      "cell_type": "code",
      "source": [
        "# Split dataset into training (80%) and testing (20%)\n",
        "X_train, X_test, y_train, y_test = train_test_split(features, labels, test_size=0.2, random_state=42)\n",
        "\n",
        "# Print the shapes\n",
        "print(f\"Training set: {X_train.shape}, Labels: {y_train.shape}\")\n",
        "print(f\"Test set: {X_test.shape}, Labels: {y_test.shape}\")\n"
      ],
      "metadata": {
        "colab": {
          "base_uri": "https://localhost:8080/"
        },
        "id": "Wr5-30MioXpt",
        "outputId": "60f6b2bd-353f-4113-8dcf-6d8d60989a02"
      },
      "execution_count": null,
      "outputs": [
        {
          "output_type": "stream",
          "name": "stdout",
          "text": [
            "Training set: (320, 170), Labels: (320,)\n",
            "Test set: (80, 170), Labels: (80,)\n"
          ]
        }
      ]
    },
    {
      "cell_type": "code",
      "source": [
        "print(y_train[:5])  # Check the first few labels\n",
        "print(type(y_train[0]))  # Check type of labels\n"
      ],
      "metadata": {
        "colab": {
          "base_uri": "https://localhost:8080/"
        },
        "id": "7-OeVs9Ho09e",
        "outputId": "550e8f71-ecd4-4a33-c9b9-e67243f4c2cd"
      },
      "execution_count": null,
      "outputs": [
        {
          "output_type": "stream",
          "name": "stdout",
          "text": [
            "[0 4 3 1 0]\n",
            "<class 'numpy.int64'>\n"
          ]
        }
      ]
    },
    {
      "cell_type": "code",
      "source": [
        "from sklearn.preprocessing import LabelEncoder\n",
        "\n",
        "# Initialize LabelEncoder\n",
        "label_encoder = LabelEncoder()\n",
        "\n",
        "# Fit and transform labels\n",
        "y_train = label_encoder.fit_transform(y_train)\n",
        "y_test = label_encoder.transform(y_test)  # Use transform() to avoid label mismatch\n"
      ],
      "metadata": {
        "id": "Nq1jDawGo4cI"
      },
      "execution_count": null,
      "outputs": []
    },
    {
      "cell_type": "markdown",
      "source": [
        "features"
      ],
      "metadata": {
        "id": "I7CW6mzarUcA"
      }
    },
    {
      "cell_type": "code",
      "source": [
        "# Convert to Pandas DataFrame\n",
        "df = pd.DataFrame(features, columns=[f'MFCC_{i}' for i in range(40)] + [f'Mel_{i}' for i in range(128)] + ['ZCR', 'RMSE'])\n",
        "df['Emotion'] = labels  # Add labels column\n",
        "\n",
        "# Display first few rows\n",
        "print(df.head())\n"
      ],
      "metadata": {
        "colab": {
          "base_uri": "https://localhost:8080/"
        },
        "id": "KFCt5rc2rOuU",
        "outputId": "7d4e2b72-1ebd-45a2-f4c4-adc523d5ac89"
      },
      "execution_count": null,
      "outputs": [
        {
          "output_type": "stream",
          "name": "stdout",
          "text": [
            "     MFCC_0    MFCC_1      MFCC_2     MFCC_3     MFCC_4     MFCC_5     MFCC_6  \\\n",
            "0  0.127835  0.074360 -306.217712  85.516487  30.160650  -6.302739 -15.246192   \n",
            "1  0.106596  0.065106 -335.680511  80.729218  16.819489  -9.078341 -18.069967   \n",
            "2  0.085236  0.067849 -353.019897  93.430397  18.866234  -1.211237 -17.915480   \n",
            "3  0.119296  0.075322 -319.859680  91.205795  31.728710 -11.441105 -10.554805   \n",
            "4  0.093058  0.053817 -350.667877  78.844505  18.476913  -3.559233 -22.873520   \n",
            "\n",
            "     MFCC_7     MFCC_8     MFCC_9  ...   Mel_121   Mel_122   Mel_123  \\\n",
            "0 -6.026753  -7.872281  -2.753611  ...  0.033967  0.059028  0.066669   \n",
            "1  1.215997 -10.459587 -12.095194  ...  0.005643  0.002397  0.003379   \n",
            "2 -0.164225  -5.334225  -9.696145  ...  0.002794  0.002510  0.002267   \n",
            "3 -6.371383  -5.126802   2.769657  ...  0.003528  0.008465  0.016997   \n",
            "4  1.624290  -1.158887  -9.210607  ...  0.002287  0.003747  0.002251   \n",
            "\n",
            "    Mel_124   Mel_125   Mel_126   Mel_127       ZCR      RMSE  Emotion  \n",
            "0  0.051399  0.038436  0.017949  0.009405  0.005514  0.003970        0  \n",
            "1  0.003912  0.003343  0.003053  0.001850  0.001147  0.000561        0  \n",
            "2  0.002123  0.001173  0.001034  0.001168  0.000419  0.000089        0  \n",
            "3  0.031752  0.048795  0.047173  0.035434  0.017836  0.005610        0  \n",
            "4  0.001771  0.001850  0.001501  0.001566  0.001633  0.001102        0  \n",
            "\n",
            "[5 rows x 171 columns]\n"
          ]
        }
      ]
    },
    {
      "cell_type": "code",
      "source": [
        "from sklearn.model_selection import train_test_split\n",
        "\n",
        "# Separate features and labels\n",
        "X = df.drop(columns=['Emotion']).values  # Feature matrix\n",
        "y = df['Emotion'].values  # Labels\n",
        "\n",
        "# Train-test split (stratified to maintain class distribution)\n",
        "X_train, X_test, y_train, y_test = train_test_split(X, y, test_size=0.2, random_state=42, stratify=y)\n",
        "\n",
        "# Print shapes to verify\n",
        "print(f\"Training set: {X_train.shape}, Testing set: {X_test.shape}\")\n"
      ],
      "metadata": {
        "colab": {
          "base_uri": "https://localhost:8080/"
        },
        "id": "zajIBmhyXN3i",
        "outputId": "2608d314-6ed8-4300-a532-99f5ba3bce05"
      },
      "execution_count": null,
      "outputs": [
        {
          "output_type": "stream",
          "name": "stdout",
          "text": [
            "Training set: (320, 170), Testing set: (80, 170)\n"
          ]
        }
      ]
    },
    {
      "cell_type": "markdown",
      "source": [
        "normalization"
      ],
      "metadata": {
        "id": "Hvzw3CForade"
      }
    },
    {
      "cell_type": "code",
      "source": [
        "from sklearn.preprocessing import StandardScaler\n",
        "\n",
        "# Normalize using StandardScaler\n",
        "scaler = StandardScaler()\n",
        "X_train = scaler.fit_transform(X_train)\n",
        "X_test = scaler.transform(X_test)\n",
        "\n",
        "# Print sample values\n",
        "print(f\"Sample normalized features (first row): {X_train[0]}\")\n"
      ],
      "metadata": {
        "colab": {
          "base_uri": "https://localhost:8080/"
        },
        "id": "aO4eW_S6rbql",
        "outputId": "5741a5db-2e41-4f9e-aae5-ea1a0ac1a876"
      },
      "execution_count": null,
      "outputs": [
        {
          "output_type": "stream",
          "name": "stdout",
          "text": [
            "Sample normalized features (first row): [ 0.83368687 -0.50452595  0.26808351 -0.67211197 -0.27794192 -0.38694615\n",
            "  0.83267806 -1.31752646 -0.83028153 -1.22785885 -2.40337577 -1.20444019\n",
            " -1.98077724 -1.72552295 -1.56733283 -0.48696473 -0.71236221 -0.4718711\n",
            " -2.33008021 -1.66359402 -1.64682467 -1.45569758 -0.67073799  0.03719221\n",
            " -0.81092606  0.08731246 -1.07809848 -0.99268055  0.5511213  -0.5283139\n",
            "  0.60719747  1.2510933   0.84924787  1.84019106  1.71084188  2.4314993\n",
            "  2.30366536  2.02488289  1.71735243  0.25976724  0.60390206  0.2691493\n",
            " -0.39281647 -0.51738749 -0.50364029 -0.36259398 -0.43256203 -0.47007957\n",
            " -0.2532219   0.1772477  -0.16540101 -0.56680865  0.05086491 -0.12478656\n",
            " -0.52931749 -0.38846787  0.01230631  0.25847446  0.91912428  0.4750649\n",
            " -0.36201261 -0.44180554 -0.6269365  -0.36964925 -0.30040365 -0.44908065\n",
            " -0.49395294 -0.46977524 -0.45779412 -0.4168109  -0.44567708 -0.40474235\n",
            " -0.49615939 -0.49244316 -0.49439122 -0.46962421 -0.39133834 -0.45590498\n",
            " -0.37236175 -0.38279537 -0.36891758 -0.33268363 -0.3726366  -0.36223971\n",
            " -0.22599438 -0.31810412 -0.34089957 -0.34427161 -0.32312074 -0.40394949\n",
            " -0.38626219 -0.33405459 -0.33338937 -0.29300564 -0.29100263 -0.34539276\n",
            " -0.36711805 -0.37478235 -0.3972235  -0.45592569 -0.3700309  -0.43574294\n",
            " -0.39529642 -0.40525738 -0.47796741 -0.43168539 -0.44697743 -0.39583281\n",
            " -0.32419513 -0.35204652 -0.4025912  -0.38180468 -0.28936355 -0.36896611\n",
            " -0.3264879  -0.37297296 -0.4255301  -0.38247138 -0.3182939  -0.27347713\n",
            " -0.23721224 -0.29432708 -0.27549126 -0.40492265 -0.37162808 -0.41543795\n",
            " -0.44529657 -0.37041357 -0.22425495 -0.27085893 -0.3622796  -0.34701897\n",
            " -0.33095938 -0.42755156 -0.43718655 -0.41712518 -0.49170426 -0.48577953\n",
            " -0.45701486 -0.42895035 -0.39149151 -0.38267211 -0.38689422 -0.42589434\n",
            " -0.42013777 -0.42230228 -0.46148991 -0.44931037 -0.52987853 -0.52213327\n",
            " -0.5185598  -0.55685428 -0.51558694 -0.46131665 -0.42490531 -0.39622347\n",
            " -0.31237898 -0.33653898 -0.40763623 -0.34144107 -0.33831702 -0.22141584\n",
            " -0.2786845  -0.26500014 -0.17337356 -0.25577393 -0.24439865 -0.32311114\n",
            " -0.30135364 -0.31944151]\n"
          ]
        }
      ]
    },
    {
      "cell_type": "code",
      "source": [
        "from tensorflow.keras.layers import Dropout\n",
        "from tensorflow.keras.regularizers import l2\n",
        "\n",
        "model = tf.keras.Sequential([\n",
        "    tf.keras.layers.Conv1D(64, kernel_size=3, activation='relu', input_shape=(features.shape[1], 1)),\n",
        "    tf.keras.layers.BatchNormalization(),\n",
        "    tf.keras.layers.MaxPooling1D(pool_size=2),\n",
        "    Dropout(0.3),  # Dropout added\n",
        "\n",
        "    tf.keras.layers.Conv1D(128, kernel_size=3, activation='relu', kernel_regularizer=l2(0.001)),  # L2 regularization\n",
        "    tf.keras.layers.BatchNormalization(),\n",
        "    tf.keras.layers.MaxPooling1D(pool_size=2),\n",
        "    Dropout(0.3),\n",
        "\n",
        "    tf.keras.layers.Flatten(),\n",
        "    tf.keras.layers.Dense(128, activation='relu'),\n",
        "    Dropout(0.5),  # More dropout\n",
        "    tf.keras.layers.Dense(5, activation='softmax')\n",
        "])\n",
        "\n",
        "model.compile(optimizer='adam', loss='sparse_categorical_crossentropy', metrics=['accuracy'])\n",
        "\n",
        "\n",
        "# Model summary\n",
        "model.summary()\n"
      ],
      "metadata": {
        "colab": {
          "base_uri": "https://localhost:8080/",
          "height": 633
        },
        "id": "yraI2Z0GXWs6",
        "outputId": "84aafe4c-0fc3-4e7e-ede4-840aa52e86e8"
      },
      "execution_count": null,
      "outputs": [
        {
          "output_type": "stream",
          "name": "stderr",
          "text": [
            "/usr/local/lib/python3.11/dist-packages/keras/src/layers/convolutional/base_conv.py:107: UserWarning: Do not pass an `input_shape`/`input_dim` argument to a layer. When using Sequential models, prefer using an `Input(shape)` object as the first layer in the model instead.\n",
            "  super().__init__(activity_regularizer=activity_regularizer, **kwargs)\n"
          ]
        },
        {
          "output_type": "display_data",
          "data": {
            "text/plain": [
              "\u001b[1mModel: \"sequential_4\"\u001b[0m\n"
            ],
            "text/html": [
              "<pre style=\"white-space:pre;overflow-x:auto;line-height:normal;font-family:Menlo,'DejaVu Sans Mono',consolas,'Courier New',monospace\"><span style=\"font-weight: bold\">Model: \"sequential_4\"</span>\n",
              "</pre>\n"
            ]
          },
          "metadata": {}
        },
        {
          "output_type": "display_data",
          "data": {
            "text/plain": [
              "┏━━━━━━━━━━━━━━━━━━━━━━━━━━━━━━━━━━━━━━┳━━━━━━━━━━━━━━━━━━━━━━━━━━━━━┳━━━━━━━━━━━━━━━━━┓\n",
              "┃\u001b[1m \u001b[0m\u001b[1mLayer (type)                        \u001b[0m\u001b[1m \u001b[0m┃\u001b[1m \u001b[0m\u001b[1mOutput Shape               \u001b[0m\u001b[1m \u001b[0m┃\u001b[1m \u001b[0m\u001b[1m        Param #\u001b[0m\u001b[1m \u001b[0m┃\n",
              "┡━━━━━━━━━━━━━━━━━━━━━━━━━━━━━━━━━━━━━━╇━━━━━━━━━━━━━━━━━━━━━━━━━━━━━╇━━━━━━━━━━━━━━━━━┩\n",
              "│ conv1d_8 (\u001b[38;5;33mConv1D\u001b[0m)                    │ (\u001b[38;5;45mNone\u001b[0m, \u001b[38;5;34m168\u001b[0m, \u001b[38;5;34m64\u001b[0m)             │             \u001b[38;5;34m256\u001b[0m │\n",
              "├──────────────────────────────────────┼─────────────────────────────┼─────────────────┤\n",
              "│ batch_normalization_2                │ (\u001b[38;5;45mNone\u001b[0m, \u001b[38;5;34m168\u001b[0m, \u001b[38;5;34m64\u001b[0m)             │             \u001b[38;5;34m256\u001b[0m │\n",
              "│ (\u001b[38;5;33mBatchNormalization\u001b[0m)                 │                             │                 │\n",
              "├──────────────────────────────────────┼─────────────────────────────┼─────────────────┤\n",
              "│ max_pooling1d_8 (\u001b[38;5;33mMaxPooling1D\u001b[0m)       │ (\u001b[38;5;45mNone\u001b[0m, \u001b[38;5;34m84\u001b[0m, \u001b[38;5;34m64\u001b[0m)              │               \u001b[38;5;34m0\u001b[0m │\n",
              "├──────────────────────────────────────┼─────────────────────────────┼─────────────────┤\n",
              "│ dropout_8 (\u001b[38;5;33mDropout\u001b[0m)                  │ (\u001b[38;5;45mNone\u001b[0m, \u001b[38;5;34m84\u001b[0m, \u001b[38;5;34m64\u001b[0m)              │               \u001b[38;5;34m0\u001b[0m │\n",
              "├──────────────────────────────────────┼─────────────────────────────┼─────────────────┤\n",
              "│ conv1d_9 (\u001b[38;5;33mConv1D\u001b[0m)                    │ (\u001b[38;5;45mNone\u001b[0m, \u001b[38;5;34m82\u001b[0m, \u001b[38;5;34m128\u001b[0m)             │          \u001b[38;5;34m24,704\u001b[0m │\n",
              "├──────────────────────────────────────┼─────────────────────────────┼─────────────────┤\n",
              "│ batch_normalization_3                │ (\u001b[38;5;45mNone\u001b[0m, \u001b[38;5;34m82\u001b[0m, \u001b[38;5;34m128\u001b[0m)             │             \u001b[38;5;34m512\u001b[0m │\n",
              "│ (\u001b[38;5;33mBatchNormalization\u001b[0m)                 │                             │                 │\n",
              "├──────────────────────────────────────┼─────────────────────────────┼─────────────────┤\n",
              "│ max_pooling1d_9 (\u001b[38;5;33mMaxPooling1D\u001b[0m)       │ (\u001b[38;5;45mNone\u001b[0m, \u001b[38;5;34m41\u001b[0m, \u001b[38;5;34m128\u001b[0m)             │               \u001b[38;5;34m0\u001b[0m │\n",
              "├──────────────────────────────────────┼─────────────────────────────┼─────────────────┤\n",
              "│ dropout_9 (\u001b[38;5;33mDropout\u001b[0m)                  │ (\u001b[38;5;45mNone\u001b[0m, \u001b[38;5;34m41\u001b[0m, \u001b[38;5;34m128\u001b[0m)             │               \u001b[38;5;34m0\u001b[0m │\n",
              "├──────────────────────────────────────┼─────────────────────────────┼─────────────────┤\n",
              "│ flatten_4 (\u001b[38;5;33mFlatten\u001b[0m)                  │ (\u001b[38;5;45mNone\u001b[0m, \u001b[38;5;34m5248\u001b[0m)                │               \u001b[38;5;34m0\u001b[0m │\n",
              "├──────────────────────────────────────┼─────────────────────────────┼─────────────────┤\n",
              "│ dense_12 (\u001b[38;5;33mDense\u001b[0m)                     │ (\u001b[38;5;45mNone\u001b[0m, \u001b[38;5;34m128\u001b[0m)                 │         \u001b[38;5;34m671,872\u001b[0m │\n",
              "├──────────────────────────────────────┼─────────────────────────────┼─────────────────┤\n",
              "│ dropout_10 (\u001b[38;5;33mDropout\u001b[0m)                 │ (\u001b[38;5;45mNone\u001b[0m, \u001b[38;5;34m128\u001b[0m)                 │               \u001b[38;5;34m0\u001b[0m │\n",
              "├──────────────────────────────────────┼─────────────────────────────┼─────────────────┤\n",
              "│ dense_13 (\u001b[38;5;33mDense\u001b[0m)                     │ (\u001b[38;5;45mNone\u001b[0m, \u001b[38;5;34m5\u001b[0m)                   │             \u001b[38;5;34m645\u001b[0m │\n",
              "└──────────────────────────────────────┴─────────────────────────────┴─────────────────┘\n"
            ],
            "text/html": [
              "<pre style=\"white-space:pre;overflow-x:auto;line-height:normal;font-family:Menlo,'DejaVu Sans Mono',consolas,'Courier New',monospace\">┏━━━━━━━━━━━━━━━━━━━━━━━━━━━━━━━━━━━━━━┳━━━━━━━━━━━━━━━━━━━━━━━━━━━━━┳━━━━━━━━━━━━━━━━━┓\n",
              "┃<span style=\"font-weight: bold\"> Layer (type)                         </span>┃<span style=\"font-weight: bold\"> Output Shape                </span>┃<span style=\"font-weight: bold\">         Param # </span>┃\n",
              "┡━━━━━━━━━━━━━━━━━━━━━━━━━━━━━━━━━━━━━━╇━━━━━━━━━━━━━━━━━━━━━━━━━━━━━╇━━━━━━━━━━━━━━━━━┩\n",
              "│ conv1d_8 (<span style=\"color: #0087ff; text-decoration-color: #0087ff\">Conv1D</span>)                    │ (<span style=\"color: #00d7ff; text-decoration-color: #00d7ff\">None</span>, <span style=\"color: #00af00; text-decoration-color: #00af00\">168</span>, <span style=\"color: #00af00; text-decoration-color: #00af00\">64</span>)             │             <span style=\"color: #00af00; text-decoration-color: #00af00\">256</span> │\n",
              "├──────────────────────────────────────┼─────────────────────────────┼─────────────────┤\n",
              "│ batch_normalization_2                │ (<span style=\"color: #00d7ff; text-decoration-color: #00d7ff\">None</span>, <span style=\"color: #00af00; text-decoration-color: #00af00\">168</span>, <span style=\"color: #00af00; text-decoration-color: #00af00\">64</span>)             │             <span style=\"color: #00af00; text-decoration-color: #00af00\">256</span> │\n",
              "│ (<span style=\"color: #0087ff; text-decoration-color: #0087ff\">BatchNormalization</span>)                 │                             │                 │\n",
              "├──────────────────────────────────────┼─────────────────────────────┼─────────────────┤\n",
              "│ max_pooling1d_8 (<span style=\"color: #0087ff; text-decoration-color: #0087ff\">MaxPooling1D</span>)       │ (<span style=\"color: #00d7ff; text-decoration-color: #00d7ff\">None</span>, <span style=\"color: #00af00; text-decoration-color: #00af00\">84</span>, <span style=\"color: #00af00; text-decoration-color: #00af00\">64</span>)              │               <span style=\"color: #00af00; text-decoration-color: #00af00\">0</span> │\n",
              "├──────────────────────────────────────┼─────────────────────────────┼─────────────────┤\n",
              "│ dropout_8 (<span style=\"color: #0087ff; text-decoration-color: #0087ff\">Dropout</span>)                  │ (<span style=\"color: #00d7ff; text-decoration-color: #00d7ff\">None</span>, <span style=\"color: #00af00; text-decoration-color: #00af00\">84</span>, <span style=\"color: #00af00; text-decoration-color: #00af00\">64</span>)              │               <span style=\"color: #00af00; text-decoration-color: #00af00\">0</span> │\n",
              "├──────────────────────────────────────┼─────────────────────────────┼─────────────────┤\n",
              "│ conv1d_9 (<span style=\"color: #0087ff; text-decoration-color: #0087ff\">Conv1D</span>)                    │ (<span style=\"color: #00d7ff; text-decoration-color: #00d7ff\">None</span>, <span style=\"color: #00af00; text-decoration-color: #00af00\">82</span>, <span style=\"color: #00af00; text-decoration-color: #00af00\">128</span>)             │          <span style=\"color: #00af00; text-decoration-color: #00af00\">24,704</span> │\n",
              "├──────────────────────────────────────┼─────────────────────────────┼─────────────────┤\n",
              "│ batch_normalization_3                │ (<span style=\"color: #00d7ff; text-decoration-color: #00d7ff\">None</span>, <span style=\"color: #00af00; text-decoration-color: #00af00\">82</span>, <span style=\"color: #00af00; text-decoration-color: #00af00\">128</span>)             │             <span style=\"color: #00af00; text-decoration-color: #00af00\">512</span> │\n",
              "│ (<span style=\"color: #0087ff; text-decoration-color: #0087ff\">BatchNormalization</span>)                 │                             │                 │\n",
              "├──────────────────────────────────────┼─────────────────────────────┼─────────────────┤\n",
              "│ max_pooling1d_9 (<span style=\"color: #0087ff; text-decoration-color: #0087ff\">MaxPooling1D</span>)       │ (<span style=\"color: #00d7ff; text-decoration-color: #00d7ff\">None</span>, <span style=\"color: #00af00; text-decoration-color: #00af00\">41</span>, <span style=\"color: #00af00; text-decoration-color: #00af00\">128</span>)             │               <span style=\"color: #00af00; text-decoration-color: #00af00\">0</span> │\n",
              "├──────────────────────────────────────┼─────────────────────────────┼─────────────────┤\n",
              "│ dropout_9 (<span style=\"color: #0087ff; text-decoration-color: #0087ff\">Dropout</span>)                  │ (<span style=\"color: #00d7ff; text-decoration-color: #00d7ff\">None</span>, <span style=\"color: #00af00; text-decoration-color: #00af00\">41</span>, <span style=\"color: #00af00; text-decoration-color: #00af00\">128</span>)             │               <span style=\"color: #00af00; text-decoration-color: #00af00\">0</span> │\n",
              "├──────────────────────────────────────┼─────────────────────────────┼─────────────────┤\n",
              "│ flatten_4 (<span style=\"color: #0087ff; text-decoration-color: #0087ff\">Flatten</span>)                  │ (<span style=\"color: #00d7ff; text-decoration-color: #00d7ff\">None</span>, <span style=\"color: #00af00; text-decoration-color: #00af00\">5248</span>)                │               <span style=\"color: #00af00; text-decoration-color: #00af00\">0</span> │\n",
              "├──────────────────────────────────────┼─────────────────────────────┼─────────────────┤\n",
              "│ dense_12 (<span style=\"color: #0087ff; text-decoration-color: #0087ff\">Dense</span>)                     │ (<span style=\"color: #00d7ff; text-decoration-color: #00d7ff\">None</span>, <span style=\"color: #00af00; text-decoration-color: #00af00\">128</span>)                 │         <span style=\"color: #00af00; text-decoration-color: #00af00\">671,872</span> │\n",
              "├──────────────────────────────────────┼─────────────────────────────┼─────────────────┤\n",
              "│ dropout_10 (<span style=\"color: #0087ff; text-decoration-color: #0087ff\">Dropout</span>)                 │ (<span style=\"color: #00d7ff; text-decoration-color: #00d7ff\">None</span>, <span style=\"color: #00af00; text-decoration-color: #00af00\">128</span>)                 │               <span style=\"color: #00af00; text-decoration-color: #00af00\">0</span> │\n",
              "├──────────────────────────────────────┼─────────────────────────────┼─────────────────┤\n",
              "│ dense_13 (<span style=\"color: #0087ff; text-decoration-color: #0087ff\">Dense</span>)                     │ (<span style=\"color: #00d7ff; text-decoration-color: #00d7ff\">None</span>, <span style=\"color: #00af00; text-decoration-color: #00af00\">5</span>)                   │             <span style=\"color: #00af00; text-decoration-color: #00af00\">645</span> │\n",
              "└──────────────────────────────────────┴─────────────────────────────┴─────────────────┘\n",
              "</pre>\n"
            ]
          },
          "metadata": {}
        },
        {
          "output_type": "display_data",
          "data": {
            "text/plain": [
              "\u001b[1m Total params: \u001b[0m\u001b[38;5;34m698,245\u001b[0m (2.66 MB)\n"
            ],
            "text/html": [
              "<pre style=\"white-space:pre;overflow-x:auto;line-height:normal;font-family:Menlo,'DejaVu Sans Mono',consolas,'Courier New',monospace\"><span style=\"font-weight: bold\"> Total params: </span><span style=\"color: #00af00; text-decoration-color: #00af00\">698,245</span> (2.66 MB)\n",
              "</pre>\n"
            ]
          },
          "metadata": {}
        },
        {
          "output_type": "display_data",
          "data": {
            "text/plain": [
              "\u001b[1m Trainable params: \u001b[0m\u001b[38;5;34m697,861\u001b[0m (2.66 MB)\n"
            ],
            "text/html": [
              "<pre style=\"white-space:pre;overflow-x:auto;line-height:normal;font-family:Menlo,'DejaVu Sans Mono',consolas,'Courier New',monospace\"><span style=\"font-weight: bold\"> Trainable params: </span><span style=\"color: #00af00; text-decoration-color: #00af00\">697,861</span> (2.66 MB)\n",
              "</pre>\n"
            ]
          },
          "metadata": {}
        },
        {
          "output_type": "display_data",
          "data": {
            "text/plain": [
              "\u001b[1m Non-trainable params: \u001b[0m\u001b[38;5;34m384\u001b[0m (1.50 KB)\n"
            ],
            "text/html": [
              "<pre style=\"white-space:pre;overflow-x:auto;line-height:normal;font-family:Menlo,'DejaVu Sans Mono',consolas,'Courier New',monospace\"><span style=\"font-weight: bold\"> Non-trainable params: </span><span style=\"color: #00af00; text-decoration-color: #00af00\">384</span> (1.50 KB)\n",
              "</pre>\n"
            ]
          },
          "metadata": {}
        }
      ]
    },
    {
      "cell_type": "code",
      "source": [
        "# Train the model\n",
        "history = model.fit(X_train, y_train, epochs=80, batch_size=32, validation_data=(X_test, y_test))\n"
      ],
      "metadata": {
        "colab": {
          "base_uri": "https://localhost:8080/"
        },
        "id": "AN-qLMmOvzZg",
        "outputId": "79067fbe-f27f-47c1-c2f1-206072f01bfe"
      },
      "execution_count": null,
      "outputs": [
        {
          "output_type": "stream",
          "name": "stdout",
          "text": [
            "Epoch 1/80\n",
            "\u001b[1m10/10\u001b[0m \u001b[32m━━━━━━━━━━━━━━━━━━━━\u001b[0m\u001b[37m\u001b[0m \u001b[1m1s\u001b[0m 94ms/step - accuracy: 0.5399 - loss: 1.5255 - val_accuracy: 0.5125 - val_loss: 1.5114\n",
            "Epoch 2/80\n",
            "\u001b[1m10/10\u001b[0m \u001b[32m━━━━━━━━━━━━━━━━━━━━\u001b[0m\u001b[37m\u001b[0m \u001b[1m1s\u001b[0m 89ms/step - accuracy: 0.5583 - loss: 1.2907 - val_accuracy: 0.4000 - val_loss: 1.5154\n",
            "Epoch 3/80\n",
            "\u001b[1m10/10\u001b[0m \u001b[32m━━━━━━━━━━━━━━━━━━━━\u001b[0m\u001b[37m\u001b[0m \u001b[1m1s\u001b[0m 53ms/step - accuracy: 0.5903 - loss: 1.3677 - val_accuracy: 0.3750 - val_loss: 1.5435\n",
            "Epoch 4/80\n",
            "\u001b[1m10/10\u001b[0m \u001b[32m━━━━━━━━━━━━━━━━━━━━\u001b[0m\u001b[37m\u001b[0m \u001b[1m1s\u001b[0m 51ms/step - accuracy: 0.6416 - loss: 1.2965 - val_accuracy: 0.3375 - val_loss: 1.5951\n",
            "Epoch 5/80\n",
            "\u001b[1m10/10\u001b[0m \u001b[32m━━━━━━━━━━━━━━━━━━━━\u001b[0m\u001b[37m\u001b[0m \u001b[1m0s\u001b[0m 49ms/step - accuracy: 0.6090 - loss: 1.1216 - val_accuracy: 0.3000 - val_loss: 1.6552\n",
            "Epoch 6/80\n",
            "\u001b[1m10/10\u001b[0m \u001b[32m━━━━━━━━━━━━━━━━━━━━\u001b[0m\u001b[37m\u001b[0m \u001b[1m0s\u001b[0m 45ms/step - accuracy: 0.6065 - loss: 1.2309 - val_accuracy: 0.3125 - val_loss: 1.7269\n",
            "Epoch 7/80\n",
            "\u001b[1m10/10\u001b[0m \u001b[32m━━━━━━━━━━━━━━━━━━━━\u001b[0m\u001b[37m\u001b[0m \u001b[1m1s\u001b[0m 63ms/step - accuracy: 0.7097 - loss: 0.9478 - val_accuracy: 0.3125 - val_loss: 1.8013\n",
            "Epoch 8/80\n",
            "\u001b[1m10/10\u001b[0m \u001b[32m━━━━━━━━━━━━━━━━━━━━\u001b[0m\u001b[37m\u001b[0m \u001b[1m1s\u001b[0m 93ms/step - accuracy: 0.6701 - loss: 1.0776 - val_accuracy: 0.3000 - val_loss: 1.8576\n",
            "Epoch 9/80\n",
            "\u001b[1m10/10\u001b[0m \u001b[32m━━━━━━━━━━━━━━━━━━━━\u001b[0m\u001b[37m\u001b[0m \u001b[1m1s\u001b[0m 80ms/step - accuracy: 0.6251 - loss: 1.0784 - val_accuracy: 0.3000 - val_loss: 1.9176\n",
            "Epoch 10/80\n",
            "\u001b[1m10/10\u001b[0m \u001b[32m━━━━━━━━━━━━━━━━━━━━\u001b[0m\u001b[37m\u001b[0m \u001b[1m1s\u001b[0m 86ms/step - accuracy: 0.6865 - loss: 0.8593 - val_accuracy: 0.3125 - val_loss: 1.9984\n",
            "Epoch 11/80\n",
            "\u001b[1m10/10\u001b[0m \u001b[32m━━━━━━━━━━━━━━━━━━━━\u001b[0m\u001b[37m\u001b[0m \u001b[1m1s\u001b[0m 52ms/step - accuracy: 0.7400 - loss: 0.8102 - val_accuracy: 0.3125 - val_loss: 2.0454\n",
            "Epoch 12/80\n",
            "\u001b[1m10/10\u001b[0m \u001b[32m━━━━━━━━━━━━━━━━━━━━\u001b[0m\u001b[37m\u001b[0m \u001b[1m0s\u001b[0m 49ms/step - accuracy: 0.7038 - loss: 1.0524 - val_accuracy: 0.3125 - val_loss: 2.0711\n",
            "Epoch 13/80\n",
            "\u001b[1m10/10\u001b[0m \u001b[32m━━━━━━━━━━━━━━━━━━━━\u001b[0m\u001b[37m\u001b[0m \u001b[1m1s\u001b[0m 50ms/step - accuracy: 0.7247 - loss: 0.8298 - val_accuracy: 0.3125 - val_loss: 2.0775\n",
            "Epoch 14/80\n",
            "\u001b[1m10/10\u001b[0m \u001b[32m━━━━━━━━━━━━━━━━━━━━\u001b[0m\u001b[37m\u001b[0m \u001b[1m1s\u001b[0m 45ms/step - accuracy: 0.7224 - loss: 0.9490 - val_accuracy: 0.3125 - val_loss: 2.0829\n",
            "Epoch 15/80\n",
            "\u001b[1m10/10\u001b[0m \u001b[32m━━━━━━━━━━━━━━━━━━━━\u001b[0m\u001b[37m\u001b[0m \u001b[1m0s\u001b[0m 47ms/step - accuracy: 0.7520 - loss: 0.7387 - val_accuracy: 0.3250 - val_loss: 2.0939\n",
            "Epoch 16/80\n",
            "\u001b[1m10/10\u001b[0m \u001b[32m━━━━━━━━━━━━━━━━━━━━\u001b[0m\u001b[37m\u001b[0m \u001b[1m1s\u001b[0m 48ms/step - accuracy: 0.7636 - loss: 0.8247 - val_accuracy: 0.3250 - val_loss: 2.1221\n",
            "Epoch 17/80\n",
            "\u001b[1m10/10\u001b[0m \u001b[32m━━━━━━━━━━━━━━━━━━━━\u001b[0m\u001b[37m\u001b[0m \u001b[1m1s\u001b[0m 52ms/step - accuracy: 0.7293 - loss: 0.7943 - val_accuracy: 0.3375 - val_loss: 2.1544\n",
            "Epoch 18/80\n",
            "\u001b[1m10/10\u001b[0m \u001b[32m━━━━━━━━━━━━━━━━━━━━\u001b[0m\u001b[37m\u001b[0m \u001b[1m1s\u001b[0m 53ms/step - accuracy: 0.7759 - loss: 0.6986 - val_accuracy: 0.3500 - val_loss: 2.1841\n",
            "Epoch 19/80\n",
            "\u001b[1m10/10\u001b[0m \u001b[32m━━━━━━━━━━━━━━━━━━━━\u001b[0m\u001b[37m\u001b[0m \u001b[1m1s\u001b[0m 52ms/step - accuracy: 0.7624 - loss: 0.6649 - val_accuracy: 0.3500 - val_loss: 2.1788\n",
            "Epoch 20/80\n",
            "\u001b[1m10/10\u001b[0m \u001b[32m━━━━━━━━━━━━━━━━━━━━\u001b[0m\u001b[37m\u001b[0m \u001b[1m1s\u001b[0m 51ms/step - accuracy: 0.7370 - loss: 0.7779 - val_accuracy: 0.3500 - val_loss: 2.1914\n",
            "Epoch 21/80\n",
            "\u001b[1m10/10\u001b[0m \u001b[32m━━━━━━━━━━━━━━━━━━━━\u001b[0m\u001b[37m\u001b[0m \u001b[1m1s\u001b[0m 51ms/step - accuracy: 0.7535 - loss: 0.7397 - val_accuracy: 0.3500 - val_loss: 2.1863\n",
            "Epoch 22/80\n",
            "\u001b[1m10/10\u001b[0m \u001b[32m━━━━━━━━━━━━━━━━━━━━\u001b[0m\u001b[37m\u001b[0m \u001b[1m1s\u001b[0m 53ms/step - accuracy: 0.8050 - loss: 0.6095 - val_accuracy: 0.3625 - val_loss: 2.1641\n",
            "Epoch 23/80\n",
            "\u001b[1m10/10\u001b[0m \u001b[32m━━━━━━━━━━━━━━━━━━━━\u001b[0m\u001b[37m\u001b[0m \u001b[1m1s\u001b[0m 51ms/step - accuracy: 0.7322 - loss: 0.7167 - val_accuracy: 0.3500 - val_loss: 2.1230\n",
            "Epoch 24/80\n",
            "\u001b[1m10/10\u001b[0m \u001b[32m━━━━━━━━━━━━━━━━━━━━\u001b[0m\u001b[37m\u001b[0m \u001b[1m1s\u001b[0m 52ms/step - accuracy: 0.8429 - loss: 0.5441 - val_accuracy: 0.3750 - val_loss: 2.0728\n",
            "Epoch 25/80\n",
            "\u001b[1m10/10\u001b[0m \u001b[32m━━━━━━━━━━━━━━━━━━━━\u001b[0m\u001b[37m\u001b[0m \u001b[1m1s\u001b[0m 48ms/step - accuracy: 0.8563 - loss: 0.5121 - val_accuracy: 0.3875 - val_loss: 2.0334\n",
            "Epoch 26/80\n",
            "\u001b[1m10/10\u001b[0m \u001b[32m━━━━━━━━━━━━━━━━━━━━\u001b[0m\u001b[37m\u001b[0m \u001b[1m1s\u001b[0m 52ms/step - accuracy: 0.8156 - loss: 0.5590 - val_accuracy: 0.3875 - val_loss: 1.9831\n",
            "Epoch 27/80\n",
            "\u001b[1m10/10\u001b[0m \u001b[32m━━━━━━━━━━━━━━━━━━━━\u001b[0m\u001b[37m\u001b[0m \u001b[1m0s\u001b[0m 46ms/step - accuracy: 0.8097 - loss: 0.5437 - val_accuracy: 0.4125 - val_loss: 1.9179\n",
            "Epoch 28/80\n",
            "\u001b[1m10/10\u001b[0m \u001b[32m━━━━━━━━━━━━━━━━━━━━\u001b[0m\u001b[37m\u001b[0m \u001b[1m0s\u001b[0m 49ms/step - accuracy: 0.7767 - loss: 0.6461 - val_accuracy: 0.4125 - val_loss: 1.8658\n",
            "Epoch 29/80\n",
            "\u001b[1m10/10\u001b[0m \u001b[32m━━━━━━━━━━━━━━━━━━━━\u001b[0m\u001b[37m\u001b[0m \u001b[1m1s\u001b[0m 91ms/step - accuracy: 0.8562 - loss: 0.5273 - val_accuracy: 0.4250 - val_loss: 1.8298\n",
            "Epoch 30/80\n",
            "\u001b[1m10/10\u001b[0m \u001b[32m━━━━━━━━━━━━━━━━━━━━\u001b[0m\u001b[37m\u001b[0m \u001b[1m1s\u001b[0m 82ms/step - accuracy: 0.7966 - loss: 0.5684 - val_accuracy: 0.4250 - val_loss: 1.7966\n",
            "Epoch 31/80\n",
            "\u001b[1m10/10\u001b[0m \u001b[32m━━━━━━━━━━━━━━━━━━━━\u001b[0m\u001b[37m\u001b[0m \u001b[1m1s\u001b[0m 82ms/step - accuracy: 0.8143 - loss: 0.6206 - val_accuracy: 0.4250 - val_loss: 1.7044\n",
            "Epoch 32/80\n",
            "\u001b[1m10/10\u001b[0m \u001b[32m━━━━━━━━━━━━━━━━━━━━\u001b[0m\u001b[37m\u001b[0m \u001b[1m1s\u001b[0m 83ms/step - accuracy: 0.8567 - loss: 0.5444 - val_accuracy: 0.4500 - val_loss: 1.6307\n",
            "Epoch 33/80\n",
            "\u001b[1m10/10\u001b[0m \u001b[32m━━━━━━━━━━━━━━━━━━━━\u001b[0m\u001b[37m\u001b[0m \u001b[1m1s\u001b[0m 50ms/step - accuracy: 0.8065 - loss: 0.6034 - val_accuracy: 0.4500 - val_loss: 1.5565\n",
            "Epoch 34/80\n",
            "\u001b[1m10/10\u001b[0m \u001b[32m━━━━━━━━━━━━━━━━━━━━\u001b[0m\u001b[37m\u001b[0m \u001b[1m1s\u001b[0m 50ms/step - accuracy: 0.8647 - loss: 0.4934 - val_accuracy: 0.4625 - val_loss: 1.4792\n",
            "Epoch 35/80\n",
            "\u001b[1m10/10\u001b[0m \u001b[32m━━━━━━━━━━━━━━━━━━━━\u001b[0m\u001b[37m\u001b[0m \u001b[1m0s\u001b[0m 44ms/step - accuracy: 0.8281 - loss: 0.5609 - val_accuracy: 0.4625 - val_loss: 1.4079\n",
            "Epoch 36/80\n",
            "\u001b[1m10/10\u001b[0m \u001b[32m━━━━━━━━━━━━━━━━━━━━\u001b[0m\u001b[37m\u001b[0m \u001b[1m1s\u001b[0m 46ms/step - accuracy: 0.8481 - loss: 0.5117 - val_accuracy: 0.5000 - val_loss: 1.3425\n",
            "Epoch 37/80\n",
            "\u001b[1m10/10\u001b[0m \u001b[32m━━━━━━━━━━━━━━━━━━━━\u001b[0m\u001b[37m\u001b[0m \u001b[1m0s\u001b[0m 47ms/step - accuracy: 0.8304 - loss: 0.5248 - val_accuracy: 0.5125 - val_loss: 1.2909\n",
            "Epoch 38/80\n",
            "\u001b[1m10/10\u001b[0m \u001b[32m━━━━━━━━━━━━━━━━━━━━\u001b[0m\u001b[37m\u001b[0m \u001b[1m1s\u001b[0m 48ms/step - accuracy: 0.8560 - loss: 0.4552 - val_accuracy: 0.5375 - val_loss: 1.2464\n",
            "Epoch 39/80\n",
            "\u001b[1m10/10\u001b[0m \u001b[32m━━━━━━━━━━━━━━━━━━━━\u001b[0m\u001b[37m\u001b[0m \u001b[1m1s\u001b[0m 53ms/step - accuracy: 0.8455 - loss: 0.5514 - val_accuracy: 0.5625 - val_loss: 1.2150\n",
            "Epoch 40/80\n",
            "\u001b[1m10/10\u001b[0m \u001b[32m━━━━━━━━━━━━━━━━━━━━\u001b[0m\u001b[37m\u001b[0m \u001b[1m1s\u001b[0m 47ms/step - accuracy: 0.8488 - loss: 0.4916 - val_accuracy: 0.5750 - val_loss: 1.1744\n",
            "Epoch 41/80\n",
            "\u001b[1m10/10\u001b[0m \u001b[32m━━━━━━━━━━━━━━━━━━━━\u001b[0m\u001b[37m\u001b[0m \u001b[1m1s\u001b[0m 48ms/step - accuracy: 0.8558 - loss: 0.4607 - val_accuracy: 0.6250 - val_loss: 1.1382\n",
            "Epoch 42/80\n",
            "\u001b[1m10/10\u001b[0m \u001b[32m━━━━━━━━━━━━━━━━━━━━\u001b[0m\u001b[37m\u001b[0m \u001b[1m0s\u001b[0m 47ms/step - accuracy: 0.8518 - loss: 0.4751 - val_accuracy: 0.6250 - val_loss: 1.1294\n",
            "Epoch 43/80\n",
            "\u001b[1m10/10\u001b[0m \u001b[32m━━━━━━━━━━━━━━━━━━━━\u001b[0m\u001b[37m\u001b[0m \u001b[1m1s\u001b[0m 48ms/step - accuracy: 0.8915 - loss: 0.3964 - val_accuracy: 0.6375 - val_loss: 1.1439\n",
            "Epoch 44/80\n",
            "\u001b[1m10/10\u001b[0m \u001b[32m━━━━━━━━━━━━━━━━━━━━\u001b[0m\u001b[37m\u001b[0m \u001b[1m1s\u001b[0m 52ms/step - accuracy: 0.8938 - loss: 0.4322 - val_accuracy: 0.6375 - val_loss: 1.1033\n",
            "Epoch 45/80\n",
            "\u001b[1m10/10\u001b[0m \u001b[32m━━━━━━━━━━━━━━━━━━━━\u001b[0m\u001b[37m\u001b[0m \u001b[1m0s\u001b[0m 47ms/step - accuracy: 0.8975 - loss: 0.4055 - val_accuracy: 0.6625 - val_loss: 1.0798\n",
            "Epoch 46/80\n",
            "\u001b[1m10/10\u001b[0m \u001b[32m━━━━━━━━━━━━━━━━━━━━\u001b[0m\u001b[37m\u001b[0m \u001b[1m1s\u001b[0m 52ms/step - accuracy: 0.8958 - loss: 0.3927 - val_accuracy: 0.6750 - val_loss: 1.0378\n",
            "Epoch 47/80\n",
            "\u001b[1m10/10\u001b[0m \u001b[32m━━━━━━━━━━━━━━━━━━━━\u001b[0m\u001b[37m\u001b[0m \u001b[1m1s\u001b[0m 48ms/step - accuracy: 0.8996 - loss: 0.4010 - val_accuracy: 0.7000 - val_loss: 0.9987\n",
            "Epoch 48/80\n",
            "\u001b[1m10/10\u001b[0m \u001b[32m━━━━━━━━━━━━━━━━━━━━\u001b[0m\u001b[37m\u001b[0m \u001b[1m1s\u001b[0m 52ms/step - accuracy: 0.8990 - loss: 0.4187 - val_accuracy: 0.7125 - val_loss: 0.9925\n",
            "Epoch 49/80\n",
            "\u001b[1m10/10\u001b[0m \u001b[32m━━━━━━━━━━━━━━━━━━━━\u001b[0m\u001b[37m\u001b[0m \u001b[1m1s\u001b[0m 73ms/step - accuracy: 0.9084 - loss: 0.3912 - val_accuracy: 0.7375 - val_loss: 0.9716\n",
            "Epoch 50/80\n",
            "\u001b[1m10/10\u001b[0m \u001b[32m━━━━━━━━━━━━━━━━━━━━\u001b[0m\u001b[37m\u001b[0m \u001b[1m1s\u001b[0m 92ms/step - accuracy: 0.8582 - loss: 0.4577 - val_accuracy: 0.7500 - val_loss: 0.9426\n",
            "Epoch 51/80\n",
            "\u001b[1m10/10\u001b[0m \u001b[32m━━━━━━━━━━━━━━━━━━━━\u001b[0m\u001b[37m\u001b[0m \u001b[1m1s\u001b[0m 94ms/step - accuracy: 0.8974 - loss: 0.3729 - val_accuracy: 0.7750 - val_loss: 0.9182\n",
            "Epoch 52/80\n",
            "\u001b[1m10/10\u001b[0m \u001b[32m━━━━━━━━━━━━━━━━━━━━\u001b[0m\u001b[37m\u001b[0m \u001b[1m1s\u001b[0m 62ms/step - accuracy: 0.8982 - loss: 0.4251 - val_accuracy: 0.8000 - val_loss: 0.8875\n",
            "Epoch 53/80\n",
            "\u001b[1m10/10\u001b[0m \u001b[32m━━━━━━━━━━━━━━━━━━━━\u001b[0m\u001b[37m\u001b[0m \u001b[1m1s\u001b[0m 51ms/step - accuracy: 0.8897 - loss: 0.3968 - val_accuracy: 0.8125 - val_loss: 0.8503\n",
            "Epoch 54/80\n",
            "\u001b[1m10/10\u001b[0m \u001b[32m━━━━━━━━━━━━━━━━━━━━\u001b[0m\u001b[37m\u001b[0m \u001b[1m1s\u001b[0m 52ms/step - accuracy: 0.8630 - loss: 0.4087 - val_accuracy: 0.8125 - val_loss: 0.8448\n",
            "Epoch 55/80\n",
            "\u001b[1m10/10\u001b[0m \u001b[32m━━━━━━━━━━━━━━━━━━━━\u001b[0m\u001b[37m\u001b[0m \u001b[1m1s\u001b[0m 51ms/step - accuracy: 0.8945 - loss: 0.4280 - val_accuracy: 0.8000 - val_loss: 0.8627\n",
            "Epoch 56/80\n",
            "\u001b[1m10/10\u001b[0m \u001b[32m━━━━━━━━━━━━━━━━━━━━\u001b[0m\u001b[37m\u001b[0m \u001b[1m1s\u001b[0m 49ms/step - accuracy: 0.9123 - loss: 0.3987 - val_accuracy: 0.8125 - val_loss: 0.8527\n",
            "Epoch 57/80\n",
            "\u001b[1m10/10\u001b[0m \u001b[32m━━━━━━━━━━━━━━━━━━━━\u001b[0m\u001b[37m\u001b[0m \u001b[1m1s\u001b[0m 52ms/step - accuracy: 0.8763 - loss: 0.3899 - val_accuracy: 0.8125 - val_loss: 0.8536\n",
            "Epoch 58/80\n",
            "\u001b[1m10/10\u001b[0m \u001b[32m━━━━━━━━━━━━━━━━━━━━\u001b[0m\u001b[37m\u001b[0m \u001b[1m1s\u001b[0m 51ms/step - accuracy: 0.8781 - loss: 0.4496 - val_accuracy: 0.8250 - val_loss: 0.8392\n",
            "Epoch 59/80\n",
            "\u001b[1m10/10\u001b[0m \u001b[32m━━━━━━━━━━━━━━━━━━━━\u001b[0m\u001b[37m\u001b[0m \u001b[1m1s\u001b[0m 52ms/step - accuracy: 0.9170 - loss: 0.4178 - val_accuracy: 0.8250 - val_loss: 0.8311\n",
            "Epoch 60/80\n",
            "\u001b[1m10/10\u001b[0m \u001b[32m━━━━━━━━━━━━━━━━━━━━\u001b[0m\u001b[37m\u001b[0m \u001b[1m1s\u001b[0m 51ms/step - accuracy: 0.8909 - loss: 0.3530 - val_accuracy: 0.8250 - val_loss: 0.8250\n",
            "Epoch 61/80\n",
            "\u001b[1m10/10\u001b[0m \u001b[32m━━━━━━━━━━━━━━━━━━━━\u001b[0m\u001b[37m\u001b[0m \u001b[1m1s\u001b[0m 55ms/step - accuracy: 0.9026 - loss: 0.3486 - val_accuracy: 0.8375 - val_loss: 0.8268\n",
            "Epoch 62/80\n",
            "\u001b[1m10/10\u001b[0m \u001b[32m━━━━━━━━━━━━━━━━━━━━\u001b[0m\u001b[37m\u001b[0m \u001b[1m1s\u001b[0m 52ms/step - accuracy: 0.9035 - loss: 0.3569 - val_accuracy: 0.8375 - val_loss: 0.8370\n",
            "Epoch 63/80\n",
            "\u001b[1m10/10\u001b[0m \u001b[32m━━━━━━━━━━━━━━━━━━━━\u001b[0m\u001b[37m\u001b[0m \u001b[1m1s\u001b[0m 54ms/step - accuracy: 0.8682 - loss: 0.4038 - val_accuracy: 0.8375 - val_loss: 0.8679\n",
            "Epoch 64/80\n",
            "\u001b[1m10/10\u001b[0m \u001b[32m━━━━━━━━━━━━━━━━━━━━\u001b[0m\u001b[37m\u001b[0m \u001b[1m1s\u001b[0m 58ms/step - accuracy: 0.9063 - loss: 0.4275 - val_accuracy: 0.8375 - val_loss: 0.8693\n",
            "Epoch 65/80\n",
            "\u001b[1m10/10\u001b[0m \u001b[32m━━━━━━━━━━━━━━━━━━━━\u001b[0m\u001b[37m\u001b[0m \u001b[1m1s\u001b[0m 54ms/step - accuracy: 0.9019 - loss: 0.3574 - val_accuracy: 0.8375 - val_loss: 0.8548\n",
            "Epoch 66/80\n",
            "\u001b[1m10/10\u001b[0m \u001b[32m━━━━━━━━━━━━━━━━━━━━\u001b[0m\u001b[37m\u001b[0m \u001b[1m1s\u001b[0m 51ms/step - accuracy: 0.9271 - loss: 0.3352 - val_accuracy: 0.8250 - val_loss: 0.8448\n",
            "Epoch 67/80\n",
            "\u001b[1m10/10\u001b[0m \u001b[32m━━━━━━━━━━━━━━━━━━━━\u001b[0m\u001b[37m\u001b[0m \u001b[1m1s\u001b[0m 45ms/step - accuracy: 0.8805 - loss: 0.4072 - val_accuracy: 0.8375 - val_loss: 0.8429\n",
            "Epoch 68/80\n",
            "\u001b[1m10/10\u001b[0m \u001b[32m━━━━━━━━━━━━━━━━━━━━\u001b[0m\u001b[37m\u001b[0m \u001b[1m1s\u001b[0m 46ms/step - accuracy: 0.9189 - loss: 0.3232 - val_accuracy: 0.8500 - val_loss: 0.8303\n",
            "Epoch 69/80\n",
            "\u001b[1m10/10\u001b[0m \u001b[32m━━━━━━━━━━━━━━━━━━━━\u001b[0m\u001b[37m\u001b[0m \u001b[1m0s\u001b[0m 45ms/step - accuracy: 0.9070 - loss: 0.3846 - val_accuracy: 0.8500 - val_loss: 0.8294\n",
            "Epoch 70/80\n",
            "\u001b[1m10/10\u001b[0m \u001b[32m━━━━━━━━━━━━━━━━━━━━\u001b[0m\u001b[37m\u001b[0m \u001b[1m1s\u001b[0m 85ms/step - accuracy: 0.8737 - loss: 0.3783 - val_accuracy: 0.8500 - val_loss: 0.8240\n",
            "Epoch 71/80\n",
            "\u001b[1m10/10\u001b[0m \u001b[32m━━━━━━━━━━━━━━━━━━━━\u001b[0m\u001b[37m\u001b[0m \u001b[1m1s\u001b[0m 91ms/step - accuracy: 0.9408 - loss: 0.2970 - val_accuracy: 0.8500 - val_loss: 0.8251\n",
            "Epoch 72/80\n",
            "\u001b[1m10/10\u001b[0m \u001b[32m━━━━━━━━━━━━━━━━━━━━\u001b[0m\u001b[37m\u001b[0m \u001b[1m1s\u001b[0m 83ms/step - accuracy: 0.9396 - loss: 0.2926 - val_accuracy: 0.8375 - val_loss: 0.8252\n",
            "Epoch 73/80\n",
            "\u001b[1m10/10\u001b[0m \u001b[32m━━━━━━━━━━━━━━━━━━━━\u001b[0m\u001b[37m\u001b[0m \u001b[1m1s\u001b[0m 84ms/step - accuracy: 0.9367 - loss: 0.2778 - val_accuracy: 0.8500 - val_loss: 0.8079\n",
            "Epoch 74/80\n",
            "\u001b[1m10/10\u001b[0m \u001b[32m━━━━━━━━━━━━━━━━━━━━\u001b[0m\u001b[37m\u001b[0m \u001b[1m1s\u001b[0m 84ms/step - accuracy: 0.9351 - loss: 0.3382 - val_accuracy: 0.8375 - val_loss: 0.8413\n",
            "Epoch 75/80\n",
            "\u001b[1m10/10\u001b[0m \u001b[32m━━━━━━━━━━━━━━━━━━━━\u001b[0m\u001b[37m\u001b[0m \u001b[1m1s\u001b[0m 50ms/step - accuracy: 0.9068 - loss: 0.3434 - val_accuracy: 0.8250 - val_loss: 0.8802\n",
            "Epoch 76/80\n",
            "\u001b[1m10/10\u001b[0m \u001b[32m━━━━━━━━━━━━━━━━━━━━\u001b[0m\u001b[37m\u001b[0m \u001b[1m1s\u001b[0m 52ms/step - accuracy: 0.9488 - loss: 0.2732 - val_accuracy: 0.8375 - val_loss: 0.8867\n",
            "Epoch 77/80\n",
            "\u001b[1m10/10\u001b[0m \u001b[32m━━━━━━━━━━━━━━━━━━━━\u001b[0m\u001b[37m\u001b[0m \u001b[1m1s\u001b[0m 48ms/step - accuracy: 0.9404 - loss: 0.2847 - val_accuracy: 0.8375 - val_loss: 0.8900\n",
            "Epoch 78/80\n",
            "\u001b[1m10/10\u001b[0m \u001b[32m━━━━━━━━━━━━━━━━━━━━\u001b[0m\u001b[37m\u001b[0m \u001b[1m1s\u001b[0m 53ms/step - accuracy: 0.8922 - loss: 0.3341 - val_accuracy: 0.8500 - val_loss: 0.8876\n",
            "Epoch 79/80\n",
            "\u001b[1m10/10\u001b[0m \u001b[32m━━━━━━━━━━━━━━━━━━━━\u001b[0m\u001b[37m\u001b[0m \u001b[1m1s\u001b[0m 51ms/step - accuracy: 0.9310 - loss: 0.2708 - val_accuracy: 0.8375 - val_loss: 0.8840\n",
            "Epoch 80/80\n",
            "\u001b[1m10/10\u001b[0m \u001b[32m━━━━━━━━━━━━━━━━━━━━\u001b[0m\u001b[37m\u001b[0m \u001b[1m1s\u001b[0m 52ms/step - accuracy: 0.9398 - loss: 0.2938 - val_accuracy: 0.8375 - val_loss: 0.8730\n"
          ]
        }
      ]
    },
    {
      "cell_type": "code",
      "source": [],
      "metadata": {
        "id": "ocKB9wfKvy1S"
      },
      "execution_count": null,
      "outputs": []
    },
    {
      "cell_type": "code",
      "source": [
        "from tensorflow.keras.callbacks import ReduceLROnPlateau\n",
        "\n",
        "# Reduce LR when validation loss stops improving\n",
        "reduce_lr = ReduceLROnPlateau(\n",
        "    monitor='val_loss',\n",
        "    factor=0.5,  # Reduce LR by half\n",
        "    patience=3,  # Wait for 3 epochs before reducing LR\n",
        "    min_lr=1e-6  # Minimum possible LR\n",
        ")\n",
        "\n",
        "# Train with LR scheduler\n",
        "history = model.fit(X_train, y_train, validation_data=(X_test, y_test), epochs=80, batch_size=32, callbacks=[early_stopping, reduce_lr], verbose=1)\n"
      ],
      "metadata": {
        "colab": {
          "base_uri": "https://localhost:8080/"
        },
        "id": "0m2VFTEFvATu",
        "outputId": "076b5443-1387-413c-b76d-1c1b1771be25"
      },
      "execution_count": null,
      "outputs": [
        {
          "output_type": "stream",
          "name": "stdout",
          "text": [
            "Epoch 1/80\n",
            "\u001b[1m10/10\u001b[0m \u001b[32m━━━━━━━━━━━━━━━━━━━━\u001b[0m\u001b[37m\u001b[0m \u001b[1m1s\u001b[0m 86ms/step - accuracy: 0.4743 - loss: 2.0999 - val_accuracy: 0.5750 - val_loss: 1.5312 - learning_rate: 0.0010\n",
            "Epoch 2/80\n",
            "\u001b[1m10/10\u001b[0m \u001b[32m━━━━━━━━━━━━━━━━━━━━\u001b[0m\u001b[37m\u001b[0m \u001b[1m1s\u001b[0m 50ms/step - accuracy: 0.5822 - loss: 1.4346 - val_accuracy: 0.4750 - val_loss: 1.4611 - learning_rate: 0.0010\n",
            "Epoch 3/80\n",
            "\u001b[1m10/10\u001b[0m \u001b[32m━━━━━━━━━━━━━━━━━━━━\u001b[0m\u001b[37m\u001b[0m \u001b[1m1s\u001b[0m 51ms/step - accuracy: 0.6747 - loss: 1.1323 - val_accuracy: 0.3875 - val_loss: 1.4658 - learning_rate: 0.0010\n",
            "Epoch 4/80\n",
            "\u001b[1m10/10\u001b[0m \u001b[32m━━━━━━━━━━━━━━━━━━━━\u001b[0m\u001b[37m\u001b[0m \u001b[1m1s\u001b[0m 51ms/step - accuracy: 0.7001 - loss: 0.8442 - val_accuracy: 0.3750 - val_loss: 1.5228 - learning_rate: 0.0010\n",
            "Epoch 5/80\n",
            "\u001b[1m10/10\u001b[0m \u001b[32m━━━━━━━━━━━━━━━━━━━━\u001b[0m\u001b[37m\u001b[0m \u001b[1m1s\u001b[0m 54ms/step - accuracy: 0.7341 - loss: 0.7486 - val_accuracy: 0.3750 - val_loss: 1.5965 - learning_rate: 0.0010\n",
            "Epoch 6/80\n",
            "\u001b[1m10/10\u001b[0m \u001b[32m━━━━━━━━━━━━━━━━━━━━\u001b[0m\u001b[37m\u001b[0m \u001b[1m1s\u001b[0m 52ms/step - accuracy: 0.8135 - loss: 0.6245 - val_accuracy: 0.3500 - val_loss: 1.6975 - learning_rate: 5.0000e-04\n",
            "Epoch 7/80\n",
            "\u001b[1m10/10\u001b[0m \u001b[32m━━━━━━━━━━━━━━━━━━━━\u001b[0m\u001b[37m\u001b[0m \u001b[1m1s\u001b[0m 53ms/step - accuracy: 0.8337 - loss: 0.5863 - val_accuracy: 0.3500 - val_loss: 1.8681 - learning_rate: 5.0000e-04\n",
            "Epoch 8/80\n",
            "\u001b[1m10/10\u001b[0m \u001b[32m━━━━━━━━━━━━━━━━━━━━\u001b[0m\u001b[37m\u001b[0m \u001b[1m1s\u001b[0m 49ms/step - accuracy: 0.8239 - loss: 0.5277 - val_accuracy: 0.3500 - val_loss: 2.0295 - learning_rate: 5.0000e-04\n",
            "Epoch 9/80\n",
            "\u001b[1m10/10\u001b[0m \u001b[32m━━━━━━━━━━━━━━━━━━━━\u001b[0m\u001b[37m\u001b[0m \u001b[1m1s\u001b[0m 50ms/step - accuracy: 0.8468 - loss: 0.4694 - val_accuracy: 0.3500 - val_loss: 2.1489 - learning_rate: 2.5000e-04\n",
            "Epoch 10/80\n",
            "\u001b[1m10/10\u001b[0m \u001b[32m━━━━━━━━━━━━━━━━━━━━\u001b[0m\u001b[37m\u001b[0m \u001b[1m1s\u001b[0m 86ms/step - accuracy: 0.8417 - loss: 0.4903 - val_accuracy: 0.3500 - val_loss: 2.3026 - learning_rate: 2.5000e-04\n",
            "Epoch 11/80\n",
            "\u001b[1m10/10\u001b[0m \u001b[32m━━━━━━━━━━━━━━━━━━━━\u001b[0m\u001b[37m\u001b[0m \u001b[1m1s\u001b[0m 93ms/step - accuracy: 0.8585 - loss: 0.4866 - val_accuracy: 0.3500 - val_loss: 2.3950 - learning_rate: 2.5000e-04\n",
            "Epoch 12/80\n",
            "\u001b[1m10/10\u001b[0m \u001b[32m━━━━━━━━━━━━━━━━━━━━\u001b[0m\u001b[37m\u001b[0m \u001b[1m1s\u001b[0m 94ms/step - accuracy: 0.8737 - loss: 0.4589 - val_accuracy: 0.3500 - val_loss: 2.4688 - learning_rate: 1.2500e-04\n",
            "Epoch 13/80\n",
            "\u001b[1m10/10\u001b[0m \u001b[32m━━━━━━━━━━━━━━━━━━━━\u001b[0m\u001b[37m\u001b[0m \u001b[1m1s\u001b[0m 63ms/step - accuracy: 0.9047 - loss: 0.3994 - val_accuracy: 0.3500 - val_loss: 2.5329 - learning_rate: 1.2500e-04\n",
            "Epoch 14/80\n",
            "\u001b[1m10/10\u001b[0m \u001b[32m━━━━━━━━━━━━━━━━━━━━\u001b[0m\u001b[37m\u001b[0m \u001b[1m1s\u001b[0m 51ms/step - accuracy: 0.8631 - loss: 0.3964 - val_accuracy: 0.3500 - val_loss: 2.6036 - learning_rate: 1.2500e-04\n",
            "Epoch 15/80\n",
            "\u001b[1m10/10\u001b[0m \u001b[32m━━━━━━━━━━━━━━━━━━━━\u001b[0m\u001b[37m\u001b[0m \u001b[1m1s\u001b[0m 49ms/step - accuracy: 0.9288 - loss: 0.3546 - val_accuracy: 0.3625 - val_loss: 2.6691 - learning_rate: 6.2500e-05\n",
            "Epoch 16/80\n",
            "\u001b[1m10/10\u001b[0m \u001b[32m━━━━━━━━━━━━━━━━━━━━\u001b[0m\u001b[37m\u001b[0m \u001b[1m1s\u001b[0m 52ms/step - accuracy: 0.9208 - loss: 0.3358 - val_accuracy: 0.3625 - val_loss: 2.7241 - learning_rate: 6.2500e-05\n"
          ]
        }
      ]
    },
    {
      "cell_type": "code",
      "source": [
        "import tensorflow as tf\n",
        "\n",
        "# Use Adam optimizer with a lower learning rate\n",
        "optimizer = tf.keras.optimizers.Adam(learning_rate=0.0001)  # Reduce LR from default 0.001 to 0.0001\n",
        "\n",
        "model.compile(optimizer=optimizer, loss='sparse_categorical_crossentropy', metrics=['accuracy'])\n"
      ],
      "metadata": {
        "id": "7TNz4BkiwlQY"
      },
      "execution_count": null,
      "outputs": []
    },
    {
      "cell_type": "code",
      "source": [
        "from tensorflow.keras.callbacks import ReduceLROnPlateau\n",
        "\n",
        "# Reduce learning rate when validation loss stops improving\n",
        "reduce_lr = ReduceLROnPlateau(monitor='val_loss', factor=0.5, patience=3, min_lr=1e-6, verbose=1)\n",
        "\n",
        "history = model.fit(X_train, y_train, validation_data=(X_test, y_test), epochs=50, batch_size=32, callbacks=[reduce_lr])\n"
      ],
      "metadata": {
        "colab": {
          "base_uri": "https://localhost:8080/"
        },
        "id": "LwfblHbfwmu9",
        "outputId": "8205aeb0-a3a6-466c-abf8-7e19137f2eea"
      },
      "execution_count": null,
      "outputs": [
        {
          "output_type": "stream",
          "name": "stdout",
          "text": [
            "Epoch 1/50\n",
            "\u001b[1m10/10\u001b[0m \u001b[32m━━━━━━━━━━━━━━━━━━━━\u001b[0m\u001b[37m\u001b[0m \u001b[1m5s\u001b[0m 87ms/step - accuracy: 0.8911 - loss: 0.3293 - val_accuracy: 0.8500 - val_loss: 0.8313 - learning_rate: 1.0000e-04\n",
            "Epoch 2/50\n",
            "\u001b[1m10/10\u001b[0m \u001b[32m━━━━━━━━━━━━━━━━━━━━\u001b[0m\u001b[37m\u001b[0m \u001b[1m1s\u001b[0m 50ms/step - accuracy: 0.9320 - loss: 0.3109 - val_accuracy: 0.8250 - val_loss: 0.8771 - learning_rate: 1.0000e-04\n",
            "Epoch 3/50\n",
            "\u001b[1m10/10\u001b[0m \u001b[32m━━━━━━━━━━━━━━━━━━━━\u001b[0m\u001b[37m\u001b[0m \u001b[1m1s\u001b[0m 51ms/step - accuracy: 0.9270 - loss: 0.3412 - val_accuracy: 0.8500 - val_loss: 0.8695 - learning_rate: 1.0000e-04\n",
            "Epoch 4/50\n",
            "\u001b[1m 9/10\u001b[0m \u001b[32m━━━━━━━━━━━━━━━━━━\u001b[0m\u001b[37m━━\u001b[0m \u001b[1m0s\u001b[0m 39ms/step - accuracy: 0.9136 - loss: 0.2822\n",
            "Epoch 4: ReduceLROnPlateau reducing learning rate to 4.999999873689376e-05.\n",
            "\u001b[1m10/10\u001b[0m \u001b[32m━━━━━━━━━━━━━━━━━━━━\u001b[0m\u001b[37m\u001b[0m \u001b[1m1s\u001b[0m 49ms/step - accuracy: 0.9123 - loss: 0.2847 - val_accuracy: 0.8500 - val_loss: 0.8751 - learning_rate: 1.0000e-04\n",
            "Epoch 5/50\n",
            "\u001b[1m10/10\u001b[0m \u001b[32m━━━━━━━━━━━━━━━━━━━━\u001b[0m\u001b[37m\u001b[0m \u001b[1m1s\u001b[0m 52ms/step - accuracy: 0.8952 - loss: 0.3463 - val_accuracy: 0.8375 - val_loss: 0.8738 - learning_rate: 5.0000e-05\n",
            "Epoch 6/50\n",
            "\u001b[1m10/10\u001b[0m \u001b[32m━━━━━━━━━━━━━━━━━━━━\u001b[0m\u001b[37m\u001b[0m \u001b[1m1s\u001b[0m 51ms/step - accuracy: 0.8970 - loss: 0.3671 - val_accuracy: 0.8375 - val_loss: 0.8580 - learning_rate: 5.0000e-05\n",
            "Epoch 7/50\n",
            "\u001b[1m10/10\u001b[0m \u001b[32m━━━━━━━━━━━━━━━━━━━━\u001b[0m\u001b[37m\u001b[0m \u001b[1m0s\u001b[0m 42ms/step - accuracy: 0.9574 - loss: 0.2644\n",
            "Epoch 7: ReduceLROnPlateau reducing learning rate to 2.499999936844688e-05.\n",
            "\u001b[1m10/10\u001b[0m \u001b[32m━━━━━━━━━━━━━━━━━━━━\u001b[0m\u001b[37m\u001b[0m \u001b[1m1s\u001b[0m 54ms/step - accuracy: 0.9564 - loss: 0.2673 - val_accuracy: 0.8375 - val_loss: 0.8702 - learning_rate: 5.0000e-05\n",
            "Epoch 8/50\n",
            "\u001b[1m10/10\u001b[0m \u001b[32m━━━━━━━━━━━━━━━━━━━━\u001b[0m\u001b[37m\u001b[0m \u001b[1m1s\u001b[0m 80ms/step - accuracy: 0.9545 - loss: 0.2482 - val_accuracy: 0.8625 - val_loss: 0.8756 - learning_rate: 2.5000e-05\n",
            "Epoch 9/50\n",
            "\u001b[1m10/10\u001b[0m \u001b[32m━━━━━━━━━━━━━━━━━━━━\u001b[0m\u001b[37m\u001b[0m \u001b[1m1s\u001b[0m 87ms/step - accuracy: 0.9368 - loss: 0.2576 - val_accuracy: 0.8625 - val_loss: 0.8845 - learning_rate: 2.5000e-05\n",
            "Epoch 10/50\n",
            "\u001b[1m10/10\u001b[0m \u001b[32m━━━━━━━━━━━━━━━━━━━━\u001b[0m\u001b[37m\u001b[0m \u001b[1m0s\u001b[0m 70ms/step - accuracy: 0.9223 - loss: 0.2799\n",
            "Epoch 10: ReduceLROnPlateau reducing learning rate to 1.249999968422344e-05.\n",
            "\u001b[1m10/10\u001b[0m \u001b[32m━━━━━━━━━━━━━━━━━━━━\u001b[0m\u001b[37m\u001b[0m \u001b[1m1s\u001b[0m 88ms/step - accuracy: 0.9231 - loss: 0.2781 - val_accuracy: 0.8625 - val_loss: 0.9042 - learning_rate: 2.5000e-05\n",
            "Epoch 11/50\n",
            "\u001b[1m10/10\u001b[0m \u001b[32m━━━━━━━━━━━━━━━━━━━━\u001b[0m\u001b[37m\u001b[0m \u001b[1m1s\u001b[0m 67ms/step - accuracy: 0.9587 - loss: 0.2307 - val_accuracy: 0.8625 - val_loss: 0.9123 - learning_rate: 1.2500e-05\n",
            "Epoch 12/50\n",
            "\u001b[1m10/10\u001b[0m \u001b[32m━━━━━━━━━━━━━━━━━━━━\u001b[0m\u001b[37m\u001b[0m \u001b[1m0s\u001b[0m 48ms/step - accuracy: 0.9353 - loss: 0.2533 - val_accuracy: 0.8625 - val_loss: 0.9087 - learning_rate: 1.2500e-05\n",
            "Epoch 13/50\n",
            "\u001b[1m 9/10\u001b[0m \u001b[32m━━━━━━━━━━━━━━━━━━\u001b[0m\u001b[37m━━\u001b[0m \u001b[1m0s\u001b[0m 37ms/step - accuracy: 0.9257 - loss: 0.2646\n",
            "Epoch 13: ReduceLROnPlateau reducing learning rate to 6.24999984211172e-06.\n",
            "\u001b[1m10/10\u001b[0m \u001b[32m━━━━━━━━━━━━━━━━━━━━\u001b[0m\u001b[37m\u001b[0m \u001b[1m0s\u001b[0m 46ms/step - accuracy: 0.9289 - loss: 0.2612 - val_accuracy: 0.8625 - val_loss: 0.9025 - learning_rate: 1.2500e-05\n",
            "Epoch 14/50\n",
            "\u001b[1m10/10\u001b[0m \u001b[32m━━━━━━━━━━━━━━━━━━━━\u001b[0m\u001b[37m\u001b[0m \u001b[1m1s\u001b[0m 45ms/step - accuracy: 0.9554 - loss: 0.2364 - val_accuracy: 0.8625 - val_loss: 0.9023 - learning_rate: 6.2500e-06\n",
            "Epoch 15/50\n",
            "\u001b[1m10/10\u001b[0m \u001b[32m━━━━━━━━━━━━━━━━━━━━\u001b[0m\u001b[37m\u001b[0m \u001b[1m0s\u001b[0m 45ms/step - accuracy: 0.9165 - loss: 0.2757 - val_accuracy: 0.8625 - val_loss: 0.9030 - learning_rate: 6.2500e-06\n",
            "Epoch 16/50\n",
            "\u001b[1m 9/10\u001b[0m \u001b[32m━━━━━━━━━━━━━━━━━━\u001b[0m\u001b[37m━━\u001b[0m \u001b[1m0s\u001b[0m 39ms/step - accuracy: 0.9624 - loss: 0.2902\n",
            "Epoch 16: ReduceLROnPlateau reducing learning rate to 3.12499992105586e-06.\n",
            "\u001b[1m10/10\u001b[0m \u001b[32m━━━━━━━━━━━━━━━━━━━━\u001b[0m\u001b[37m\u001b[0m \u001b[1m1s\u001b[0m 48ms/step - accuracy: 0.9601 - loss: 0.2878 - val_accuracy: 0.8625 - val_loss: 0.9052 - learning_rate: 6.2500e-06\n",
            "Epoch 17/50\n",
            "\u001b[1m10/10\u001b[0m \u001b[32m━━━━━━━━━━━━━━━━━━━━\u001b[0m\u001b[37m\u001b[0m \u001b[1m1s\u001b[0m 52ms/step - accuracy: 0.9413 - loss: 0.2528 - val_accuracy: 0.8625 - val_loss: 0.9052 - learning_rate: 3.1250e-06\n",
            "Epoch 18/50\n",
            "\u001b[1m10/10\u001b[0m \u001b[32m━━━━━━━━━━━━━━━━━━━━\u001b[0m\u001b[37m\u001b[0m \u001b[1m1s\u001b[0m 50ms/step - accuracy: 0.9303 - loss: 0.2969 - val_accuracy: 0.8625 - val_loss: 0.9054 - learning_rate: 3.1250e-06\n",
            "Epoch 19/50\n",
            "\u001b[1m 9/10\u001b[0m \u001b[32m━━━━━━━━━━━━━━━━━━\u001b[0m\u001b[37m━━\u001b[0m \u001b[1m0s\u001b[0m 41ms/step - accuracy: 0.9342 - loss: 0.2887\n",
            "Epoch 19: ReduceLROnPlateau reducing learning rate to 1.56249996052793e-06.\n",
            "\u001b[1m10/10\u001b[0m \u001b[32m━━━━━━━━━━━━━━━━━━━━\u001b[0m\u001b[37m\u001b[0m \u001b[1m1s\u001b[0m 50ms/step - accuracy: 0.9359 - loss: 0.2830 - val_accuracy: 0.8625 - val_loss: 0.9045 - learning_rate: 3.1250e-06\n",
            "Epoch 20/50\n",
            "\u001b[1m10/10\u001b[0m \u001b[32m━━━━━━━━━━━━━━━━━━━━\u001b[0m\u001b[37m\u001b[0m \u001b[1m0s\u001b[0m 49ms/step - accuracy: 0.9624 - loss: 0.2408 - val_accuracy: 0.8625 - val_loss: 0.9046 - learning_rate: 1.5625e-06\n",
            "Epoch 21/50\n",
            "\u001b[1m10/10\u001b[0m \u001b[32m━━━━━━━━━━━━━━━━━━━━\u001b[0m\u001b[37m\u001b[0m \u001b[1m0s\u001b[0m 46ms/step - accuracy: 0.9669 - loss: 0.2506 - val_accuracy: 0.8625 - val_loss: 0.9047 - learning_rate: 1.5625e-06\n",
            "Epoch 22/50\n",
            "\u001b[1m 9/10\u001b[0m \u001b[32m━━━━━━━━━━━━━━━━━━\u001b[0m\u001b[37m━━\u001b[0m \u001b[1m0s\u001b[0m 39ms/step - accuracy: 0.9677 - loss: 0.2131\n",
            "Epoch 22: ReduceLROnPlateau reducing learning rate to 1e-06.\n",
            "\u001b[1m10/10\u001b[0m \u001b[32m━━━━━━━━━━━━━━━━━━━━\u001b[0m\u001b[37m\u001b[0m \u001b[1m0s\u001b[0m 49ms/step - accuracy: 0.9650 - loss: 0.2179 - val_accuracy: 0.8625 - val_loss: 0.9050 - learning_rate: 1.5625e-06\n",
            "Epoch 23/50\n",
            "\u001b[1m10/10\u001b[0m \u001b[32m━━━━━━━━━━━━━━━━━━━━\u001b[0m\u001b[37m\u001b[0m \u001b[1m1s\u001b[0m 50ms/step - accuracy: 0.9598 - loss: 0.2310 - val_accuracy: 0.8625 - val_loss: 0.9055 - learning_rate: 1.0000e-06\n",
            "Epoch 24/50\n",
            "\u001b[1m10/10\u001b[0m \u001b[32m━━━━━━━━━━━━━━━━━━━━\u001b[0m\u001b[37m\u001b[0m \u001b[1m1s\u001b[0m 53ms/step - accuracy: 0.9322 - loss: 0.3003 - val_accuracy: 0.8625 - val_loss: 0.9063 - learning_rate: 1.0000e-06\n",
            "Epoch 25/50\n",
            "\u001b[1m10/10\u001b[0m \u001b[32m━━━━━━━━━━━━━━━━━━━━\u001b[0m\u001b[37m\u001b[0m \u001b[1m1s\u001b[0m 50ms/step - accuracy: 0.9655 - loss: 0.2423 - val_accuracy: 0.8625 - val_loss: 0.9066 - learning_rate: 1.0000e-06\n",
            "Epoch 26/50\n",
            "\u001b[1m10/10\u001b[0m \u001b[32m━━━━━━━━━━━━━━━━━━━━\u001b[0m\u001b[37m\u001b[0m \u001b[1m1s\u001b[0m 51ms/step - accuracy: 0.9353 - loss: 0.2882 - val_accuracy: 0.8625 - val_loss: 0.9059 - learning_rate: 1.0000e-06\n",
            "Epoch 27/50\n",
            "\u001b[1m10/10\u001b[0m \u001b[32m━━━━━━━━━━━━━━━━━━━━\u001b[0m\u001b[37m\u001b[0m \u001b[1m1s\u001b[0m 49ms/step - accuracy: 0.9301 - loss: 0.2622 - val_accuracy: 0.8625 - val_loss: 0.9060 - learning_rate: 1.0000e-06\n",
            "Epoch 28/50\n",
            "\u001b[1m10/10\u001b[0m \u001b[32m━━━━━━━━━━━━━━━━━━━━\u001b[0m\u001b[37m\u001b[0m \u001b[1m1s\u001b[0m 51ms/step - accuracy: 0.9477 - loss: 0.2557 - val_accuracy: 0.8625 - val_loss: 0.9059 - learning_rate: 1.0000e-06\n",
            "Epoch 29/50\n",
            "\u001b[1m10/10\u001b[0m \u001b[32m━━━━━━━━━━━━━━━━━━━━\u001b[0m\u001b[37m\u001b[0m \u001b[1m1s\u001b[0m 59ms/step - accuracy: 0.9429 - loss: 0.2575 - val_accuracy: 0.8625 - val_loss: 0.9059 - learning_rate: 1.0000e-06\n",
            "Epoch 30/50\n",
            "\u001b[1m10/10\u001b[0m \u001b[32m━━━━━━━━━━━━━━━━━━━━\u001b[0m\u001b[37m\u001b[0m \u001b[1m1s\u001b[0m 98ms/step - accuracy: 0.9534 - loss: 0.2268 - val_accuracy: 0.8625 - val_loss: 0.9054 - learning_rate: 1.0000e-06\n",
            "Epoch 31/50\n",
            "\u001b[1m10/10\u001b[0m \u001b[32m━━━━━━━━━━━━━━━━━━━━\u001b[0m\u001b[37m\u001b[0m \u001b[1m1s\u001b[0m 85ms/step - accuracy: 0.9497 - loss: 0.2431 - val_accuracy: 0.8625 - val_loss: 0.9059 - learning_rate: 1.0000e-06\n",
            "Epoch 32/50\n",
            "\u001b[1m10/10\u001b[0m \u001b[32m━━━━━━━━━━━━━━━━━━━━\u001b[0m\u001b[37m\u001b[0m \u001b[1m1s\u001b[0m 88ms/step - accuracy: 0.9345 - loss: 0.2909 - val_accuracy: 0.8625 - val_loss: 0.9060 - learning_rate: 1.0000e-06\n",
            "Epoch 33/50\n",
            "\u001b[1m10/10\u001b[0m \u001b[32m━━━━━━━━━━━━━━━━━━━━\u001b[0m\u001b[37m\u001b[0m \u001b[1m1s\u001b[0m 80ms/step - accuracy: 0.9527 - loss: 0.2647 - val_accuracy: 0.8625 - val_loss: 0.9055 - learning_rate: 1.0000e-06\n",
            "Epoch 34/50\n",
            "\u001b[1m10/10\u001b[0m \u001b[32m━━━━━━━━━━━━━━━━━━━━\u001b[0m\u001b[37m\u001b[0m \u001b[1m1s\u001b[0m 52ms/step - accuracy: 0.9415 - loss: 0.2624 - val_accuracy: 0.8625 - val_loss: 0.9047 - learning_rate: 1.0000e-06\n",
            "Epoch 35/50\n",
            "\u001b[1m10/10\u001b[0m \u001b[32m━━━━━━━━━━━━━━━━━━━━\u001b[0m\u001b[37m\u001b[0m \u001b[1m1s\u001b[0m 52ms/step - accuracy: 0.9404 - loss: 0.2567 - val_accuracy: 0.8625 - val_loss: 0.9050 - learning_rate: 1.0000e-06\n",
            "Epoch 36/50\n",
            "\u001b[1m10/10\u001b[0m \u001b[32m━━━━━━━━━━━━━━━━━━━━\u001b[0m\u001b[37m\u001b[0m \u001b[1m1s\u001b[0m 49ms/step - accuracy: 0.9609 - loss: 0.2003 - val_accuracy: 0.8625 - val_loss: 0.9048 - learning_rate: 1.0000e-06\n",
            "Epoch 37/50\n",
            "\u001b[1m10/10\u001b[0m \u001b[32m━━━━━━━━━━━━━━━━━━━━\u001b[0m\u001b[37m\u001b[0m \u001b[1m1s\u001b[0m 46ms/step - accuracy: 0.9346 - loss: 0.2908 - val_accuracy: 0.8625 - val_loss: 0.9040 - learning_rate: 1.0000e-06\n",
            "Epoch 38/50\n",
            "\u001b[1m10/10\u001b[0m \u001b[32m━━━━━━━━━━━━━━━━━━━━\u001b[0m\u001b[37m\u001b[0m \u001b[1m1s\u001b[0m 48ms/step - accuracy: 0.9325 - loss: 0.2542 - val_accuracy: 0.8625 - val_loss: 0.9034 - learning_rate: 1.0000e-06\n",
            "Epoch 39/50\n",
            "\u001b[1m10/10\u001b[0m \u001b[32m━━━━━━━━━━━━━━━━━━━━\u001b[0m\u001b[37m\u001b[0m \u001b[1m1s\u001b[0m 51ms/step - accuracy: 0.9305 - loss: 0.2737 - val_accuracy: 0.8625 - val_loss: 0.9035 - learning_rate: 1.0000e-06\n",
            "Epoch 40/50\n",
            "\u001b[1m10/10\u001b[0m \u001b[32m━━━━━━━━━━━━━━━━━━━━\u001b[0m\u001b[37m\u001b[0m \u001b[1m1s\u001b[0m 52ms/step - accuracy: 0.9388 - loss: 0.2446 - val_accuracy: 0.8625 - val_loss: 0.9032 - learning_rate: 1.0000e-06\n",
            "Epoch 41/50\n",
            "\u001b[1m10/10\u001b[0m \u001b[32m━━━━━━━━━━━━━━━━━━━━\u001b[0m\u001b[37m\u001b[0m \u001b[1m1s\u001b[0m 51ms/step - accuracy: 0.9468 - loss: 0.2528 - val_accuracy: 0.8625 - val_loss: 0.9027 - learning_rate: 1.0000e-06\n",
            "Epoch 42/50\n",
            "\u001b[1m10/10\u001b[0m \u001b[32m━━━━━━━━━━━━━━━━━━━━\u001b[0m\u001b[37m\u001b[0m \u001b[1m1s\u001b[0m 46ms/step - accuracy: 0.9323 - loss: 0.2484 - val_accuracy: 0.8625 - val_loss: 0.9033 - learning_rate: 1.0000e-06\n",
            "Epoch 43/50\n",
            "\u001b[1m10/10\u001b[0m \u001b[32m━━━━━━━━━━━━━━━━━━━━\u001b[0m\u001b[37m\u001b[0m \u001b[1m0s\u001b[0m 46ms/step - accuracy: 0.9386 - loss: 0.2381 - val_accuracy: 0.8625 - val_loss: 0.9035 - learning_rate: 1.0000e-06\n",
            "Epoch 44/50\n",
            "\u001b[1m10/10\u001b[0m \u001b[32m━━━━━━━━━━━━━━━━━━━━\u001b[0m\u001b[37m\u001b[0m \u001b[1m1s\u001b[0m 46ms/step - accuracy: 0.9439 - loss: 0.2772 - val_accuracy: 0.8625 - val_loss: 0.9037 - learning_rate: 1.0000e-06\n",
            "Epoch 45/50\n",
            "\u001b[1m10/10\u001b[0m \u001b[32m━━━━━━━━━━━━━━━━━━━━\u001b[0m\u001b[37m\u001b[0m \u001b[1m0s\u001b[0m 45ms/step - accuracy: 0.9007 - loss: 0.3169 - val_accuracy: 0.8625 - val_loss: 0.9032 - learning_rate: 1.0000e-06\n",
            "Epoch 46/50\n",
            "\u001b[1m10/10\u001b[0m \u001b[32m━━━━━━━━━━━━━━━━━━━━\u001b[0m\u001b[37m\u001b[0m \u001b[1m1s\u001b[0m 55ms/step - accuracy: 0.9615 - loss: 0.2442 - val_accuracy: 0.8625 - val_loss: 0.9032 - learning_rate: 1.0000e-06\n",
            "Epoch 47/50\n",
            "\u001b[1m10/10\u001b[0m \u001b[32m━━━━━━━━━━━━━━━━━━━━\u001b[0m\u001b[37m\u001b[0m \u001b[1m1s\u001b[0m 51ms/step - accuracy: 0.9608 - loss: 0.2240 - val_accuracy: 0.8625 - val_loss: 0.9040 - learning_rate: 1.0000e-06\n",
            "Epoch 48/50\n",
            "\u001b[1m10/10\u001b[0m \u001b[32m━━━━━━━━━━━━━━━━━━━━\u001b[0m\u001b[37m\u001b[0m \u001b[1m1s\u001b[0m 49ms/step - accuracy: 0.9587 - loss: 0.2185 - val_accuracy: 0.8625 - val_loss: 0.9042 - learning_rate: 1.0000e-06\n",
            "Epoch 49/50\n",
            "\u001b[1m10/10\u001b[0m \u001b[32m━━━━━━━━━━━━━━━━━━━━\u001b[0m\u001b[37m\u001b[0m \u001b[1m1s\u001b[0m 51ms/step - accuracy: 0.9469 - loss: 0.2589 - val_accuracy: 0.8625 - val_loss: 0.9047 - learning_rate: 1.0000e-06\n",
            "Epoch 50/50\n",
            "\u001b[1m10/10\u001b[0m \u001b[32m━━━━━━━━━━━━━━━━━━━━\u001b[0m\u001b[37m\u001b[0m \u001b[1m1s\u001b[0m 50ms/step - accuracy: 0.9362 - loss: 0.2795 - val_accuracy: 0.8625 - val_loss: 0.9046 - learning_rate: 1.0000e-06\n"
          ]
        }
      ]
    },
    {
      "cell_type": "code",
      "source": [
        "# Evaluate model on test set\n",
        "test_loss, test_accuracy = model.evaluate(X_test, y_test)\n",
        "print(f\"Test Accuracy: {test_accuracy * 100:.2f}%\")\n"
      ],
      "metadata": {
        "colab": {
          "base_uri": "https://localhost:8080/"
        },
        "id": "MLBEKPHFkoaV",
        "outputId": "bb165613-a326-49a9-9a94-c0859b6ce7e3"
      },
      "execution_count": null,
      "outputs": [
        {
          "output_type": "stream",
          "name": "stdout",
          "text": [
            "\u001b[1m3/3\u001b[0m \u001b[32m━━━━━━━━━━━━━━━━━━━━\u001b[0m\u001b[37m\u001b[0m \u001b[1m0s\u001b[0m 19ms/step - accuracy: 0.8531 - loss: 1.0909\n",
            "Test Accuracy: 86.25%\n"
          ]
        }
      ]
    },
    {
      "cell_type": "code",
      "source": [
        "# Predict on test data\n",
        "y_pred = model.predict(X_test)\n",
        "\n",
        "# Convert predicted probabilities to class labels\n",
        "y_pred_labels = np.argmax(y_pred, axis=1)\n",
        "\n",
        "# Compare with actual labels\n",
        "print(\"Predictions:\", y_pred_labels[:10])\n",
        "print(\"Actual:\", y_test[:10])\n"
      ],
      "metadata": {
        "colab": {
          "base_uri": "https://localhost:8080/"
        },
        "id": "mnFfWkEzkqGK",
        "outputId": "19f0a0f0-d020-48c1-cc6f-7d5a8cd1692c"
      },
      "execution_count": null,
      "outputs": [
        {
          "output_type": "stream",
          "name": "stdout",
          "text": [
            "\u001b[1m3/3\u001b[0m \u001b[32m━━━━━━━━━━━━━━━━━━━━\u001b[0m\u001b[37m\u001b[0m \u001b[1m0s\u001b[0m 76ms/step\n",
            "Predictions: [1 2 3 0 4 2 3 2 4 3]\n",
            "Actual: [1 2 3 3 4 2 1 2 4 3]\n"
          ]
        }
      ]
    },
    {
      "cell_type": "code",
      "source": [
        "from sklearn.metrics import classification_report, confusion_matrix\n",
        "\n",
        "# Generate classification report\n",
        "print(classification_report(y_test, y_pred_labels))\n",
        "\n",
        "# Generate confusion matrix\n",
        "import seaborn as sns\n",
        "import matplotlib.pyplot as plt\n",
        "\n",
        "cm = confusion_matrix(y_test, y_pred_labels)\n",
        "plt.figure(figsize=(6, 5))\n",
        "sns.heatmap(cm, annot=True, fmt=\"d\", cmap=\"Blues\", xticklabels=emotion_map.values(), yticklabels=emotion_map.values())\n",
        "plt.xlabel(\"Predicted\")\n",
        "plt.ylabel(\"Actual\")\n",
        "plt.title(\"Confusion Matrix\")\n",
        "plt.show()\n"
      ],
      "metadata": {
        "colab": {
          "base_uri": "https://localhost:8080/",
          "height": 695
        },
        "id": "LKu8sSkokvjY",
        "outputId": "92f5ae18-615a-4b55-f56b-54b46a56d44d"
      },
      "execution_count": null,
      "outputs": [
        {
          "output_type": "stream",
          "name": "stdout",
          "text": [
            "              precision    recall  f1-score   support\n",
            "\n",
            "           0       0.87      0.81      0.84        16\n",
            "           1       1.00      0.81      0.90        16\n",
            "           2       1.00      0.88      0.93        16\n",
            "           3       0.61      0.88      0.72        16\n",
            "           4       1.00      0.94      0.97        16\n",
            "\n",
            "    accuracy                           0.86        80\n",
            "   macro avg       0.90      0.86      0.87        80\n",
            "weighted avg       0.90      0.86      0.87        80\n",
            "\n"
          ]
        },
        {
          "output_type": "display_data",
          "data": {
            "text/plain": [
              "<Figure size 600x500 with 2 Axes>"
            ],
            "image/png": "[encoded data removed]"
          },
          "metadata": {}
        }
      ]
    },
    {
      "cell_type": "code",
      "source": [
        "import matplotlib.pyplot as plt\n",
        "\n",
        "# Assuming 'history' is the variable storing model training history\n",
        "plt.figure(figsize=(12, 5))\n",
        "\n",
        "# Accuracy Plot\n",
        "plt.subplot(1, 2, 1)\n",
        "plt.plot(history.history['accuracy'], label='Train Accuracy')\n",
        "plt.plot(history.history['val_accuracy'], label='Validation Accuracy')\n",
        "plt.xlabel('Epochs')\n",
        "plt.ylabel('Accuracy')\n",
        "plt.title('Model Accuracy')\n",
        "plt.legend()\n",
        "\n",
        "# Loss Plot\n",
        "plt.subplot(1, 2, 2)\n",
        "plt.plot(history.history['loss'], label='Train Loss')\n",
        "plt.plot(history.history['val_loss'], label='Validation Loss')\n",
        "plt.xlabel('Epochs')\n",
        "plt.ylabel('Loss')\n",
        "plt.title('Model Loss')\n",
        "plt.legend()\n",
        "\n",
        "plt.show()\n"
      ],
      "metadata": {
        "colab": {
          "base_uri": "https://localhost:8080/",
          "height": 406
        },
        "id": "-fq3VHlIsbDe",
        "outputId": "811ef0fc-1c31-4218-f6a1-c43439789d14"
      },
      "execution_count": null,
      "outputs": [
        {
          "output_type": "display_data",
          "data": {
            "text/plain": [
              "<Figure size 1200x500 with 2 Axes>"
            ],
            "image/png": "[encoded data removed]"
          },
          "metadata": {}
        }
      ]
    },
    {
      "cell_type": "markdown",
      "source": [
        "saving the model"
      ],
      "metadata": {
        "id": "BLcG_LAGxRWs"
      }
    },
    {
      "cell_type": "code",
      "source": [
        "model.save(\"speech_emotion_recognition_model.h5\")\n"
      ],
      "metadata": {
        "colab": {
          "base_uri": "https://localhost:8080/"
        },
        "id": "Se0depoZxSWp",
        "outputId": "98dea59b-4d2d-431f-b165-86bb60067836"
      },
      "execution_count": null,
      "outputs": [
        {
          "output_type": "stream",
          "name": "stderr",
          "text": [
            "WARNING:absl:You are saving your model as an HDF5 file via `model.save()` or `keras.saving.save_model(model)`. This file format is considered legacy. We recommend using instead the native Keras format, e.g. `model.save('my_model.keras')` or `keras.saving.save_model(model, 'my_model.keras')`. \n"
          ]
        }
      ]
    },
    {
      "cell_type": "code",
      "source": [
        "from tensorflow.keras.models import load_model\n",
        "\n",
        "model = load_model(\"speech_emotion_recognition_model.h5\")\n"
      ],
      "metadata": {
        "colab": {
          "base_uri": "https://localhost:8080/"
        },
        "id": "d_gdyajgxcb_",
        "outputId": "65e5a951-cc01-4d5b-fc90-2a8ce0ae4784"
      },
      "execution_count": null,
      "outputs": [
        {
          "output_type": "stream",
          "name": "stderr",
          "text": [
            "WARNING:absl:Compiled the loaded model, but the compiled metrics have yet to be built. `model.compile_metrics` will be empty until you train or evaluate the model.\n"
          ]
        }
      ]
    },
    {
      "cell_type": "code",
      "source": [
        "import librosa\n",
        "import numpy as np\n",
        "\n",
        "def predict_emotion(file_path, model):\n",
        "    y, sr = librosa.load(file_path, sr=16000)\n",
        "\n",
        "    # Extract features (same as during training)\n",
        "    zcr = np.mean(librosa.feature.zero_crossing_rate(y))\n",
        "    rmse = np.mean(librosa.feature.rms(y=y))\n",
        "    mfccs = np.mean(librosa.feature.mfcc(y=y, sr=sr, n_mfcc=40), axis=1)\n",
        "    mel_spec = np.mean(librosa.feature.melspectrogram(y=y, sr=sr, n_mels=128), axis=1)\n",
        "\n",
        "    features = np.hstack([zcr, rmse, mfccs, mel_spec])\n",
        "    features = features.reshape(1, -1)  # Reshape for prediction\n",
        "\n",
        "    # Normalize features before prediction (using training mean & std)\n",
        "    features = (features - np.mean(features)) / np.std(features)\n",
        "\n",
        "    # Predict emotion\n",
        "    predicted_class = np.argmax(model.predict(features))\n",
        "\n",
        "    emotion_map = {0: 'Anger', 1: 'Fear', 2: 'Happy', 3: 'Neutral', 4: 'Sad'}\n",
        "    return emotion_map[predicted_class]\n",
        "\n",
        "# Example usage\n",
        "emotion = predict_emotion(\"/content/drive/MyDrive/round 4 iit hyd/Indian Emotional Speech Corpora (IESC)/Speaker-1/Happy/H-4-1-2.wav\", model)\n",
        "print(\"Predicted Emotion:\", emotion)\n"
      ],
      "metadata": {
        "colab": {
          "base_uri": "https://localhost:8080/"
        },
        "id": "j5gnU_taxeq7",
        "outputId": "60a6aa06-3b0b-416a-97cd-648b5a26f571"
      },
      "execution_count": null,
      "outputs": [
        {
          "output_type": "stream",
          "name": "stdout",
          "text": [
            "\u001b[1m1/1\u001b[0m \u001b[32m━━━━━━━━━━━━━━━━━━━━\u001b[0m\u001b[37m\u001b[0m \u001b[1m0s\u001b[0m 176ms/step\n",
            "Predicted Emotion: Anger\n"
          ]
        }
      ]
    },
    {
      "cell_type": "code",
      "source": [
        "print(\"Extracted Features Shape:\", features.shape)\n",
        "print(\"Extracted Features:\", features)\n"
      ],
      "metadata": {
        "colab": {
          "base_uri": "https://localhost:8080/"
        },
        "id": "r3RXbKZtyQ59",
        "outputId": "5aacfffb-9e5f-445c-c279-9bf811eccd35"
      },
      "execution_count": null,
      "outputs": [
        {
          "output_type": "stream",
          "name": "stdout",
          "text": [
            "Extracted Features Shape: (400, 170)\n",
            "Extracted Features: [[ 1.27835360e-01  7.43595883e-02 -3.06217712e+02 ...  9.40517429e-03\n",
            "   5.51378215e-03  3.97043210e-03]\n",
            " [ 1.06595952e-01  6.51062801e-02 -3.35680511e+02 ...  1.85015937e-03\n",
            "   1.14658661e-03  5.61059278e-04]\n",
            " [ 8.52362450e-02  6.78485185e-02 -3.53019897e+02 ...  1.16837281e-03\n",
            "   4.18672775e-04  8.87684437e-05]\n",
            " ...\n",
            " [ 2.24375849e-01  3.59476395e-02 -4.45410309e+02 ...  3.32030962e-04\n",
            "   1.46687060e-04  1.15642988e-05]\n",
            " [ 2.11985980e-01  4.54305150e-02 -3.83239532e+02 ...  3.02793720e-04\n",
            "   1.04520746e-04  6.65765083e-06]\n",
            " [ 2.05917485e-01  4.01325859e-02 -4.28446289e+02 ...  6.25886314e-04\n",
            "   1.97634610e-04  1.40366210e-05]]\n"
          ]
        }
      ]
    },
    {
      "cell_type": "code",
      "source": [
        "print(model.input_shape)\n"
      ],
      "metadata": {
        "colab": {
          "base_uri": "https://localhost:8080/"
        },
        "id": "cGHs2oKHyTXC",
        "outputId": "08bc0c75-0461-4709-be9e-87b80493daa3"
      },
      "execution_count": null,
      "outputs": [
        {
          "output_type": "stream",
          "name": "stdout",
          "text": [
            "(None, 170, 1)\n"
          ]
        }
      ]
    },
    {
      "cell_type": "code",
      "source": [
        "import librosa\n",
        "import numpy as np\n",
        "import pickle  # To save and load scaler\n",
        "\n",
        "def predict_emotion(file_path, model, scaler):\n",
        "    y, sr = librosa.load(file_path, sr=16000)\n",
        "\n",
        "    # Extract features (same as during training)\n",
        "    zcr = np.mean(librosa.feature.zero_crossing_rate(y))\n",
        "    rmse = np.mean(librosa.feature.rms(y=y))\n",
        "    mfccs = np.mean(librosa.feature.mfcc(y=y, sr=sr, n_mfcc=40), axis=1)\n",
        "    mel_spec = np.mean(librosa.feature.melspectrogram(y=y, sr=sr, n_mels=128), axis=1)\n",
        "\n",
        "    features = np.hstack([zcr, rmse, mfccs, mel_spec])\n",
        "    features = features.reshape(1, -1)  # Reshape for prediction\n",
        "\n",
        "    # 🔹 **Apply StandardScaler (important!)**\n",
        "    features = scaler.transform(features)\n",
        "\n",
        "    # Predict emotion\n",
        "    predicted_class = np.argmax(model.predict(features))\n",
        "\n",
        "    emotion_map = {0: 'Anger', 1: 'Fear', 2: 'Happy', 3: 'Neutral', 4: 'Sad'}\n",
        "    return emotion_map[predicted_class]\n",
        "\n",
        "# 🔹 **Save the scaler after training (Only once)**\n",
        "import pickle\n",
        "with open(\"scaler.pkl\", \"wb\") as f:\n",
        "    pickle.dump(scaler, f)\n",
        "\n",
        "# 🔹 **Load the scaler before prediction**\n",
        "with open(\"scaler.pkl\", \"rb\") as f:\n",
        "    loaded_scaler = pickle.load(f)\n",
        "\n",
        "# Example usage\n",
        "emotion = predict_emotion(\"/content/drive/MyDrive/round 4 iit hyd/Test_Data/Speaker-7/Neutral/N-10-7-1.wav\", model, loaded_scaler)\n",
        "print(\"Predicted Emotion:\", emotion)\n"
      ],
      "metadata": {
        "colab": {
          "base_uri": "https://localhost:8080/"
        },
        "id": "Dm9Vc0Mb1teZ",
        "outputId": "c90aec77-142b-4882-8a54-bfa36ec6124b"
      },
      "execution_count": null,
      "outputs": [
        {
          "output_type": "stream",
          "name": "stdout",
          "text": [
            "\u001b[1m1/1\u001b[0m \u001b[32m━━━━━━━━━━━━━━━━━━━━\u001b[0m\u001b[37m\u001b[0m \u001b[1m0s\u001b[0m 134ms/step\n",
            "Predicted Emotion: Neutral\n"
          ]
        }
      ]
    },
    {
      "cell_type": "code",
      "source": [
        "emotion = predict_emotion(\"/content/drive/MyDrive/round 4 iit hyd/Indian Emotional Speech Corpora (IESC)/Speaker-1/Sad/S-4-1-2.wav\", model, loaded_scaler)\n",
        "print(\"Predicted Emotion:\", emotion)"
      ],
      "metadata": {
        "colab": {
          "base_uri": "https://localhost:8080/"
        },
        "id": "SZwcA4Xl2YPp",
        "outputId": "304b1ca5-b8bb-453b-8a59-f101528b09bc"
      },
      "execution_count": null,
      "outputs": [
        {
          "output_type": "stream",
          "name": "stdout",
          "text": [
            "\u001b[1m1/1\u001b[0m \u001b[32m━━━━━━━━━━━━━━━━━━━━\u001b[0m\u001b[37m\u001b[0m \u001b[1m0s\u001b[0m 57ms/step\n",
            "Predicted Emotion: Sad\n"
          ]
        }
      ]
    }
  ]
}