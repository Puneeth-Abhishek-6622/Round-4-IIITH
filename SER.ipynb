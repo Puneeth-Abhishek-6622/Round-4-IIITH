{
  "nbformat": 4,
  "nbformat_minor": 0,
  "metadata": {
    "colab": {
      "provenance": [],
      "gpuType": "T4",
      "mount_file_id": "1d4pS6ZgSdMZGPQHcCxCXdTYzE1ObFV5A",
      "authorship_tag": "ABX9TyNd/k9i9WSrEXuNI0+bq7yd",
      "include_colab_link": true
    },
    "kernelspec": {
      "name": "python3",
      "display_name": "Python 3"
    },
    "language_info": {
      "name": "python"
    },
    "accelerator": "GPU"
  },
  "cells": [
    {
      "cell_type": "markdown",
      "metadata": {
        "id": "view-in-github",
        "colab_type": "text"
      },
      "source": [
        "<a href=\"https://colab.research.google.com/github/Puneeth-Abhishek-6622/Round-4-IIITH/blob/main/SER.ipynb\" target=\"_parent\"><img src=\"https://colab.research.google.com/assets/colab-badge.svg\" alt=\"Open In Colab\"/></a>"
      ]
    },
    {
      "cell_type": "code",
      "source": [
        "import os\n",
        "\n",
        "os.listdir(\"/content/drive/MyDrive/round 4 iit hyd/Indian Emotional Speech Corpora (IESC)\")\n",
        "\n",
        "file_path = \"/content/drive/MyDrive/round 4 iit hyd/Indian Emotional Speech Corpora (IESC)\""
      ],
      "metadata": {
        "id": "3RwtdKATNB46"
      },
      "execution_count": 3,
      "outputs": []
    },
    {
      "cell_type": "markdown",
      "source": [
        "Data Loading"
      ],
      "metadata": {
        "id": "DZOE6M-RJ69T"
      }
    },
    {
      "cell_type": "code",
      "source": [
        "!pip install --q librosa\n",
        "!pip install --q mealpy\n",
        "\n",
        "import pandas as pd\n",
        "import numpy as np\n",
        "\n",
        "import os\n",
        "import sys\n",
        "import tensorflow as tf\n",
        "import librosa\n",
        "import librosa.display\n",
        "import seaborn as sns\n",
        "import matplotlib.pyplot as plt\n",
        "\n",
        "from sklearn.preprocessing import StandardScaler, OneHotEncoder, MinMaxScaler\n",
        "from sklearn.metrics import confusion_matrix, classification_report\n",
        "from sklearn.model_selection import train_test_split\n",
        "\n",
        "# to play the audio files\n",
        "from IPython.display import Audio\n",
        "\n",
        "from tensorflow.keras.models import Model\n",
        "from tensorflow.keras.layers import Input, Conv1D, MaxPooling1D, BatchNormalization, Dropout, Bidirectional, LSTM, Dense, Attention, Add, Flatten\n",
        "\n",
        "import warnings\n",
        "if not sys.warnoptions:\n",
        "    warnings.simplefilter(\"ignore\")\n",
        "warnings.filterwarnings(\"ignore\", category=DeprecationWarning)"
      ],
      "metadata": {
        "colab": {
          "base_uri": "https://localhost:8080/"
        },
        "id": "KoemYXbUDs3S",
        "outputId": "70b5bf02-2e0e-419d-90d8-2dfe71580fb1"
      },
      "execution_count": 4,
      "outputs": [
        {
          "output_type": "stream",
          "name": "stdout",
          "text": [
            "\u001b[2K     \u001b[90m━━━━━━━━━━━━━━━━━━━━━━━━━━━━━━━━━━━━━━━━\u001b[0m \u001b[32m104.9/104.9 kB\u001b[0m \u001b[31m2.6 MB/s\u001b[0m eta \u001b[36m0:00:00\u001b[0m\n",
            "\u001b[2K   \u001b[90m━━━━━━━━━━━━━━━━━━━━━━━━━━━━━━━━━━━━━━━━\u001b[0m \u001b[32m386.3/386.3 kB\u001b[0m \u001b[31m10.6 MB/s\u001b[0m eta \u001b[36m0:00:00\u001b[0m\n",
            "\u001b[2K   \u001b[90m━━━━━━━━━━━━━━━━━━━━━━━━━━━━━━━━━━━━━━━━\u001b[0m \u001b[32m13.0/13.0 MB\u001b[0m \u001b[31m81.3 MB/s\u001b[0m eta \u001b[36m0:00:00\u001b[0m\n",
            "\u001b[?25h"
          ]
        }
      ]
    },
    {
      "cell_type": "code",
      "execution_count": 5,
      "metadata": {
        "id": "nTx2EEjcM8Ey"
      },
      "outputs": [],
      "source": [
        "import os\n",
        "import librosa\n",
        "import numpy as np\n",
        "from sklearn.model_selection import train_test_split\n",
        "\n",
        "\n",
        "# Define the base directory\n",
        "base_dir = \"/content/drive/MyDrive/round 4 iit hyd/Indian Emotional Speech Corpora (IESC)\"\n",
        "\n",
        "# Initialize lists to store features and labels\n",
        "features = []\n",
        "labels = []\n",
        "\n",
        "# Emotion mapping (based on folder names)\n",
        "emotion_map = {\n",
        "    'Anger': 0,\n",
        "    'Fear': 1,\n",
        "    'Happy': 2,\n",
        "    'Neutral': 3,\n",
        "    'Sad': 4\n",
        "}\n",
        "\n",
        "\n",
        "def load_data(base_dir):\n",
        "  features = []\n",
        "  labels = []\n",
        "\n",
        "\n",
        "\n",
        "  for speaker in os.listdir(base_dir):\n",
        "    speaker_path = os.path.join(base_dir, speaker)\n",
        "    if os.path.isdir(speaker_path):\n",
        "      for emotion in os.listdir(speaker_path):\n",
        "        emotion_path = os.path.join(speaker_path, emotion)\n",
        "        if os.path.isdir(emotion_path):\n",
        "          for file in os.listdir(emotion_path):\n",
        "            if file.endswith(\".wav\"):\n",
        "              file_path = os.path.join(emotion_path, file )\n",
        "              audio , sr = librosa.load(file_path, sr=16000)\n",
        "              mfccs = librosa.feature.mfcc(y=audio, sr=sr, n_mfcc=13) #exctracting 13 mfcc features per audio file\n",
        "              mfccs_scaled = np.mean(mfccs.T, axis=0)\n",
        "              features.append(mfccs_scaled)\n",
        "              labels.append(emotion_map[emotion])\n",
        "\n",
        "  return np.array(features), np.array(labels)\n",
        "\n",
        "features , labels = load_data(base_dir)\n",
        "\n"
      ]
    },
    {
      "cell_type": "code",
      "source": [
        "print(f\"Features shape: {features.shape}\")\n",
        "print(f\"Labels shape: {labels.shape}\")"
      ],
      "metadata": {
        "colab": {
          "base_uri": "https://localhost:8080/"
        },
        "id": "9aT9Wo0SKEP2",
        "outputId": "e2c2ab9b-e90b-472d-d61b-faa34bc8d96e"
      },
      "execution_count": 6,
      "outputs": [
        {
          "output_type": "stream",
          "name": "stdout",
          "text": [
            "Features shape: (400, 13)\n",
            "Labels shape: (400,)\n"
          ]
        }
      ]
    },
    {
      "cell_type": "code",
      "source": [
        "labels"
      ],
      "metadata": {
        "colab": {
          "base_uri": "https://localhost:8080/"
        },
        "id": "OinLGsWskixL",
        "outputId": "b71fb1f6-3a34-4902-cc9a-b2b38a35394b"
      },
      "execution_count": 7,
      "outputs": [
        {
          "output_type": "execute_result",
          "data": {
            "text/plain": [
              "array([0, 0, 0, 0, 0, 0, 0, 0, 0, 0, 4, 4, 4, 4, 4, 4, 4, 4, 4, 4, 2, 2,\n",
              "       2, 2, 2, 2, 2, 2, 2, 2, 3, 3, 3, 3, 3, 3, 3, 3, 3, 3, 1, 1, 1, 1,\n",
              "       1, 1, 1, 1, 1, 1, 2, 2, 2, 2, 2, 2, 2, 2, 2, 2, 3, 3, 3, 3, 3, 3,\n",
              "       3, 3, 3, 3, 1, 1, 1, 1, 1, 1, 1, 1, 1, 1, 4, 4, 4, 4, 4, 4, 4, 4,\n",
              "       4, 4, 0, 0, 0, 0, 0, 0, 0, 0, 0, 0, 4, 4, 4, 4, 4, 4, 4, 4, 4, 4,\n",
              "       2, 2, 2, 2, 2, 2, 2, 2, 2, 2, 3, 3, 3, 3, 3, 3, 3, 3, 3, 3, 0, 0,\n",
              "       0, 0, 0, 0, 0, 0, 0, 0, 1, 1, 1, 1, 1, 1, 1, 1, 1, 1, 3, 3, 3, 3,\n",
              "       3, 3, 3, 3, 3, 3, 2, 2, 2, 2, 2, 2, 2, 2, 2, 2, 0, 0, 0, 0, 0, 0,\n",
              "       0, 0, 0, 0, 4, 4, 4, 4, 4, 4, 4, 4, 4, 4, 1, 1, 1, 1, 1, 1, 1, 1,\n",
              "       1, 1, 3, 3, 3, 3, 3, 3, 3, 3, 3, 3, 4, 4, 4, 4, 4, 4, 4, 4, 4, 4,\n",
              "       1, 1, 1, 1, 1, 1, 1, 1, 1, 1, 2, 2, 2, 2, 2, 2, 2, 2, 2, 2, 0, 0,\n",
              "       0, 0, 0, 0, 0, 0, 0, 0, 1, 1, 1, 1, 1, 1, 1, 1, 1, 1, 3, 3, 3, 3,\n",
              "       3, 3, 3, 3, 3, 3, 0, 0, 0, 0, 0, 0, 0, 0, 0, 0, 2, 2, 2, 2, 2, 2,\n",
              "       2, 2, 2, 2, 4, 4, 4, 4, 4, 4, 4, 4, 4, 4, 1, 1, 1, 1, 1, 1, 1, 1,\n",
              "       1, 1, 2, 2, 2, 2, 2, 2, 2, 2, 2, 2, 3, 3, 3, 3, 3, 3, 3, 3, 3, 3,\n",
              "       4, 4, 4, 4, 4, 4, 4, 4, 4, 4, 0, 0, 0, 0, 0, 0, 0, 0, 0, 0, 0, 0,\n",
              "       0, 0, 0, 0, 0, 0, 0, 0, 1, 1, 1, 1, 1, 1, 1, 1, 1, 1, 4, 4, 4, 4,\n",
              "       4, 4, 4, 4, 4, 4, 3, 3, 3, 3, 3, 3, 3, 3, 3, 3, 2, 2, 2, 2, 2, 2,\n",
              "       2, 2, 2, 2])"
            ]
          },
          "metadata": {},
          "execution_count": 7
        }
      ]
    },
    {
      "cell_type": "code",
      "source": [
        "features"
      ],
      "metadata": {
        "id": "7zCDVYbuksUc",
        "outputId": "08f44887-37e6-4705-a7a4-109c9be26c82",
        "colab": {
          "base_uri": "https://localhost:8080/"
        }
      },
      "execution_count": 8,
      "outputs": [
        {
          "output_type": "execute_result",
          "data": {
            "text/plain": [
              "array([[-3.0621771e+02,  8.5516487e+01,  3.0160650e+01, ...,\n",
              "         6.4442426e-01, -5.0611115e+00, -3.1091051e+00],\n",
              "       [-3.3568051e+02,  8.0729218e+01,  1.6819489e+01, ...,\n",
              "        -8.3477983e+00, -4.4519138e+00, -2.6075017e+00],\n",
              "       [-3.5301990e+02,  9.3430397e+01,  1.8866234e+01, ...,\n",
              "        -3.6993523e+00, -5.3879542e+00, -7.7816665e-01],\n",
              "       ...,\n",
              "       [-4.4541031e+02,  5.4380569e+01, -8.8644114e+00, ...,\n",
              "         6.8959999e-01, -7.8127265e-01,  7.7538878e-01],\n",
              "       [-3.8323953e+02,  6.8163429e+01, -2.4709684e+01, ...,\n",
              "        -2.2740991e+00, -5.1378542e-01, -2.4373686e+00],\n",
              "       [-4.2844629e+02,  5.6702888e+01, -1.3020896e+01, ...,\n",
              "         3.8860041e-01, -2.9229436e+00,  5.4034686e-01]], dtype=float32)"
            ]
          },
          "metadata": {},
          "execution_count": 8
        }
      ]
    },
    {
      "cell_type": "code",
      "source": [
        "# Print the first few feature vectors and their corresponding labels\n",
        "print(\"First 5 feature vectors:\")\n",
        "for i, feature in enumerate(features[:5]):\n",
        "    print(f\"Sample {i+1}: {feature}\")\n",
        "\n",
        "print(\"\\nFirst 5 labels:\")\n",
        "for i, label in enumerate(labels[:5]):\n",
        "    print(f\"Sample {i+1}: {label}\")\n",
        "\n",
        "# Print the shape of the features and labels arrays\n",
        "print(\"\\nShape of features array:\", features.shape)\n",
        "print(\"Shape of labels array:\", labels.shape)\n",
        "\n",
        "# Print the total number of samples\n",
        "print(\"\\nTotal number of samples:\", len(features))"
      ],
      "metadata": {
        "colab": {
          "base_uri": "https://localhost:8080/"
        },
        "id": "BRgLXTOWKaXu",
        "outputId": "01d1b524-18d0-4a92-fc14-15f11b22d54b"
      },
      "execution_count": 9,
      "outputs": [
        {
          "output_type": "stream",
          "name": "stdout",
          "text": [
            "First 5 feature vectors:\n",
            "Sample 1: [-306.2177       85.51649      30.16065      -6.302739    -15.246192\n",
            "   -6.0267534    -7.8722806    -2.753611     -8.380329    -10.975119\n",
            "    0.64442426   -5.0611115    -3.109105  ]\n",
            "Sample 2: [-335.6805      80.72922     16.819489    -9.078341   -18.069967\n",
            "    1.2159965  -10.459587   -12.095194    -7.467233   -11.835499\n",
            "   -8.347798    -4.451914    -2.6075017]\n",
            "Sample 3: [-3.5301990e+02  9.3430397e+01  1.8866234e+01 -1.2112374e+00\n",
            " -1.7915480e+01 -1.6422543e-01 -5.3342252e+00 -9.6961451e+00\n",
            " -8.5436125e+00 -1.3528460e+01 -3.6993523e+00 -5.3879542e+00\n",
            " -7.7816665e-01]\n",
            "Sample 4: [-319.85968     91.205795    31.72871    -11.441105   -10.554805\n",
            "   -6.3713827   -5.126802     2.7696571  -14.428244    -2.8062618\n",
            "   -3.2250643   -8.428303     1.5278311]\n",
            "Sample 5: [-350.66788     78.844505    18.476913    -3.5592332  -22.87352\n",
            "    1.6242903   -1.1588868   -9.210607   -18.592836    -2.5403836\n",
            "   -4.3601594   -7.0314794    4.5899773]\n",
            "\n",
            "First 5 labels:\n",
            "Sample 1: 0\n",
            "Sample 2: 0\n",
            "Sample 3: 0\n",
            "Sample 4: 0\n",
            "Sample 5: 0\n",
            "\n",
            "Shape of features array: (400, 13)\n",
            "Shape of labels array: (400,)\n",
            "\n",
            "Total number of samples: 400\n"
          ]
        }
      ]
    },
    {
      "cell_type": "code",
      "source": [
        "import pandas as pd\n",
        "\n",
        "# Convert features into a DataFrame\n",
        "df = pd.DataFrame(features)\n",
        "\n",
        "# Add a column for labels\n",
        "df['label'] = labels\n",
        "\n",
        "# Display first few rows\n",
        "print(df.head())\n",
        "\n",
        "# Save the DataFrame as a CSV file (optional)\n",
        "df.to_csv(\"emotion_features.csv\", index=False)\n"
      ],
      "metadata": {
        "colab": {
          "base_uri": "https://localhost:8080/"
        },
        "id": "Iti09AsWbrEF",
        "outputId": "a5a205ae-9eda-4b40-e205-c3133fdf730d"
      },
      "execution_count": 10,
      "outputs": [
        {
          "output_type": "stream",
          "name": "stdout",
          "text": [
            "            0          1          2          3          4         5  \\\n",
            "0 -306.217712  85.516487  30.160650  -6.302739 -15.246192 -6.026753   \n",
            "1 -335.680511  80.729218  16.819489  -9.078341 -18.069967  1.215997   \n",
            "2 -353.019897  93.430397  18.866234  -1.211237 -17.915480 -0.164225   \n",
            "3 -319.859680  91.205795  31.728710 -11.441105 -10.554805 -6.371383   \n",
            "4 -350.667877  78.844505  18.476913  -3.559233 -22.873520  1.624290   \n",
            "\n",
            "           6          7          8          9        10        11        12  \\\n",
            "0  -7.872281  -2.753611  -8.380329 -10.975119  0.644424 -5.061111 -3.109105   \n",
            "1 -10.459587 -12.095194  -7.467233 -11.835499 -8.347798 -4.451914 -2.607502   \n",
            "2  -5.334225  -9.696145  -8.543612 -13.528460 -3.699352 -5.387954 -0.778167   \n",
            "3  -5.126802   2.769657 -14.428244  -2.806262 -3.225064 -8.428303  1.527831   \n",
            "4  -1.158887  -9.210607 -18.592836  -2.540384 -4.360159 -7.031479  4.589977   \n",
            "\n",
            "   label  \n",
            "0      0  \n",
            "1      0  \n",
            "2      0  \n",
            "3      0  \n",
            "4      0  \n"
          ]
        }
      ]
    },
    {
      "cell_type": "code",
      "source": [
        "# Create a DataFrame\n",
        "df = pd.DataFrame(features)\n",
        "df['label'] = labels\n",
        "\n",
        "# Count samples per emotion\n",
        "emotion_counts = pd.Series(labels).value_counts()\n",
        "\n",
        "# Convert to DataFrame for better display\n",
        "emotion_counts_df = pd.DataFrame({'Emotion': [k for k in emotion_map.keys()], 'Number of Samples': emotion_counts})\n",
        "print(emotion_counts_df)\n"
      ],
      "metadata": {
        "colab": {
          "base_uri": "https://localhost:8080/"
        },
        "id": "FD-MUXCQj34n",
        "outputId": "7d868a78-f764-4896-e358-bf9d1aed9bf0"
      },
      "execution_count": 11,
      "outputs": [
        {
          "output_type": "stream",
          "name": "stdout",
          "text": [
            "   Emotion  Number of Samples\n",
            "0    Anger                 80\n",
            "4     Fear                 80\n",
            "2    Happy                 80\n",
            "3  Neutral                 80\n",
            "1      Sad                 80\n"
          ]
        }
      ]
    },
    {
      "cell_type": "markdown",
      "source": [
        "Handling imbalences in the data and adding it into a new test_data folder\n"
      ],
      "metadata": {
        "id": "29jd8R_4J2Ki"
      }
    },
    {
      "cell_type": "code",
      "source": [
        "# import os\n",
        "# import shutil\n",
        "\n",
        "# # Define the base directory\n",
        "# base_dir = \"/content/drive/MyDrive/round 4 iit hyd/Indian Emotional Speech Corpora (IESC)\"\n",
        "\n",
        "# # Define the test directory (where the moved files will go)\n",
        "# test_dir = os.path.join(base_dir, \"Test_Data\")\n",
        "\n",
        "# # Create the test directory if it doesn't exist\n",
        "# if not os.path.exists(test_dir):\n",
        "#     os.makedirs(test_dir)\n",
        "\n",
        "# # Define the number of samples to move from each emotion folder\n",
        "# samples_to_move = 10\n",
        "\n",
        "# # Loop through speakers 5 to 8\n",
        "# for speaker in range(5, 9):\n",
        "#     speaker_folder = os.path.join(base_dir, f\"Speaker-{speaker}\")  # Updated folder name format\n",
        "#     if os.path.exists(speaker_folder):\n",
        "#         # Loop through each emotion folder\n",
        "#         for emotion in os.listdir(speaker_folder):\n",
        "#             emotion_folder = os.path.join(speaker_folder, emotion)\n",
        "#             if os.path.isdir(emotion_folder):\n",
        "#                 # Get a list of all .wav files in the emotion folder\n",
        "#                 audio_files = [f for f in os.listdir(emotion_folder) if f.endswith('.wav')]\n",
        "\n",
        "#                 # Sort files based on the sample number (2nd part of the filename)\n",
        "#                 audio_files.sort(key=lambda x: int(x.split('-')[1]))\n",
        "\n",
        "#                 # Select the last 10 files (highest sample numbers)\n",
        "#                 files_to_move = audio_files[-samples_to_move:]\n",
        "\n",
        "#                 # Move the selected files to the test directory\n",
        "#                 for file in files_to_move:\n",
        "#                     src_path = os.path.join(emotion_folder, file)\n",
        "#                     dest_path = os.path.join(test_dir, file)\n",
        "#                     shutil.move(src_path, dest_path)\n",
        "#                     print(f\"Moved: {file} from {emotion_folder} to {test_dir}\")\n",
        "\n",
        "# print(\"Done moving files!\")"
      ],
      "metadata": {
        "id": "wgSFL8jiImYw"
      },
      "execution_count": 12,
      "outputs": []
    },
    {
      "cell_type": "markdown",
      "source": [
        "Reorganizing the test folder also with the same architecture"
      ],
      "metadata": {
        "id": "0dKUHatqa2fd"
      }
    },
    {
      "cell_type": "code",
      "source": [
        "# import os\n",
        "# import shutil\n",
        "\n",
        "# # Define the test directory\n",
        "# test_dir = \"/content/drive/MyDrive/round 4 iit hyd/Indian Emotional Speech Corpora (IESC)/Test_Data\"\n",
        "\n",
        "# # Loop through all files in the Test_Data folder\n",
        "# for file in os.listdir(test_dir):\n",
        "#     if file.endswith('.wav'):\n",
        "#         # Extract speaker and emotion from the filename\n",
        "#         parts = file.split('-')\n",
        "#         emotion_code = parts[0]  # First part: emotion code (A, S, H, F, N)\n",
        "#         speaker_number = parts[2]  # Third part: speaker number\n",
        "\n",
        "#         # Map emotion code to emotion name\n",
        "#         emotion_map = {'A': 'Angry', 'S': 'Sad', 'H': 'Happy', 'F': 'Fear', 'N': 'Neutral'}\n",
        "#         emotion_name = emotion_map[emotion_code]\n",
        "\n",
        "#         # Create speaker folder if it doesn't exist\n",
        "#         speaker_folder = os.path.join(test_dir, f\"Speaker-{speaker_number}\")\n",
        "#         if not os.path.exists(speaker_folder):\n",
        "#             os.makedirs(speaker_folder)\n",
        "\n",
        "#         # Create emotion folder inside the speaker folder if it doesn't exist\n",
        "#         emotion_folder = os.path.join(speaker_folder, emotion_name)\n",
        "#         if not os.path.exists(emotion_folder):\n",
        "#             os.makedirs(emotion_folder)\n",
        "\n",
        "#         # Move the file to the appropriate emotion folder\n",
        "#         src_path = os.path.join(test_dir, file)\n",
        "#         dest_path = os.path.join(emotion_folder, file)\n",
        "#         shutil.move(src_path, dest_path)\n",
        "#         print(f\"Moved: {file} to {dest_path}\")\n",
        "\n",
        "# print(\"Done organizing test data!\")"
      ],
      "metadata": {
        "id": "YKBssNu4Tks0"
      },
      "execution_count": 13,
      "outputs": []
    },
    {
      "cell_type": "markdown",
      "source": [
        "Training the model"
      ],
      "metadata": {
        "id": "AQbmf6EauUk-"
      }
    },
    {
      "cell_type": "markdown",
      "source": [
        "Loading and preprocessing the data"
      ],
      "metadata": {
        "id": "ivQJ15pOugB4"
      }
    },
    {
      "cell_type": "code",
      "source": [
        "import pandas as pd\n",
        "\n",
        "# Convert features and labels into a DataFrame\n",
        "df = pd.DataFrame(features)\n",
        "\n",
        "# Add the labels column\n",
        "df['label'] = labels\n",
        "\n",
        "# Display first few rows\n",
        "\n",
        "print(\"\\n\")\n",
        "\n",
        "print(df['label'].value_counts())\n",
        "\n",
        "df.head()"
      ],
      "metadata": {
        "id": "rAsb_IaMupiI",
        "colab": {
          "base_uri": "https://localhost:8080/",
          "height": 370
        },
        "outputId": "6da85e1d-f827-40b8-b7f0-a853796aac7a"
      },
      "execution_count": 14,
      "outputs": [
        {
          "output_type": "stream",
          "name": "stdout",
          "text": [
            "\n",
            "\n",
            "label\n",
            "0    80\n",
            "4    80\n",
            "2    80\n",
            "3    80\n",
            "1    80\n",
            "Name: count, dtype: int64\n"
          ]
        },
        {
          "output_type": "execute_result",
          "data": {
            "text/plain": [
              "            0          1          2          3          4         5  \\\n",
              "0 -306.217712  85.516487  30.160650  -6.302739 -15.246192 -6.026753   \n",
              "1 -335.680511  80.729218  16.819489  -9.078341 -18.069967  1.215997   \n",
              "2 -353.019897  93.430397  18.866234  -1.211237 -17.915480 -0.164225   \n",
              "3 -319.859680  91.205795  31.728710 -11.441105 -10.554805 -6.371383   \n",
              "4 -350.667877  78.844505  18.476913  -3.559233 -22.873520  1.624290   \n",
              "\n",
              "           6          7          8          9        10        11        12  \\\n",
              "0  -7.872281  -2.753611  -8.380329 -10.975119  0.644424 -5.061111 -3.109105   \n",
              "1 -10.459587 -12.095194  -7.467233 -11.835499 -8.347798 -4.451914 -2.607502   \n",
              "2  -5.334225  -9.696145  -8.543612 -13.528460 -3.699352 -5.387954 -0.778167   \n",
              "3  -5.126802   2.769657 -14.428244  -2.806262 -3.225064 -8.428303  1.527831   \n",
              "4  -1.158887  -9.210607 -18.592836  -2.540384 -4.360159 -7.031479  4.589977   \n",
              "\n",
              "   label  \n",
              "0      0  \n",
              "1      0  \n",
              "2      0  \n",
              "3      0  \n",
              "4      0  "
            ],
            "text/html": [
              "\n",
              "  <div id=\"df-0f7bf4f9-6b36-4fe0-a3bf-9b59624daea0\" class=\"colab-df-container\">\n",
              "    <div>\n",
              "<style scoped>\n",
              "    .dataframe tbody tr th:only-of-type {\n",
              "        vertical-align: middle;\n",
              "    }\n",
              "\n",
              "    .dataframe tbody tr th {\n",
              "        vertical-align: top;\n",
              "    }\n",
              "\n",
              "    .dataframe thead th {\n",
              "        text-align: right;\n",
              "    }\n",
              "</style>\n",
              "<table border=\"1\" class=\"dataframe\">\n",
              "  <thead>\n",
              "    <tr style=\"text-align: right;\">\n",
              "      <th></th>\n",
              "      <th>0</th>\n",
              "      <th>1</th>\n",
              "      <th>2</th>\n",
              "      <th>3</th>\n",
              "      <th>4</th>\n",
              "      <th>5</th>\n",
              "      <th>6</th>\n",
              "      <th>7</th>\n",
              "      <th>8</th>\n",
              "      <th>9</th>\n",
              "      <th>10</th>\n",
              "      <th>11</th>\n",
              "      <th>12</th>\n",
              "      <th>label</th>\n",
              "    </tr>\n",
              "  </thead>\n",
              "  <tbody>\n",
              "    <tr>\n",
              "      <th>0</th>\n",
              "      <td>-306.217712</td>\n",
              "      <td>85.516487</td>\n",
              "      <td>30.160650</td>\n",
              "      <td>-6.302739</td>\n",
              "      <td>-15.246192</td>\n",
              "      <td>-6.026753</td>\n",
              "      <td>-7.872281</td>\n",
              "      <td>-2.753611</td>\n",
              "      <td>-8.380329</td>\n",
              "      <td>-10.975119</td>\n",
              "      <td>0.644424</td>\n",
              "      <td>-5.061111</td>\n",
              "      <td>-3.109105</td>\n",
              "      <td>0</td>\n",
              "    </tr>\n",
              "    <tr>\n",
              "      <th>1</th>\n",
              "      <td>-335.680511</td>\n",
              "      <td>80.729218</td>\n",
              "      <td>16.819489</td>\n",
              "      <td>-9.078341</td>\n",
              "      <td>-18.069967</td>\n",
              "      <td>1.215997</td>\n",
              "      <td>-10.459587</td>\n",
              "      <td>-12.095194</td>\n",
              "      <td>-7.467233</td>\n",
              "      <td>-11.835499</td>\n",
              "      <td>-8.347798</td>\n",
              "      <td>-4.451914</td>\n",
              "      <td>-2.607502</td>\n",
              "      <td>0</td>\n",
              "    </tr>\n",
              "    <tr>\n",
              "      <th>2</th>\n",
              "      <td>-353.019897</td>\n",
              "      <td>93.430397</td>\n",
              "      <td>18.866234</td>\n",
              "      <td>-1.211237</td>\n",
              "      <td>-17.915480</td>\n",
              "      <td>-0.164225</td>\n",
              "      <td>-5.334225</td>\n",
              "      <td>-9.696145</td>\n",
              "      <td>-8.543612</td>\n",
              "      <td>-13.528460</td>\n",
              "      <td>-3.699352</td>\n",
              "      <td>-5.387954</td>\n",
              "      <td>-0.778167</td>\n",
              "      <td>0</td>\n",
              "    </tr>\n",
              "    <tr>\n",
              "      <th>3</th>\n",
              "      <td>-319.859680</td>\n",
              "      <td>91.205795</td>\n",
              "      <td>31.728710</td>\n",
              "      <td>-11.441105</td>\n",
              "      <td>-10.554805</td>\n",
              "      <td>-6.371383</td>\n",
              "      <td>-5.126802</td>\n",
              "      <td>2.769657</td>\n",
              "      <td>-14.428244</td>\n",
              "      <td>-2.806262</td>\n",
              "      <td>-3.225064</td>\n",
              "      <td>-8.428303</td>\n",
              "      <td>1.527831</td>\n",
              "      <td>0</td>\n",
              "    </tr>\n",
              "    <tr>\n",
              "      <th>4</th>\n",
              "      <td>-350.667877</td>\n",
              "      <td>78.844505</td>\n",
              "      <td>18.476913</td>\n",
              "      <td>-3.559233</td>\n",
              "      <td>-22.873520</td>\n",
              "      <td>1.624290</td>\n",
              "      <td>-1.158887</td>\n",
              "      <td>-9.210607</td>\n",
              "      <td>-18.592836</td>\n",
              "      <td>-2.540384</td>\n",
              "      <td>-4.360159</td>\n",
              "      <td>-7.031479</td>\n",
              "      <td>4.589977</td>\n",
              "      <td>0</td>\n",
              "    </tr>\n",
              "  </tbody>\n",
              "</table>\n",
              "</div>\n",
              "    <div class=\"colab-df-buttons\">\n",
              "\n",
              "  <div class=\"colab-df-container\">\n",
              "    <button class=\"colab-df-convert\" onclick=\"convertToInteractive('df-0f7bf4f9-6b36-4fe0-a3bf-9b59624daea0')\"\n",
              "            title=\"Convert this dataframe to an interactive table.\"\n",
              "            style=\"display:none;\">\n",
              "\n",
              "  <svg xmlns=\"http://www.w3.org/2000/svg\" height=\"24px\" viewBox=\"0 -960 960 960\">\n",
              "    <path d=\"M120-120v-720h720v720H120Zm60-500h600v-160H180v160Zm220 220h160v-160H400v160Zm0 220h160v-160H400v160ZM180-400h160v-160H180v160Zm440 0h160v-160H620v160ZM180-180h160v-160H180v160Zm440 0h160v-160H620v160Z\"/>\n",
              "  </svg>\n",
              "    </button>\n",
              "\n",
              "  <style>\n",
              "    .colab-df-container {\n",
              "      display:flex;\n",
              "      gap: 12px;\n",
              "    }\n",
              "\n",
              "    .colab-df-convert {\n",
              "      background-color: #E8F0FE;\n",
              "      border: none;\n",
              "      border-radius: 50%;\n",
              "      cursor: pointer;\n",
              "      display: none;\n",
              "      fill: #1967D2;\n",
              "      height: 32px;\n",
              "      padding: 0 0 0 0;\n",
              "      width: 32px;\n",
              "    }\n",
              "\n",
              "    .colab-df-convert:hover {\n",
              "      background-color: #E2EBFA;\n",
              "      box-shadow: 0px 1px 2px rgba(60, 64, 67, 0.3), 0px 1px 3px 1px rgba(60, 64, 67, 0.15);\n",
              "      fill: #174EA6;\n",
              "    }\n",
              "\n",
              "    .colab-df-buttons div {\n",
              "      margin-bottom: 4px;\n",
              "    }\n",
              "\n",
              "    [theme=dark] .colab-df-convert {\n",
              "      background-color: #3B4455;\n",
              "      fill: #D2E3FC;\n",
              "    }\n",
              "\n",
              "    [theme=dark] .colab-df-convert:hover {\n",
              "      background-color: #434B5C;\n",
              "      box-shadow: 0px 1px 3px 1px rgba(0, 0, 0, 0.15);\n",
              "      filter: drop-shadow(0px 1px 2px rgba(0, 0, 0, 0.3));\n",
              "      fill: #FFFFFF;\n",
              "    }\n",
              "  </style>\n",
              "\n",
              "    <script>\n",
              "      const buttonEl =\n",
              "        document.querySelector('#df-0f7bf4f9-6b36-4fe0-a3bf-9b59624daea0 button.colab-df-convert');\n",
              "      buttonEl.style.display =\n",
              "        google.colab.kernel.accessAllowed ? 'block' : 'none';\n",
              "\n",
              "      async function convertToInteractive(key) {\n",
              "        const element = document.querySelector('#df-0f7bf4f9-6b36-4fe0-a3bf-9b59624daea0');\n",
              "        const dataTable =\n",
              "          await google.colab.kernel.invokeFunction('convertToInteractive',\n",
              "                                                    [key], {});\n",
              "        if (!dataTable) return;\n",
              "\n",
              "        const docLinkHtml = 'Like what you see? Visit the ' +\n",
              "          '<a target=\"_blank\" href=https://colab.research.google.com/notebooks/data_table.ipynb>data table notebook</a>'\n",
              "          + ' to learn more about interactive tables.';\n",
              "        element.innerHTML = '';\n",
              "        dataTable['output_type'] = 'display_data';\n",
              "        await google.colab.output.renderOutput(dataTable, element);\n",
              "        const docLink = document.createElement('div');\n",
              "        docLink.innerHTML = docLinkHtml;\n",
              "        element.appendChild(docLink);\n",
              "      }\n",
              "    </script>\n",
              "  </div>\n",
              "\n",
              "\n",
              "<div id=\"df-68ecd722-c77c-40e5-9f3b-97fe8e987baa\">\n",
              "  <button class=\"colab-df-quickchart\" onclick=\"quickchart('df-68ecd722-c77c-40e5-9f3b-97fe8e987baa')\"\n",
              "            title=\"Suggest charts\"\n",
              "            style=\"display:none;\">\n",
              "\n",
              "<svg xmlns=\"http://www.w3.org/2000/svg\" height=\"24px\"viewBox=\"0 0 24 24\"\n",
              "     width=\"24px\">\n",
              "    <g>\n",
              "        <path d=\"M19 3H5c-1.1 0-2 .9-2 2v14c0 1.1.9 2 2 2h14c1.1 0 2-.9 2-2V5c0-1.1-.9-2-2-2zM9 17H7v-7h2v7zm4 0h-2V7h2v10zm4 0h-2v-4h2v4z\"/>\n",
              "    </g>\n",
              "</svg>\n",
              "  </button>\n",
              "\n",
              "<style>\n",
              "  .colab-df-quickchart {\n",
              "      --bg-color: #E8F0FE;\n",
              "      --fill-color: #1967D2;\n",
              "      --hover-bg-color: #E2EBFA;\n",
              "      --hover-fill-color: #174EA6;\n",
              "      --disabled-fill-color: #AAA;\n",
              "      --disabled-bg-color: #DDD;\n",
              "  }\n",
              "\n",
              "  [theme=dark] .colab-df-quickchart {\n",
              "      --bg-color: #3B4455;\n",
              "      --fill-color: #D2E3FC;\n",
              "      --hover-bg-color: #434B5C;\n",
              "      --hover-fill-color: #FFFFFF;\n",
              "      --disabled-bg-color: #3B4455;\n",
              "      --disabled-fill-color: #666;\n",
              "  }\n",
              "\n",
              "  .colab-df-quickchart {\n",
              "    background-color: var(--bg-color);\n",
              "    border: none;\n",
              "    border-radius: 50%;\n",
              "    cursor: pointer;\n",
              "    display: none;\n",
              "    fill: var(--fill-color);\n",
              "    height: 32px;\n",
              "    padding: 0;\n",
              "    width: 32px;\n",
              "  }\n",
              "\n",
              "  .colab-df-quickchart:hover {\n",
              "    background-color: var(--hover-bg-color);\n",
              "    box-shadow: 0 1px 2px rgba(60, 64, 67, 0.3), 0 1px 3px 1px rgba(60, 64, 67, 0.15);\n",
              "    fill: var(--button-hover-fill-color);\n",
              "  }\n",
              "\n",
              "  .colab-df-quickchart-complete:disabled,\n",
              "  .colab-df-quickchart-complete:disabled:hover {\n",
              "    background-color: var(--disabled-bg-color);\n",
              "    fill: var(--disabled-fill-color);\n",
              "    box-shadow: none;\n",
              "  }\n",
              "\n",
              "  .colab-df-spinner {\n",
              "    border: 2px solid var(--fill-color);\n",
              "    border-color: transparent;\n",
              "    border-bottom-color: var(--fill-color);\n",
              "    animation:\n",
              "      spin 1s steps(1) infinite;\n",
              "  }\n",
              "\n",
              "  @keyframes spin {\n",
              "    0% {\n",
              "      border-color: transparent;\n",
              "      border-bottom-color: var(--fill-color);\n",
              "      border-left-color: var(--fill-color);\n",
              "    }\n",
              "    20% {\n",
              "      border-color: transparent;\n",
              "      border-left-color: var(--fill-color);\n",
              "      border-top-color: var(--fill-color);\n",
              "    }\n",
              "    30% {\n",
              "      border-color: transparent;\n",
              "      border-left-color: var(--fill-color);\n",
              "      border-top-color: var(--fill-color);\n",
              "      border-right-color: var(--fill-color);\n",
              "    }\n",
              "    40% {\n",
              "      border-color: transparent;\n",
              "      border-right-color: var(--fill-color);\n",
              "      border-top-color: var(--fill-color);\n",
              "    }\n",
              "    60% {\n",
              "      border-color: transparent;\n",
              "      border-right-color: var(--fill-color);\n",
              "    }\n",
              "    80% {\n",
              "      border-color: transparent;\n",
              "      border-right-color: var(--fill-color);\n",
              "      border-bottom-color: var(--fill-color);\n",
              "    }\n",
              "    90% {\n",
              "      border-color: transparent;\n",
              "      border-bottom-color: var(--fill-color);\n",
              "    }\n",
              "  }\n",
              "</style>\n",
              "\n",
              "  <script>\n",
              "    async function quickchart(key) {\n",
              "      const quickchartButtonEl =\n",
              "        document.querySelector('#' + key + ' button');\n",
              "      quickchartButtonEl.disabled = true;  // To prevent multiple clicks.\n",
              "      quickchartButtonEl.classList.add('colab-df-spinner');\n",
              "      try {\n",
              "        const charts = await google.colab.kernel.invokeFunction(\n",
              "            'suggestCharts', [key], {});\n",
              "      } catch (error) {\n",
              "        console.error('Error during call to suggestCharts:', error);\n",
              "      }\n",
              "      quickchartButtonEl.classList.remove('colab-df-spinner');\n",
              "      quickchartButtonEl.classList.add('colab-df-quickchart-complete');\n",
              "    }\n",
              "    (() => {\n",
              "      let quickchartButtonEl =\n",
              "        document.querySelector('#df-68ecd722-c77c-40e5-9f3b-97fe8e987baa button');\n",
              "      quickchartButtonEl.style.display =\n",
              "        google.colab.kernel.accessAllowed ? 'block' : 'none';\n",
              "    })();\n",
              "  </script>\n",
              "</div>\n",
              "\n",
              "    </div>\n",
              "  </div>\n"
            ],
            "application/vnd.google.colaboratory.intrinsic+json": {
              "type": "dataframe",
              "variable_name": "df",
              "summary": "{\n  \"name\": \"df\",\n  \"rows\": 400,\n  \"fields\": [\n    {\n      \"column\": 0,\n      \"properties\": {\n        \"dtype\": \"float32\",\n        \"num_unique_values\": 399,\n        \"samples\": [\n          -376.170654296875,\n          -467.344970703125,\n          -493.8448181152344\n        ],\n        \"semantic_type\": \"\",\n        \"description\": \"\"\n      }\n    },\n    {\n      \"column\": 1,\n      \"properties\": {\n        \"dtype\": \"float32\",\n        \"num_unique_values\": 399,\n        \"samples\": [\n          63.96293258666992,\n          36.53834915161133,\n          113.78717803955078\n        ],\n        \"semantic_type\": \"\",\n        \"description\": \"\"\n      }\n    },\n    {\n      \"column\": 2,\n      \"properties\": {\n        \"dtype\": \"float32\",\n        \"num_unique_values\": 399,\n        \"samples\": [\n          -12.778404235839844,\n          -19.6081600189209,\n          16.13269805908203\n        ],\n        \"semantic_type\": \"\",\n        \"description\": \"\"\n      }\n    },\n    {\n      \"column\": 3,\n      \"properties\": {\n        \"dtype\": \"float32\",\n        \"num_unique_values\": 399,\n        \"samples\": [\n          -26.703107833862305,\n          13.468127250671387,\n          28.90425682067871\n        ],\n        \"semantic_type\": \"\",\n        \"description\": \"\"\n      }\n    },\n    {\n      \"column\": 4,\n      \"properties\": {\n        \"dtype\": \"float32\",\n        \"num_unique_values\": 399,\n        \"samples\": [\n          -30.061670303344727,\n          -9.721914291381836,\n          -13.465011596679688\n        ],\n        \"semantic_type\": \"\",\n        \"description\": \"\"\n      }\n    },\n    {\n      \"column\": 5,\n      \"properties\": {\n        \"dtype\": \"float32\",\n        \"num_unique_values\": 399,\n        \"samples\": [\n          -20.84067153930664,\n          -5.1890764236450195,\n          6.713771820068359\n        ],\n        \"semantic_type\": \"\",\n        \"description\": \"\"\n      }\n    },\n    {\n      \"column\": 6,\n      \"properties\": {\n        \"dtype\": \"float32\",\n        \"num_unique_values\": 399,\n        \"samples\": [\n          -23.087772369384766,\n          -4.338511943817139,\n          -3.8006973266601562\n        ],\n        \"semantic_type\": \"\",\n        \"description\": \"\"\n      }\n    },\n    {\n      \"column\": 7,\n      \"properties\": {\n        \"dtype\": \"float32\",\n        \"num_unique_values\": 399,\n        \"samples\": [\n          -29.040321350097656,\n          -8.499618530273438,\n          -14.893245697021484\n        ],\n        \"semantic_type\": \"\",\n        \"description\": \"\"\n      }\n    },\n    {\n      \"column\": 8,\n      \"properties\": {\n        \"dtype\": \"float32\",\n        \"num_unique_values\": 399,\n        \"samples\": [\n          -24.129867553710938,\n          -1.1915446519851685,\n          6.6405510902404785\n        ],\n        \"semantic_type\": \"\",\n        \"description\": \"\"\n      }\n    },\n    {\n      \"column\": 9,\n      \"properties\": {\n        \"dtype\": \"float32\",\n        \"num_unique_values\": 399,\n        \"samples\": [\n          -19.094282150268555,\n          -2.564959764480591,\n          -3.0431723594665527\n        ],\n        \"semantic_type\": \"\",\n        \"description\": \"\"\n      }\n    },\n    {\n      \"column\": 10,\n      \"properties\": {\n        \"dtype\": \"float32\",\n        \"num_unique_values\": 399,\n        \"samples\": [\n          -13.389504432678223,\n          -0.7786431312561035,\n          -1.7780297994613647\n        ],\n        \"semantic_type\": \"\",\n        \"description\": \"\"\n      }\n    },\n    {\n      \"column\": 11,\n      \"properties\": {\n        \"dtype\": \"float32\",\n        \"num_unique_values\": 399,\n        \"samples\": [\n          -16.30906105041504,\n          -1.0162914991378784,\n          6.56492280960083\n        ],\n        \"semantic_type\": \"\",\n        \"description\": \"\"\n      }\n    },\n    {\n      \"column\": 12,\n      \"properties\": {\n        \"dtype\": \"float32\",\n        \"num_unique_values\": 399,\n        \"samples\": [\n          -4.739772796630859,\n          -4.015722274780273,\n          3.2474942207336426\n        ],\n        \"semantic_type\": \"\",\n        \"description\": \"\"\n      }\n    },\n    {\n      \"column\": \"label\",\n      \"properties\": {\n        \"dtype\": \"number\",\n        \"std\": 1,\n        \"min\": 0,\n        \"max\": 4,\n        \"num_unique_values\": 5,\n        \"samples\": [\n          4,\n          1,\n          2\n        ],\n        \"semantic_type\": \"\",\n        \"description\": \"\"\n      }\n    }\n  ]\n}"
            }
          },
          "metadata": {},
          "execution_count": 14
        }
      ]
    },
    {
      "cell_type": "code",
      "source": [
        "#This ensures all features have a mean of 0 and a standard deviation of 1, making training more stable.\n",
        "\n",
        "from sklearn.preprocessing import StandardScaler\n",
        "\n",
        "scaler = StandardScaler()\n",
        "features_scaled = scaler.fit_transform(df.iloc[:, :-1])  # Normalize only feature columns\n",
        "\n",
        "# Convert back to DataFrame\n",
        "df_scaled = pd.DataFrame(features_scaled)\n",
        "df_scaled['label'] = df['label']\n",
        "\n",
        "df_scaled.head()"
      ],
      "metadata": {
        "colab": {
          "base_uri": "https://localhost:8080/",
          "height": 206
        },
        "id": "xDqo5Ek7LZv7",
        "outputId": "7551fe82-e7f1-4e68-8f60-11f0b60d8a2b"
      },
      "execution_count": 31,
      "outputs": [
        {
          "output_type": "execute_result",
          "data": {
            "text/plain": [
              "          0         1         2         3         4         5         6  \\\n",
              "0  1.153807  0.094064  0.981764 -0.769187 -0.917453  0.072794  0.555671   \n",
              "1  0.728418 -0.064383  0.394961 -0.904987 -1.186541  0.624949  0.318791   \n",
              "2  0.478069  0.355997  0.484986 -0.520078 -1.171820  0.519727  0.788042   \n",
              "3  0.956842  0.282367  1.050734 -1.020589 -0.470394  0.046521  0.807032   \n",
              "4  0.512028 -0.126763  0.467862 -0.634957 -1.644289  0.656075  1.170313   \n",
              "\n",
              "          7         8         9        10        11        12  label  \n",
              "0  0.733831  0.285873 -0.422913  1.006160  0.126218  0.036263      0  \n",
              "1 -0.025188  0.365926 -0.530094 -0.093428  0.192144  0.124126      0  \n",
              "2  0.169739  0.271557 -0.740992  0.474994  0.090848  0.444559      0  \n",
              "3  1.182605 -0.244362  0.594712  0.532991 -0.238170  0.848486      0  \n",
              "4  0.209190 -0.609481  0.627834  0.394189 -0.087010  1.384863      0  "
            ],
            "text/html": [
              "\n",
              "  <div id=\"df-42321313-75b9-4add-b484-bb58974f6963\" class=\"colab-df-container\">\n",
              "    <div>\n",
              "<style scoped>\n",
              "    .dataframe tbody tr th:only-of-type {\n",
              "        vertical-align: middle;\n",
              "    }\n",
              "\n",
              "    .dataframe tbody tr th {\n",
              "        vertical-align: top;\n",
              "    }\n",
              "\n",
              "    .dataframe thead th {\n",
              "        text-align: right;\n",
              "    }\n",
              "</style>\n",
              "<table border=\"1\" class=\"dataframe\">\n",
              "  <thead>\n",
              "    <tr style=\"text-align: right;\">\n",
              "      <th></th>\n",
              "      <th>0</th>\n",
              "      <th>1</th>\n",
              "      <th>2</th>\n",
              "      <th>3</th>\n",
              "      <th>4</th>\n",
              "      <th>5</th>\n",
              "      <th>6</th>\n",
              "      <th>7</th>\n",
              "      <th>8</th>\n",
              "      <th>9</th>\n",
              "      <th>10</th>\n",
              "      <th>11</th>\n",
              "      <th>12</th>\n",
              "      <th>label</th>\n",
              "    </tr>\n",
              "  </thead>\n",
              "  <tbody>\n",
              "    <tr>\n",
              "      <th>0</th>\n",
              "      <td>1.153807</td>\n",
              "      <td>0.094064</td>\n",
              "      <td>0.981764</td>\n",
              "      <td>-0.769187</td>\n",
              "      <td>-0.917453</td>\n",
              "      <td>0.072794</td>\n",
              "      <td>0.555671</td>\n",
              "      <td>0.733831</td>\n",
              "      <td>0.285873</td>\n",
              "      <td>-0.422913</td>\n",
              "      <td>1.006160</td>\n",
              "      <td>0.126218</td>\n",
              "      <td>0.036263</td>\n",
              "      <td>0</td>\n",
              "    </tr>\n",
              "    <tr>\n",
              "      <th>1</th>\n",
              "      <td>0.728418</td>\n",
              "      <td>-0.064383</td>\n",
              "      <td>0.394961</td>\n",
              "      <td>-0.904987</td>\n",
              "      <td>-1.186541</td>\n",
              "      <td>0.624949</td>\n",
              "      <td>0.318791</td>\n",
              "      <td>-0.025188</td>\n",
              "      <td>0.365926</td>\n",
              "      <td>-0.530094</td>\n",
              "      <td>-0.093428</td>\n",
              "      <td>0.192144</td>\n",
              "      <td>0.124126</td>\n",
              "      <td>0</td>\n",
              "    </tr>\n",
              "    <tr>\n",
              "      <th>2</th>\n",
              "      <td>0.478069</td>\n",
              "      <td>0.355997</td>\n",
              "      <td>0.484986</td>\n",
              "      <td>-0.520078</td>\n",
              "      <td>-1.171820</td>\n",
              "      <td>0.519727</td>\n",
              "      <td>0.788042</td>\n",
              "      <td>0.169739</td>\n",
              "      <td>0.271557</td>\n",
              "      <td>-0.740992</td>\n",
              "      <td>0.474994</td>\n",
              "      <td>0.090848</td>\n",
              "      <td>0.444559</td>\n",
              "      <td>0</td>\n",
              "    </tr>\n",
              "    <tr>\n",
              "      <th>3</th>\n",
              "      <td>0.956842</td>\n",
              "      <td>0.282367</td>\n",
              "      <td>1.050734</td>\n",
              "      <td>-1.020589</td>\n",
              "      <td>-0.470394</td>\n",
              "      <td>0.046521</td>\n",
              "      <td>0.807032</td>\n",
              "      <td>1.182605</td>\n",
              "      <td>-0.244362</td>\n",
              "      <td>0.594712</td>\n",
              "      <td>0.532991</td>\n",
              "      <td>-0.238170</td>\n",
              "      <td>0.848486</td>\n",
              "      <td>0</td>\n",
              "    </tr>\n",
              "    <tr>\n",
              "      <th>4</th>\n",
              "      <td>0.512028</td>\n",
              "      <td>-0.126763</td>\n",
              "      <td>0.467862</td>\n",
              "      <td>-0.634957</td>\n",
              "      <td>-1.644289</td>\n",
              "      <td>0.656075</td>\n",
              "      <td>1.170313</td>\n",
              "      <td>0.209190</td>\n",
              "      <td>-0.609481</td>\n",
              "      <td>0.627834</td>\n",
              "      <td>0.394189</td>\n",
              "      <td>-0.087010</td>\n",
              "      <td>1.384863</td>\n",
              "      <td>0</td>\n",
              "    </tr>\n",
              "  </tbody>\n",
              "</table>\n",
              "</div>\n",
              "    <div class=\"colab-df-buttons\">\n",
              "\n",
              "  <div class=\"colab-df-container\">\n",
              "    <button class=\"colab-df-convert\" onclick=\"convertToInteractive('df-42321313-75b9-4add-b484-bb58974f6963')\"\n",
              "            title=\"Convert this dataframe to an interactive table.\"\n",
              "            style=\"display:none;\">\n",
              "\n",
              "  <svg xmlns=\"http://www.w3.org/2000/svg\" height=\"24px\" viewBox=\"0 -960 960 960\">\n",
              "    <path d=\"M120-120v-720h720v720H120Zm60-500h600v-160H180v160Zm220 220h160v-160H400v160Zm0 220h160v-160H400v160ZM180-400h160v-160H180v160Zm440 0h160v-160H620v160ZM180-180h160v-160H180v160Zm440 0h160v-160H620v160Z\"/>\n",
              "  </svg>\n",
              "    </button>\n",
              "\n",
              "  <style>\n",
              "    .colab-df-container {\n",
              "      display:flex;\n",
              "      gap: 12px;\n",
              "    }\n",
              "\n",
              "    .colab-df-convert {\n",
              "      background-color: #E8F0FE;\n",
              "      border: none;\n",
              "      border-radius: 50%;\n",
              "      cursor: pointer;\n",
              "      display: none;\n",
              "      fill: #1967D2;\n",
              "      height: 32px;\n",
              "      padding: 0 0 0 0;\n",
              "      width: 32px;\n",
              "    }\n",
              "\n",
              "    .colab-df-convert:hover {\n",
              "      background-color: #E2EBFA;\n",
              "      box-shadow: 0px 1px 2px rgba(60, 64, 67, 0.3), 0px 1px 3px 1px rgba(60, 64, 67, 0.15);\n",
              "      fill: #174EA6;\n",
              "    }\n",
              "\n",
              "    .colab-df-buttons div {\n",
              "      margin-bottom: 4px;\n",
              "    }\n",
              "\n",
              "    [theme=dark] .colab-df-convert {\n",
              "      background-color: #3B4455;\n",
              "      fill: #D2E3FC;\n",
              "    }\n",
              "\n",
              "    [theme=dark] .colab-df-convert:hover {\n",
              "      background-color: #434B5C;\n",
              "      box-shadow: 0px 1px 3px 1px rgba(0, 0, 0, 0.15);\n",
              "      filter: drop-shadow(0px 1px 2px rgba(0, 0, 0, 0.3));\n",
              "      fill: #FFFFFF;\n",
              "    }\n",
              "  </style>\n",
              "\n",
              "    <script>\n",
              "      const buttonEl =\n",
              "        document.querySelector('#df-42321313-75b9-4add-b484-bb58974f6963 button.colab-df-convert');\n",
              "      buttonEl.style.display =\n",
              "        google.colab.kernel.accessAllowed ? 'block' : 'none';\n",
              "\n",
              "      async function convertToInteractive(key) {\n",
              "        const element = document.querySelector('#df-42321313-75b9-4add-b484-bb58974f6963');\n",
              "        const dataTable =\n",
              "          await google.colab.kernel.invokeFunction('convertToInteractive',\n",
              "                                                    [key], {});\n",
              "        if (!dataTable) return;\n",
              "\n",
              "        const docLinkHtml = 'Like what you see? Visit the ' +\n",
              "          '<a target=\"_blank\" href=https://colab.research.google.com/notebooks/data_table.ipynb>data table notebook</a>'\n",
              "          + ' to learn more about interactive tables.';\n",
              "        element.innerHTML = '';\n",
              "        dataTable['output_type'] = 'display_data';\n",
              "        await google.colab.output.renderOutput(dataTable, element);\n",
              "        const docLink = document.createElement('div');\n",
              "        docLink.innerHTML = docLinkHtml;\n",
              "        element.appendChild(docLink);\n",
              "      }\n",
              "    </script>\n",
              "  </div>\n",
              "\n",
              "\n",
              "<div id=\"df-08042d89-a855-49fe-8859-5506424ac791\">\n",
              "  <button class=\"colab-df-quickchart\" onclick=\"quickchart('df-08042d89-a855-49fe-8859-5506424ac791')\"\n",
              "            title=\"Suggest charts\"\n",
              "            style=\"display:none;\">\n",
              "\n",
              "<svg xmlns=\"http://www.w3.org/2000/svg\" height=\"24px\"viewBox=\"0 0 24 24\"\n",
              "     width=\"24px\">\n",
              "    <g>\n",
              "        <path d=\"M19 3H5c-1.1 0-2 .9-2 2v14c0 1.1.9 2 2 2h14c1.1 0 2-.9 2-2V5c0-1.1-.9-2-2-2zM9 17H7v-7h2v7zm4 0h-2V7h2v10zm4 0h-2v-4h2v4z\"/>\n",
              "    </g>\n",
              "</svg>\n",
              "  </button>\n",
              "\n",
              "<style>\n",
              "  .colab-df-quickchart {\n",
              "      --bg-color: #E8F0FE;\n",
              "      --fill-color: #1967D2;\n",
              "      --hover-bg-color: #E2EBFA;\n",
              "      --hover-fill-color: #174EA6;\n",
              "      --disabled-fill-color: #AAA;\n",
              "      --disabled-bg-color: #DDD;\n",
              "  }\n",
              "\n",
              "  [theme=dark] .colab-df-quickchart {\n",
              "      --bg-color: #3B4455;\n",
              "      --fill-color: #D2E3FC;\n",
              "      --hover-bg-color: #434B5C;\n",
              "      --hover-fill-color: #FFFFFF;\n",
              "      --disabled-bg-color: #3B4455;\n",
              "      --disabled-fill-color: #666;\n",
              "  }\n",
              "\n",
              "  .colab-df-quickchart {\n",
              "    background-color: var(--bg-color);\n",
              "    border: none;\n",
              "    border-radius: 50%;\n",
              "    cursor: pointer;\n",
              "    display: none;\n",
              "    fill: var(--fill-color);\n",
              "    height: 32px;\n",
              "    padding: 0;\n",
              "    width: 32px;\n",
              "  }\n",
              "\n",
              "  .colab-df-quickchart:hover {\n",
              "    background-color: var(--hover-bg-color);\n",
              "    box-shadow: 0 1px 2px rgba(60, 64, 67, 0.3), 0 1px 3px 1px rgba(60, 64, 67, 0.15);\n",
              "    fill: var(--button-hover-fill-color);\n",
              "  }\n",
              "\n",
              "  .colab-df-quickchart-complete:disabled,\n",
              "  .colab-df-quickchart-complete:disabled:hover {\n",
              "    background-color: var(--disabled-bg-color);\n",
              "    fill: var(--disabled-fill-color);\n",
              "    box-shadow: none;\n",
              "  }\n",
              "\n",
              "  .colab-df-spinner {\n",
              "    border: 2px solid var(--fill-color);\n",
              "    border-color: transparent;\n",
              "    border-bottom-color: var(--fill-color);\n",
              "    animation:\n",
              "      spin 1s steps(1) infinite;\n",
              "  }\n",
              "\n",
              "  @keyframes spin {\n",
              "    0% {\n",
              "      border-color: transparent;\n",
              "      border-bottom-color: var(--fill-color);\n",
              "      border-left-color: var(--fill-color);\n",
              "    }\n",
              "    20% {\n",
              "      border-color: transparent;\n",
              "      border-left-color: var(--fill-color);\n",
              "      border-top-color: var(--fill-color);\n",
              "    }\n",
              "    30% {\n",
              "      border-color: transparent;\n",
              "      border-left-color: var(--fill-color);\n",
              "      border-top-color: var(--fill-color);\n",
              "      border-right-color: var(--fill-color);\n",
              "    }\n",
              "    40% {\n",
              "      border-color: transparent;\n",
              "      border-right-color: var(--fill-color);\n",
              "      border-top-color: var(--fill-color);\n",
              "    }\n",
              "    60% {\n",
              "      border-color: transparent;\n",
              "      border-right-color: var(--fill-color);\n",
              "    }\n",
              "    80% {\n",
              "      border-color: transparent;\n",
              "      border-right-color: var(--fill-color);\n",
              "      border-bottom-color: var(--fill-color);\n",
              "    }\n",
              "    90% {\n",
              "      border-color: transparent;\n",
              "      border-bottom-color: var(--fill-color);\n",
              "    }\n",
              "  }\n",
              "</style>\n",
              "\n",
              "  <script>\n",
              "    async function quickchart(key) {\n",
              "      const quickchartButtonEl =\n",
              "        document.querySelector('#' + key + ' button');\n",
              "      quickchartButtonEl.disabled = true;  // To prevent multiple clicks.\n",
              "      quickchartButtonEl.classList.add('colab-df-spinner');\n",
              "      try {\n",
              "        const charts = await google.colab.kernel.invokeFunction(\n",
              "            'suggestCharts', [key], {});\n",
              "      } catch (error) {\n",
              "        console.error('Error during call to suggestCharts:', error);\n",
              "      }\n",
              "      quickchartButtonEl.classList.remove('colab-df-spinner');\n",
              "      quickchartButtonEl.classList.add('colab-df-quickchart-complete');\n",
              "    }\n",
              "    (() => {\n",
              "      let quickchartButtonEl =\n",
              "        document.querySelector('#df-08042d89-a855-49fe-8859-5506424ac791 button');\n",
              "      quickchartButtonEl.style.display =\n",
              "        google.colab.kernel.accessAllowed ? 'block' : 'none';\n",
              "    })();\n",
              "  </script>\n",
              "</div>\n",
              "\n",
              "    </div>\n",
              "  </div>\n"
            ],
            "application/vnd.google.colaboratory.intrinsic+json": {
              "type": "dataframe",
              "variable_name": "df_scaled",
              "summary": "{\n  \"name\": \"df_scaled\",\n  \"rows\": 400,\n  \"fields\": [\n    {\n      \"column\": 0,\n      \"properties\": {\n        \"dtype\": \"float32\",\n        \"num_unique_values\": 399,\n        \"samples\": [\n          0.14381493628025055,\n          -1.1725751161575317,\n          -1.555184245109558\n        ],\n        \"semantic_type\": \"\",\n        \"description\": \"\"\n      }\n    },\n    {\n      \"column\": 1,\n      \"properties\": {\n        \"dtype\": \"float32\",\n        \"num_unique_values\": 399,\n        \"samples\": [\n          -0.6193084120750427,\n          -1.52699875831604,\n          1.0297589302062988\n        ],\n        \"semantic_type\": \"\",\n        \"description\": \"\"\n      }\n    },\n    {\n      \"column\": 2,\n      \"properties\": {\n        \"dtype\": \"float32\",\n        \"num_unique_values\": 399,\n        \"samples\": [\n          -0.9068833589553833,\n          -1.207285761833191,\n          0.3647530674934387\n        ],\n        \"semantic_type\": \"\",\n        \"description\": \"\"\n      }\n    },\n    {\n      \"column\": 3,\n      \"properties\": {\n        \"dtype\": \"float32\",\n        \"num_unique_values\": 399,\n        \"samples\": [\n          -1.7673038244247437,\n          0.19813136756420135,\n          0.9533661007881165\n        ],\n        \"semantic_type\": \"\",\n        \"description\": \"\"\n      }\n    },\n    {\n      \"column\": 4,\n      \"properties\": {\n        \"dtype\": \"float32\",\n        \"num_unique_values\": 399,\n        \"samples\": [\n          -2.3292746543884277,\n          -0.3910245895385742,\n          -0.747718095779419\n        ],\n        \"semantic_type\": \"\",\n        \"description\": \"\"\n      }\n    },\n    {\n      \"column\": 5,\n      \"properties\": {\n        \"dtype\": \"float32\",\n        \"num_unique_values\": 399,\n        \"samples\": [\n          -1.0565531253814697,\n          0.13665473461151123,\n          1.0440747737884521\n        ],\n        \"semantic_type\": \"\",\n        \"description\": \"\"\n      }\n    },\n    {\n      \"column\": 6,\n      \"properties\": {\n        \"dtype\": \"float32\",\n        \"num_unique_values\": 399,\n        \"samples\": [\n          -0.8373780250549316,\n          0.8792038559913635,\n          0.9284433126449585\n        ],\n        \"semantic_type\": \"\",\n        \"description\": \"\"\n      }\n    },\n    {\n      \"column\": 7,\n      \"properties\": {\n        \"dtype\": \"float32\",\n        \"num_unique_values\": 399,\n        \"samples\": [\n          -1.40200674533844,\n          0.26695841550827026,\n          -0.25253406167030334\n        ],\n        \"semantic_type\": \"\",\n        \"description\": \"\"\n      }\n    },\n    {\n      \"column\": 8,\n      \"properties\": {\n        \"dtype\": \"float32\",\n        \"num_unique_values\": 399,\n        \"samples\": [\n          -1.0949249267578125,\n          0.9161295294761658,\n          1.6027870178222656\n        ],\n        \"semantic_type\": \"\",\n        \"description\": \"\"\n      }\n    },\n    {\n      \"column\": 9,\n      \"properties\": {\n        \"dtype\": \"float32\",\n        \"num_unique_values\": 399,\n        \"samples\": [\n          -1.43434739112854,\n          0.624772310256958,\n          0.565199613571167\n        ],\n        \"semantic_type\": \"\",\n        \"description\": \"\"\n      }\n    },\n    {\n      \"column\": 10,\n      \"properties\": {\n        \"dtype\": \"float32\",\n        \"num_unique_values\": 399,\n        \"samples\": [\n          -0.7099392414093018,\n          0.8321442604064941,\n          0.7099370956420898\n        ],\n        \"semantic_type\": \"\",\n        \"description\": \"\"\n      }\n    },\n    {\n      \"column\": 11,\n      \"properties\": {\n        \"dtype\": \"float32\",\n        \"num_unique_values\": 399,\n        \"samples\": [\n          -1.091004490852356,\n          0.563937246799469,\n          1.3843555450439453\n        ],\n        \"semantic_type\": \"\",\n        \"description\": \"\"\n      }\n    },\n    {\n      \"column\": 12,\n      \"properties\": {\n        \"dtype\": \"float32\",\n        \"num_unique_values\": 399,\n        \"samples\": [\n          -0.24937106668949127,\n          -0.12254361808300018,\n          1.1497089862823486\n        ],\n        \"semantic_type\": \"\",\n        \"description\": \"\"\n      }\n    },\n    {\n      \"column\": \"label\",\n      \"properties\": {\n        \"dtype\": \"number\",\n        \"std\": 1,\n        \"min\": 0,\n        \"max\": 4,\n        \"num_unique_values\": 5,\n        \"samples\": [\n          4,\n          1,\n          2\n        ],\n        \"semantic_type\": \"\",\n        \"description\": \"\"\n      }\n    }\n  ]\n}"
            }
          },
          "metadata": {},
          "execution_count": 31
        }
      ]
    },
    {
      "cell_type": "code",
      "source": [
        "# splitting the data into train and test sets\n",
        "\n",
        "from sklearn.model_selection import train_test_split\n",
        "\n",
        "X = df_scaled.iloc[:, :-1]  # Features\n",
        "y = df_scaled['label']  # Labels\n",
        "\n",
        "# Splitting data into 80% training and 20% testing\n",
        "X_train, X_test, y_train, y_test = train_test_split(X, y, test_size=0.2, random_state=42, stratify=y)\n",
        "\n",
        "print(\"Training Samples:\", X_train.shape[0])\n",
        "print(\"Testing Samples:\", X_test.shape[0])\n"
      ],
      "metadata": {
        "colab": {
          "base_uri": "https://localhost:8080/"
        },
        "id": "0P-cAc6DwWH5",
        "outputId": "c23d1e4f-3992-459e-a15a-700e0f889f79"
      },
      "execution_count": 32,
      "outputs": [
        {
          "output_type": "stream",
          "name": "stdout",
          "text": [
            "Training Samples: 320\n",
            "Testing Samples: 80\n"
          ]
        }
      ]
    },
    {
      "cell_type": "code",
      "source": [
        "from tensorflow.keras.utils import to_categorical\n",
        "import numpy as np\n",
        "\n",
        "y_train_categorical = to_categorical(y_train, num_classes=5)  # 5 emotions\n",
        "y_test_categorical = to_categorical(y_test, num_classes=5)\n"
      ],
      "metadata": {
        "id": "z2iWMxaAx1_R"
      },
      "execution_count": 33,
      "outputs": []
    },
    {
      "cell_type": "markdown",
      "source": [
        "Training a basic ml model"
      ],
      "metadata": {
        "id": "2scPc_7JyEq5"
      }
    },
    {
      "cell_type": "code",
      "source": [
        "from sklearn.ensemble import RandomForestClassifier\n",
        "from sklearn.metrics import accuracy_score, classification_report\n",
        "\n",
        "# Initialize Random Forest model\n",
        "rf_model = RandomForestClassifier(n_estimators=100, random_state=42)\n",
        "\n",
        "# Train the model\n",
        "rf_model.fit(X_train, y_train)\n",
        "\n",
        "# Predict on test data\n",
        "y_pred = rf_model.predict(X_test)\n",
        "\n",
        "# Evaluate model performance\n",
        "accuracy = accuracy_score(y_test, y_pred)\n",
        "print(f\"Test Accuracy: {accuracy:.2f}\")\n",
        "\n",
        "# Show classification report\n",
        "print(classification_report(y_test, y_pred))\n"
      ],
      "metadata": {
        "colab": {
          "base_uri": "https://localhost:8080/"
        },
        "id": "3KZsX6afx30v",
        "outputId": "c90ac61b-2f1a-470b-90ca-75d9f92563f4"
      },
      "execution_count": 34,
      "outputs": [
        {
          "output_type": "stream",
          "name": "stdout",
          "text": [
            "Test Accuracy: 0.75\n",
            "              precision    recall  f1-score   support\n",
            "\n",
            "           0       0.71      0.94      0.81        16\n",
            "           1       0.79      0.69      0.73        16\n",
            "           2       0.77      0.62      0.69        16\n",
            "           3       0.71      0.75      0.73        16\n",
            "           4       0.80      0.75      0.77        16\n",
            "\n",
            "    accuracy                           0.75        80\n",
            "   macro avg       0.76      0.75      0.75        80\n",
            "weighted avg       0.76      0.75      0.75        80\n",
            "\n"
          ]
        }
      ]
    },
    {
      "cell_type": "markdown",
      "source": [
        "SVM"
      ],
      "metadata": {
        "id": "EHOx8L8ZyjWr"
      }
    },
    {
      "cell_type": "code",
      "source": [
        "from sklearn.svm import SVC\n",
        "\n",
        "svm_model = SVC(kernel='rbf', C=1.0, random_state=42)\n",
        "svm_model.fit(X_train, y_train)\n",
        "\n",
        "y_pred_svm = svm_model.predict(X_test)\n",
        "print(f\"SVM Accuracy: {accuracy_score(y_test, y_pred_svm):.2f}\")\n",
        "svm_accuracy = accuracy_score(y_test, y_pred_svm)\n",
        "\n",
        "\n"
      ],
      "metadata": {
        "colab": {
          "base_uri": "https://localhost:8080/"
        },
        "id": "NcQ3szuUykJD",
        "outputId": "89d4cb22-171d-43ed-ccd3-1eea00e42003"
      },
      "execution_count": 47,
      "outputs": [
        {
          "output_type": "stream",
          "name": "stdout",
          "text": [
            "SVM Accuracy: 0.70\n"
          ]
        }
      ]
    },
    {
      "cell_type": "markdown",
      "source": [
        "XG Boost"
      ],
      "metadata": {
        "id": "mEsWUntXyngL"
      }
    },
    {
      "cell_type": "code",
      "source": [
        "from xgboost import XGBClassifier\n",
        "\n",
        "xgb_model = XGBClassifier(use_label_encoder=False, eval_metric='mlogloss')\n",
        "xgb_model.fit(X_train, y_train)\n",
        "\n",
        "y_pred_xgb = xgb_model.predict(X_test)\n",
        "print(f\"XGBoost Accuracy: {accuracy_score(y_test, y_pred_xgb):.2f}\")\n",
        "\n",
        "xgboost_accuracy = accuracy_score(y_test, y_pred_xgb)\n"
      ],
      "metadata": {
        "colab": {
          "base_uri": "https://localhost:8080/"
        },
        "id": "uFgcz1T9ymxW",
        "outputId": "4bab2d40-a235-4ba4-dfb3-fb73ea7f8bce"
      },
      "execution_count": 46,
      "outputs": [
        {
          "output_type": "stream",
          "name": "stderr",
          "text": [
            "/usr/local/lib/python3.11/dist-packages/xgboost/core.py:158: UserWarning: [04:59:29] WARNING: /workspace/src/learner.cc:740: \n",
            "Parameters: { \"use_label_encoder\" } are not used.\n",
            "\n",
            "  warnings.warn(smsg, UserWarning)\n"
          ]
        },
        {
          "output_type": "stream",
          "name": "stdout",
          "text": [
            "XGBoost Accuracy: 0.79\n"
          ]
        }
      ]
    },
    {
      "cell_type": "markdown",
      "source": [
        "using deep learning models"
      ],
      "metadata": {
        "id": "cHdoEQJvymm2"
      }
    },
    {
      "cell_type": "code",
      "source": [
        "#Prepare Data for Deep Learning\n",
        "import numpy as np\n",
        "from tensorflow.keras.utils import to_categorical\n",
        "\n",
        "# Reshape data for deep learning models\n",
        "X_train = np.array(X_train).reshape(-1, 13, 1)  # 13 MFCCs, single-channel input\n",
        "X_test = np.array(X_test).reshape(-1, 13, 1)\n",
        "\n",
        "# Convert labels to categorical (one-hot encoding)\n",
        "y_train = to_categorical(y_train, num_classes=5)\n",
        "y_test = to_categorical(y_test, num_classes=5)\n"
      ],
      "metadata": {
        "id": "RSrWvtvbzHFz"
      },
      "execution_count": 21,
      "outputs": []
    },
    {
      "cell_type": "code",
      "source": [
        "# building the cnn model\n",
        "\n",
        "import tensorflow as tf\n",
        "from tensorflow.keras.models import Sequential\n",
        "from tensorflow.keras.layers import Conv1D, MaxPooling1D, Flatten, Dense, Dropout\n",
        "\n",
        "# Build CNN model\n",
        "cnn_model = Sequential([\n",
        "    Conv1D(64, kernel_size=3, activation='relu', input_shape=(13, 1)),\n",
        "    MaxPooling1D(pool_size=2),\n",
        "    Flatten(),\n",
        "    Dense(128, activation='relu'),\n",
        "    Dropout(0.3),\n",
        "    Dense(5, activation='softmax')  # 5 classes\n",
        "])\n",
        "\n",
        "# Compile model\n",
        "cnn_model.compile(loss='categorical_crossentropy', optimizer='adam', metrics=['accuracy'])\n",
        "\n",
        "# Train model\n",
        "cnn_model.fit(X_train, y_train, epochs=30, batch_size=16, validation_data=(X_test, y_test))\n"
      ],
      "metadata": {
        "colab": {
          "base_uri": "https://localhost:8080/"
        },
        "collapsed": true,
        "id": "xu7kWwNHzKTi",
        "outputId": "b7ed1380-65e4-4e83-9216-d6584904d1bc"
      },
      "execution_count": 22,
      "outputs": [
        {
          "output_type": "stream",
          "name": "stderr",
          "text": [
            "/usr/local/lib/python3.11/dist-packages/keras/src/layers/convolutional/base_conv.py:107: UserWarning: Do not pass an `input_shape`/`input_dim` argument to a layer. When using Sequential models, prefer using an `Input(shape)` object as the first layer in the model instead.\n",
            "  super().__init__(activity_regularizer=activity_regularizer, **kwargs)\n"
          ]
        },
        {
          "output_type": "stream",
          "name": "stdout",
          "text": [
            "Epoch 1/30\n",
            "\u001b[1m20/20\u001b[0m \u001b[32m━━━━━━━━━━━━━━━━━━━━\u001b[0m\u001b[37m\u001b[0m \u001b[1m12s\u001b[0m 54ms/step - accuracy: 0.2080 - loss: 1.6257 - val_accuracy: 0.3000 - val_loss: 1.5207\n",
            "Epoch 2/30\n",
            "\u001b[1m20/20\u001b[0m \u001b[32m━━━━━━━━━━━━━━━━━━━━\u001b[0m\u001b[37m\u001b[0m \u001b[1m0s\u001b[0m 7ms/step - accuracy: 0.3794 - loss: 1.5117 - val_accuracy: 0.4625 - val_loss: 1.4477\n",
            "Epoch 3/30\n",
            "\u001b[1m20/20\u001b[0m \u001b[32m━━━━━━━━━━━━━━━━━━━━\u001b[0m\u001b[37m\u001b[0m \u001b[1m0s\u001b[0m 9ms/step - accuracy: 0.4412 - loss: 1.4207 - val_accuracy: 0.5375 - val_loss: 1.3636\n",
            "Epoch 4/30\n",
            "\u001b[1m20/20\u001b[0m \u001b[32m━━━━━━━━━━━━━━━━━━━━\u001b[0m\u001b[37m\u001b[0m \u001b[1m0s\u001b[0m 8ms/step - accuracy: 0.5233 - loss: 1.3658 - val_accuracy: 0.4875 - val_loss: 1.2932\n",
            "Epoch 5/30\n",
            "\u001b[1m20/20\u001b[0m \u001b[32m━━━━━━━━━━━━━━━━━━━━\u001b[0m\u001b[37m\u001b[0m \u001b[1m0s\u001b[0m 7ms/step - accuracy: 0.4902 - loss: 1.3234 - val_accuracy: 0.5750 - val_loss: 1.2359\n",
            "Epoch 6/30\n",
            "\u001b[1m20/20\u001b[0m \u001b[32m━━━━━━━━━━━━━━━━━━━━\u001b[0m\u001b[37m\u001b[0m \u001b[1m0s\u001b[0m 8ms/step - accuracy: 0.6219 - loss: 1.2067 - val_accuracy: 0.6000 - val_loss: 1.1508\n",
            "Epoch 7/30\n",
            "\u001b[1m20/20\u001b[0m \u001b[32m━━━━━━━━━━━━━━━━━━━━\u001b[0m\u001b[37m\u001b[0m \u001b[1m0s\u001b[0m 7ms/step - accuracy: 0.5639 - loss: 1.1853 - val_accuracy: 0.6250 - val_loss: 1.0990\n",
            "Epoch 8/30\n",
            "\u001b[1m20/20\u001b[0m \u001b[32m━━━━━━━━━━━━━━━━━━━━\u001b[0m\u001b[37m\u001b[0m \u001b[1m0s\u001b[0m 6ms/step - accuracy: 0.6497 - loss: 1.0599 - val_accuracy: 0.6125 - val_loss: 1.0539\n",
            "Epoch 9/30\n",
            "\u001b[1m20/20\u001b[0m \u001b[32m━━━━━━━━━━━━━━━━━━━━\u001b[0m\u001b[37m\u001b[0m \u001b[1m0s\u001b[0m 7ms/step - accuracy: 0.6567 - loss: 1.0627 - val_accuracy: 0.5875 - val_loss: 1.0263\n",
            "Epoch 10/30\n",
            "\u001b[1m20/20\u001b[0m \u001b[32m━━━━━━━━━━━━━━━━━━━━\u001b[0m\u001b[37m\u001b[0m \u001b[1m0s\u001b[0m 8ms/step - accuracy: 0.6721 - loss: 0.9824 - val_accuracy: 0.6500 - val_loss: 0.9621\n",
            "Epoch 11/30\n",
            "\u001b[1m20/20\u001b[0m \u001b[32m━━━━━━━━━━━━━━━━━━━━\u001b[0m\u001b[37m\u001b[0m \u001b[1m0s\u001b[0m 6ms/step - accuracy: 0.7299 - loss: 0.9391 - val_accuracy: 0.6250 - val_loss: 0.9255\n",
            "Epoch 12/30\n",
            "\u001b[1m20/20\u001b[0m \u001b[32m━━━━━━━━━━━━━━━━━━━━\u001b[0m\u001b[37m\u001b[0m \u001b[1m0s\u001b[0m 7ms/step - accuracy: 0.6923 - loss: 0.9360 - val_accuracy: 0.6500 - val_loss: 0.9103\n",
            "Epoch 13/30\n",
            "\u001b[1m20/20\u001b[0m \u001b[32m━━━━━━━━━━━━━━━━━━━━\u001b[0m\u001b[37m\u001b[0m \u001b[1m0s\u001b[0m 7ms/step - accuracy: 0.7211 - loss: 0.8241 - val_accuracy: 0.7000 - val_loss: 0.8302\n",
            "Epoch 14/30\n",
            "\u001b[1m20/20\u001b[0m \u001b[32m━━━━━━━━━━━━━━━━━━━━\u001b[0m\u001b[37m\u001b[0m \u001b[1m0s\u001b[0m 6ms/step - accuracy: 0.7196 - loss: 0.7913 - val_accuracy: 0.6875 - val_loss: 0.8299\n",
            "Epoch 15/30\n",
            "\u001b[1m20/20\u001b[0m \u001b[32m━━━━━━━━━━━━━━━━━━━━\u001b[0m\u001b[37m\u001b[0m \u001b[1m0s\u001b[0m 8ms/step - accuracy: 0.7818 - loss: 0.7091 - val_accuracy: 0.7125 - val_loss: 0.7889\n",
            "Epoch 16/30\n",
            "\u001b[1m20/20\u001b[0m \u001b[32m━━━━━━━━━━━━━━━━━━━━\u001b[0m\u001b[37m\u001b[0m \u001b[1m0s\u001b[0m 7ms/step - accuracy: 0.7979 - loss: 0.6694 - val_accuracy: 0.7375 - val_loss: 0.7721\n",
            "Epoch 17/30\n",
            "\u001b[1m20/20\u001b[0m \u001b[32m━━━━━━━━━━━━━━━━━━━━\u001b[0m\u001b[37m\u001b[0m \u001b[1m0s\u001b[0m 9ms/step - accuracy: 0.8255 - loss: 0.6848 - val_accuracy: 0.6875 - val_loss: 0.7913\n",
            "Epoch 18/30\n",
            "\u001b[1m20/20\u001b[0m \u001b[32m━━━━━━━━━━━━━━━━━━━━\u001b[0m\u001b[37m\u001b[0m \u001b[1m0s\u001b[0m 11ms/step - accuracy: 0.7623 - loss: 0.6958 - val_accuracy: 0.7500 - val_loss: 0.7408\n",
            "Epoch 19/30\n",
            "\u001b[1m20/20\u001b[0m \u001b[32m━━━━━━━━━━━━━━━━━━━━\u001b[0m\u001b[37m\u001b[0m \u001b[1m0s\u001b[0m 9ms/step - accuracy: 0.7898 - loss: 0.6411 - val_accuracy: 0.7375 - val_loss: 0.7586\n",
            "Epoch 20/30\n",
            "\u001b[1m20/20\u001b[0m \u001b[32m━━━━━━━━━━━━━━━━━━━━\u001b[0m\u001b[37m\u001b[0m \u001b[1m0s\u001b[0m 10ms/step - accuracy: 0.8690 - loss: 0.5701 - val_accuracy: 0.7750 - val_loss: 0.7134\n",
            "Epoch 21/30\n",
            "\u001b[1m20/20\u001b[0m \u001b[32m━━━━━━━━━━━━━━━━━━━━\u001b[0m\u001b[37m\u001b[0m \u001b[1m0s\u001b[0m 11ms/step - accuracy: 0.8281 - loss: 0.6118 - val_accuracy: 0.7750 - val_loss: 0.6922\n",
            "Epoch 22/30\n",
            "\u001b[1m20/20\u001b[0m \u001b[32m━━━━━━━━━━━━━━━━━━━━\u001b[0m\u001b[37m\u001b[0m \u001b[1m0s\u001b[0m 10ms/step - accuracy: 0.8083 - loss: 0.5640 - val_accuracy: 0.7500 - val_loss: 0.6796\n",
            "Epoch 23/30\n",
            "\u001b[1m20/20\u001b[0m \u001b[32m━━━━━━━━━━━━━━━━━━━━\u001b[0m\u001b[37m\u001b[0m \u001b[1m0s\u001b[0m 10ms/step - accuracy: 0.8180 - loss: 0.5542 - val_accuracy: 0.7375 - val_loss: 0.6952\n",
            "Epoch 24/30\n",
            "\u001b[1m20/20\u001b[0m \u001b[32m━━━━━━━━━━━━━━━━━━━━\u001b[0m\u001b[37m\u001b[0m \u001b[1m0s\u001b[0m 10ms/step - accuracy: 0.8199 - loss: 0.5691 - val_accuracy: 0.7750 - val_loss: 0.6649\n",
            "Epoch 25/30\n",
            "\u001b[1m20/20\u001b[0m \u001b[32m━━━━━━━━━━━━━━━━━━━━\u001b[0m\u001b[37m\u001b[0m \u001b[1m0s\u001b[0m 10ms/step - accuracy: 0.8149 - loss: 0.5537 - val_accuracy: 0.8000 - val_loss: 0.6326\n",
            "Epoch 26/30\n",
            "\u001b[1m20/20\u001b[0m \u001b[32m━━━━━━━━━━━━━━━━━━━━\u001b[0m\u001b[37m\u001b[0m \u001b[1m0s\u001b[0m 10ms/step - accuracy: 0.8545 - loss: 0.4587 - val_accuracy: 0.8000 - val_loss: 0.6327\n",
            "Epoch 27/30\n",
            "\u001b[1m20/20\u001b[0m \u001b[32m━━━━━━━━━━━━━━━━━━━━\u001b[0m\u001b[37m\u001b[0m \u001b[1m0s\u001b[0m 12ms/step - accuracy: 0.8632 - loss: 0.4400 - val_accuracy: 0.7750 - val_loss: 0.6914\n",
            "Epoch 28/30\n",
            "\u001b[1m20/20\u001b[0m \u001b[32m━━━━━━━━━━━━━━━━━━━━\u001b[0m\u001b[37m\u001b[0m \u001b[1m0s\u001b[0m 11ms/step - accuracy: 0.8393 - loss: 0.5252 - val_accuracy: 0.8000 - val_loss: 0.6934\n",
            "Epoch 29/30\n",
            "\u001b[1m20/20\u001b[0m \u001b[32m━━━━━━━━━━━━━━━━━━━━\u001b[0m\u001b[37m\u001b[0m \u001b[1m0s\u001b[0m 7ms/step - accuracy: 0.8686 - loss: 0.4216 - val_accuracy: 0.7750 - val_loss: 0.6222\n",
            "Epoch 30/30\n",
            "\u001b[1m20/20\u001b[0m \u001b[32m━━━━━━━━━━━━━━━━━━━━\u001b[0m\u001b[37m\u001b[0m \u001b[1m0s\u001b[0m 7ms/step - accuracy: 0.8648 - loss: 0.4063 - val_accuracy: 0.8125 - val_loss: 0.6390\n"
          ]
        },
        {
          "output_type": "execute_result",
          "data": {
            "text/plain": [
              "<keras.src.callbacks.history.History at 0x7b60fcb39490>"
            ]
          },
          "metadata": {},
          "execution_count": 22
        }
      ]
    },
    {
      "cell_type": "code",
      "source": [
        "#LSTM Model\n",
        "\n",
        "from tensorflow.keras.layers import LSTM\n",
        "\n",
        "# Build LSTM model\n",
        "lstm_model = Sequential([\n",
        "    LSTM(64, return_sequences=True, input_shape=(13, 1)),\n",
        "    LSTM(64),\n",
        "    Dense(128, activation='relu'),\n",
        "    Dropout(0.3),\n",
        "    Dense(5, activation='softmax')  # 5 emotion classes\n",
        "])\n",
        "\n",
        "# Compile model\n",
        "lstm_model.compile(loss='categorical_crossentropy', optimizer='adam', metrics=['accuracy'])\n",
        "\n",
        "# Train model\n",
        "lstm_model.fit(X_train, y_train, epochs=30, batch_size=16, validation_data=(X_test, y_test))\n",
        ""
      ],
      "metadata": {
        "colab": {
          "base_uri": "https://localhost:8080/"
        },
        "collapsed": true,
        "id": "FhNTple6zWGw",
        "outputId": "3c741bc6-2c4c-4f6b-c2fe-1bd9d15ad940"
      },
      "execution_count": 23,
      "outputs": [
        {
          "output_type": "stream",
          "name": "stderr",
          "text": [
            "/usr/local/lib/python3.11/dist-packages/keras/src/layers/rnn/rnn.py:200: UserWarning: Do not pass an `input_shape`/`input_dim` argument to a layer. When using Sequential models, prefer using an `Input(shape)` object as the first layer in the model instead.\n",
            "  super().__init__(**kwargs)\n"
          ]
        },
        {
          "output_type": "stream",
          "name": "stdout",
          "text": [
            "Epoch 1/30\n",
            "\u001b[1m20/20\u001b[0m \u001b[32m━━━━━━━━━━━━━━━━━━━━\u001b[0m\u001b[37m\u001b[0m \u001b[1m9s\u001b[0m 33ms/step - accuracy: 0.2226 - loss: 1.6049 - val_accuracy: 0.2750 - val_loss: 1.6052\n",
            "Epoch 2/30\n",
            "\u001b[1m20/20\u001b[0m \u001b[32m━━━━━━━━━━━━━━━━━━━━\u001b[0m\u001b[37m\u001b[0m \u001b[1m0s\u001b[0m 12ms/step - accuracy: 0.2360 - loss: 1.5975 - val_accuracy: 0.2500 - val_loss: 1.5928\n",
            "Epoch 3/30\n",
            "\u001b[1m20/20\u001b[0m \u001b[32m━━━━━━━━━━━━━━━━━━━━\u001b[0m\u001b[37m\u001b[0m \u001b[1m0s\u001b[0m 11ms/step - accuracy: 0.2832 - loss: 1.5757 - val_accuracy: 0.2875 - val_loss: 1.5793\n",
            "Epoch 4/30\n",
            "\u001b[1m20/20\u001b[0m \u001b[32m━━━━━━━━━━━━━━━━━━━━\u001b[0m\u001b[37m\u001b[0m \u001b[1m0s\u001b[0m 12ms/step - accuracy: 0.2773 - loss: 1.5733 - val_accuracy: 0.3125 - val_loss: 1.5713\n",
            "Epoch 5/30\n",
            "\u001b[1m20/20\u001b[0m \u001b[32m━━━━━━━━━━━━━━━━━━━━\u001b[0m\u001b[37m\u001b[0m \u001b[1m0s\u001b[0m 12ms/step - accuracy: 0.3541 - loss: 1.5662 - val_accuracy: 0.3000 - val_loss: 1.5451\n",
            "Epoch 6/30\n",
            "\u001b[1m20/20\u001b[0m \u001b[32m━━━━━━━━━━━━━━━━━━━━\u001b[0m\u001b[37m\u001b[0m \u001b[1m0s\u001b[0m 12ms/step - accuracy: 0.3378 - loss: 1.5209 - val_accuracy: 0.3625 - val_loss: 1.5199\n",
            "Epoch 7/30\n",
            "\u001b[1m20/20\u001b[0m \u001b[32m━━━━━━━━━━━━━━━━━━━━\u001b[0m\u001b[37m\u001b[0m \u001b[1m0s\u001b[0m 12ms/step - accuracy: 0.3600 - loss: 1.4926 - val_accuracy: 0.3125 - val_loss: 1.5398\n",
            "Epoch 8/30\n",
            "\u001b[1m20/20\u001b[0m \u001b[32m━━━━━━━━━━━━━━━━━━━━\u001b[0m\u001b[37m\u001b[0m \u001b[1m0s\u001b[0m 13ms/step - accuracy: 0.3891 - loss: 1.4884 - val_accuracy: 0.3250 - val_loss: 1.5195\n",
            "Epoch 9/30\n",
            "\u001b[1m20/20\u001b[0m \u001b[32m━━━━━━━━━━━━━━━━━━━━\u001b[0m\u001b[37m\u001b[0m \u001b[1m0s\u001b[0m 12ms/step - accuracy: 0.2906 - loss: 1.5436 - val_accuracy: 0.3250 - val_loss: 1.5100\n",
            "Epoch 10/30\n",
            "\u001b[1m20/20\u001b[0m \u001b[32m━━━━━━━━━━━━━━━━━━━━\u001b[0m\u001b[37m\u001b[0m \u001b[1m0s\u001b[0m 11ms/step - accuracy: 0.3449 - loss: 1.4755 - val_accuracy: 0.2875 - val_loss: 1.4901\n",
            "Epoch 11/30\n",
            "\u001b[1m20/20\u001b[0m \u001b[32m━━━━━━━━━━━━━━━━━━━━\u001b[0m\u001b[37m\u001b[0m \u001b[1m0s\u001b[0m 13ms/step - accuracy: 0.3653 - loss: 1.4483 - val_accuracy: 0.3375 - val_loss: 1.4901\n",
            "Epoch 12/30\n",
            "\u001b[1m20/20\u001b[0m \u001b[32m━━━━━━━━━━━━━━━━━━━━\u001b[0m\u001b[37m\u001b[0m \u001b[1m0s\u001b[0m 13ms/step - accuracy: 0.3669 - loss: 1.4658 - val_accuracy: 0.3000 - val_loss: 1.4644\n",
            "Epoch 13/30\n",
            "\u001b[1m20/20\u001b[0m \u001b[32m━━━━━━━━━━━━━━━━━━━━\u001b[0m\u001b[37m\u001b[0m \u001b[1m0s\u001b[0m 11ms/step - accuracy: 0.3884 - loss: 1.3620 - val_accuracy: 0.3250 - val_loss: 1.4609\n",
            "Epoch 14/30\n",
            "\u001b[1m20/20\u001b[0m \u001b[32m━━━━━━━━━━━━━━━━━━━━\u001b[0m\u001b[37m\u001b[0m \u001b[1m1s\u001b[0m 22ms/step - accuracy: 0.3967 - loss: 1.4154 - val_accuracy: 0.3625 - val_loss: 1.4414\n",
            "Epoch 15/30\n",
            "\u001b[1m20/20\u001b[0m \u001b[32m━━━━━━━━━━━━━━━━━━━━\u001b[0m\u001b[37m\u001b[0m \u001b[1m0s\u001b[0m 15ms/step - accuracy: 0.4878 - loss: 1.3066 - val_accuracy: 0.4125 - val_loss: 1.4074\n",
            "Epoch 16/30\n",
            "\u001b[1m20/20\u001b[0m \u001b[32m━━━━━━━━━━━━━━━━━━━━\u001b[0m\u001b[37m\u001b[0m \u001b[1m0s\u001b[0m 21ms/step - accuracy: 0.4113 - loss: 1.3385 - val_accuracy: 0.3625 - val_loss: 1.4299\n",
            "Epoch 17/30\n",
            "\u001b[1m20/20\u001b[0m \u001b[32m━━━━━━━━━━━━━━━━━━━━\u001b[0m\u001b[37m\u001b[0m \u001b[1m1s\u001b[0m 28ms/step - accuracy: 0.4581 - loss: 1.2860 - val_accuracy: 0.4750 - val_loss: 1.3742\n",
            "Epoch 18/30\n",
            "\u001b[1m20/20\u001b[0m \u001b[32m━━━━━━━━━━━━━━━━━━━━\u001b[0m\u001b[37m\u001b[0m \u001b[1m1s\u001b[0m 35ms/step - accuracy: 0.4460 - loss: 1.2880 - val_accuracy: 0.4375 - val_loss: 1.3911\n",
            "Epoch 19/30\n",
            "\u001b[1m20/20\u001b[0m \u001b[32m━━━━━━━━━━━━━━━━━━━━\u001b[0m\u001b[37m\u001b[0m \u001b[1m1s\u001b[0m 44ms/step - accuracy: 0.4884 - loss: 1.2933 - val_accuracy: 0.4500 - val_loss: 1.3359\n",
            "Epoch 20/30\n",
            "\u001b[1m20/20\u001b[0m \u001b[32m━━━━━━━━━━━━━━━━━━━━\u001b[0m\u001b[37m\u001b[0m \u001b[1m1s\u001b[0m 39ms/step - accuracy: 0.5299 - loss: 1.2334 - val_accuracy: 0.4625 - val_loss: 1.3267\n",
            "Epoch 21/30\n",
            "\u001b[1m20/20\u001b[0m \u001b[32m━━━━━━━━━━━━━━━━━━━━\u001b[0m\u001b[37m\u001b[0m \u001b[1m1s\u001b[0m 38ms/step - accuracy: 0.4586 - loss: 1.2065 - val_accuracy: 0.4250 - val_loss: 1.3607\n",
            "Epoch 22/30\n",
            "\u001b[1m20/20\u001b[0m \u001b[32m━━━━━━━━━━━━━━━━━━━━\u001b[0m\u001b[37m\u001b[0m \u001b[1m1s\u001b[0m 37ms/step - accuracy: 0.4382 - loss: 1.2208 - val_accuracy: 0.4750 - val_loss: 1.2736\n",
            "Epoch 23/30\n",
            "\u001b[1m20/20\u001b[0m \u001b[32m━━━━━━━━━━━━━━━━━━━━\u001b[0m\u001b[37m\u001b[0m \u001b[1m1s\u001b[0m 36ms/step - accuracy: 0.4986 - loss: 1.1922 - val_accuracy: 0.5125 - val_loss: 1.2486\n",
            "Epoch 24/30\n",
            "\u001b[1m20/20\u001b[0m \u001b[32m━━━━━━━━━━━━━━━━━━━━\u001b[0m\u001b[37m\u001b[0m \u001b[1m0s\u001b[0m 16ms/step - accuracy: 0.5553 - loss: 1.1289 - val_accuracy: 0.4375 - val_loss: 1.2246\n",
            "Epoch 25/30\n",
            "\u001b[1m20/20\u001b[0m \u001b[32m━━━━━━━━━━━━━━━━━━━━\u001b[0m\u001b[37m\u001b[0m \u001b[1m1s\u001b[0m 13ms/step - accuracy: 0.5125 - loss: 1.1986 - val_accuracy: 0.5000 - val_loss: 1.2546\n",
            "Epoch 26/30\n",
            "\u001b[1m20/20\u001b[0m \u001b[32m━━━━━━━━━━━━━━━━━━━━\u001b[0m\u001b[37m\u001b[0m \u001b[1m0s\u001b[0m 13ms/step - accuracy: 0.5622 - loss: 1.1014 - val_accuracy: 0.5500 - val_loss: 1.1827\n",
            "Epoch 27/30\n",
            "\u001b[1m20/20\u001b[0m \u001b[32m━━━━━━━━━━━━━━━━━━━━\u001b[0m\u001b[37m\u001b[0m \u001b[1m0s\u001b[0m 13ms/step - accuracy: 0.5414 - loss: 1.1317 - val_accuracy: 0.5875 - val_loss: 1.1724\n",
            "Epoch 28/30\n",
            "\u001b[1m20/20\u001b[0m \u001b[32m━━━━━━━━━━━━━━━━━━━━\u001b[0m\u001b[37m\u001b[0m \u001b[1m0s\u001b[0m 11ms/step - accuracy: 0.6088 - loss: 1.1142 - val_accuracy: 0.5625 - val_loss: 1.1276\n",
            "Epoch 29/30\n",
            "\u001b[1m20/20\u001b[0m \u001b[32m━━━━━━━━━━━━━━━━━━━━\u001b[0m\u001b[37m\u001b[0m \u001b[1m0s\u001b[0m 11ms/step - accuracy: 0.5794 - loss: 1.0623 - val_accuracy: 0.5500 - val_loss: 1.1158\n",
            "Epoch 30/30\n",
            "\u001b[1m20/20\u001b[0m \u001b[32m━━━━━━━━━━━━━━━━━━━━\u001b[0m\u001b[37m\u001b[0m \u001b[1m0s\u001b[0m 12ms/step - accuracy: 0.5879 - loss: 1.0255 - val_accuracy: 0.6125 - val_loss: 1.0514\n"
          ]
        },
        {
          "output_type": "execute_result",
          "data": {
            "text/plain": [
              "<keras.src.callbacks.history.History at 0x7b61a4c07e90>"
            ]
          },
          "metadata": {},
          "execution_count": 23
        }
      ]
    },
    {
      "cell_type": "code",
      "source": [
        "cnn_acc = cnn_model.evaluate(X_test, y_test)[1]\n",
        "lstm_acc = lstm_model.evaluate(X_test, y_test)[1]\n",
        "\n",
        "print(f\"CNN Test Accuracy: {cnn_acc:.2f}\")\n",
        "print(f\"LSTM Test Accuracy: {lstm_acc:.2f}\")\n"
      ],
      "metadata": {
        "colab": {
          "base_uri": "https://localhost:8080/"
        },
        "id": "im0i9NYYzo7D",
        "outputId": "7e5d64a8-4eb8-47c2-f27c-5d2371786792"
      },
      "execution_count": 24,
      "outputs": [
        {
          "output_type": "stream",
          "name": "stdout",
          "text": [
            "\u001b[1m3/3\u001b[0m \u001b[32m━━━━━━━━━━━━━━━━━━━━\u001b[0m\u001b[37m\u001b[0m \u001b[1m2s\u001b[0m 351ms/step - accuracy: 0.7930 - loss: 0.6528\n",
            "\u001b[1m3/3\u001b[0m \u001b[32m━━━━━━━━━━━━━━━━━━━━\u001b[0m\u001b[37m\u001b[0m \u001b[1m0s\u001b[0m 16ms/step - accuracy: 0.6422 - loss: 0.9985 \n",
            "CNN Test Accuracy: 0.81\n",
            "LSTM Test Accuracy: 0.61\n"
          ]
        }
      ]
    },
    {
      "cell_type": "code",
      "source": [
        "import matplotlib.pyplot as plt\n",
        "\n",
        "# Accuracy values (replace with your actual results)\n",
        "model_names = [\"CNN\", \"LSTM\", \"SVM\", \"XGBoost\"]\n",
        "accuracy_scores = [cnn_acc, lstm_acc, svm_accuracy, xgboost_accuracy]  # Make sure these are defined\n",
        "\n",
        "# Plot the bar chart\n",
        "plt.figure(figsize=(8, 6))\n",
        "plt.bar(model_names, accuracy_scores, color=['blue', 'green', 'red', 'purple'])\n",
        "\n",
        "# Labels and title\n",
        "plt.xlabel(\"Models\")\n",
        "plt.ylabel(\"Accuracy\")\n",
        "plt.title(\"Model Accuracy Comparison\")\n",
        "plt.ylim(0, 1)  # Accuracy ranges between 0 and 1\n",
        "plt.grid(axis=\"y\", linestyle=\"--\", alpha=0.7)\n",
        "\n",
        "# Show accuracy values on bars\n",
        "for i, acc in enumerate(accuracy_scores):\n",
        "    plt.text(i, acc + 0.02, f\"{acc:.2f}\", ha='center', fontsize=12)\n",
        "\n",
        "# Show plot\n",
        "plt.show()\n"
      ],
      "metadata": {
        "colab": {
          "base_uri": "https://localhost:8080/",
          "height": 564
        },
        "id": "2dHos6yq2S5X",
        "outputId": "0f2bafe9-298f-41b0-9743-47505addfe1b"
      },
      "execution_count": 48,
      "outputs": [
        {
          "output_type": "display_data",
          "data": {
            "text/plain": [
              "<Figure size 800x600 with 1 Axes>"
            ],
            "image/png": "[encoded data removed]"
          },
          "metadata": {}
        }
      ]
    },
    {
      "cell_type": "code",
      "source": [
        "import matplotlib.pyplot as plt\n",
        "import seaborn as sns\n",
        "\n",
        "# Accuracy values (replace with your actual results)\n",
        "model_names = [\"CNN\", \"LSTM\", \"SVM\", \"XGBoost\"]\n",
        "accuracy_scores = [0.81, 0.61, 0.70, 0.79]  # Replace with your actual accuracies\n",
        "\n",
        "# Set seaborn style\n",
        "sns.set_style(\"whitegrid\")\n",
        "plt.figure(figsize=(8, 6))\n",
        "\n",
        "# Bar chart with colors and edge color\n",
        "bars = plt.bar(model_names, accuracy_scores, color=['royalblue', 'seagreen', 'crimson', 'purple'], edgecolor='black', width=0.6)\n",
        "\n",
        "# Labels and title\n",
        "plt.xlabel(\"Models\", fontsize=14)\n",
        "plt.ylabel(\"Accuracy\", fontsize=14)\n",
        "plt.title(\"Model Accuracy Comparison\", fontsize=16, fontweight='bold')\n",
        "plt.ylim(0, 1)  # Accuracy ranges between 0 and 1\n",
        "plt.xticks(fontsize=12)\n",
        "plt.yticks(fontsize=12)\n",
        "\n",
        "# Show accuracy values on bars\n",
        "for bar in bars:\n",
        "    yval = bar.get_height()\n",
        "    plt.text(bar.get_x() + bar.get_width()/2, yval + 0.02, f\"{yval:.2f}\", ha='center', fontsize=12, fontweight='bold')\n",
        "\n",
        "# Show plot\n",
        "plt.show()\n"
      ],
      "metadata": {
        "colab": {
          "base_uri": "https://localhost:8080/",
          "height": 575
        },
        "id": "qz19hgOz4S5p",
        "outputId": "c48d8bae-68dd-4679-9bab-6857cef70510"
      },
      "execution_count": 49,
      "outputs": [
        {
          "output_type": "display_data",
          "data": {
            "text/plain": [
              "<Figure size 800x600 with 1 Axes>"
            ],
            "image/png": "[encoded data removed]"
          },
          "metadata": {}
        }
      ]
    }
  ]
}